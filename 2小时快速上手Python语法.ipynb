{
 "cells": [
  {
   "cell_type": "markdown",
   "id": "bf1adffb-9e5e-4bb8-b67c-056acbab4743",
   "metadata": {},
   "source": [
    "# 人生苦短，我用python——几小时快速上手Python语法\n",
    "\n",
    "## Python是什么？\n",
    "\n",
    "**Python简介一览：** [百度百科](https://baike.baidu.com/item/Python/407313?fr=aladdin#1)\n",
    "\n",
    "## 为什么学 Python？\n",
    "\n",
    "\n",
    "**知乎回答你：** [为什么要学 Python？](https://www.zhihu.com/question/25627959)\n",
    "\n",
    "**热度与趋势：** [2021年10月：Python在TIOBE榜单历史上首次排名第一](https://zhuanlan.zhihu.com/p/417777235)\n",
    "\n",
    "**Python 能做的事情很多：** [应用领域](https://baike.baidu.com/item/Python/407313?fr=aladdin#6)"
   ]
  },
  {
   "cell_type": "markdown",
   "id": "8e50dc2d-7f66-4401-8ff2-d91c7ecca2f9",
   "metadata": {},
   "source": [
    "### 数据爬虫"
   ]
  },
  {
   "cell_type": "code",
   "execution_count": 1,
   "id": "04282445-a882-4cd0-b4c2-2c58d0c216f6",
   "metadata": {},
   "outputs": [
    {
     "data": {
      "text/html": [
       "<div>\n",
       "<style scoped>\n",
       "    .dataframe tbody tr th:only-of-type {\n",
       "        vertical-align: middle;\n",
       "    }\n",
       "\n",
       "    .dataframe tbody tr th {\n",
       "        vertical-align: top;\n",
       "    }\n",
       "\n",
       "    .dataframe thead th {\n",
       "        text-align: right;\n",
       "    }\n",
       "</style>\n",
       "<table border=\"1\" class=\"dataframe\">\n",
       "  <thead>\n",
       "    <tr style=\"text-align: right;\">\n",
       "      <th></th>\n",
       "      <th>rank_num</th>\n",
       "      <th>movie_name</th>\n",
       "      <th>actors</th>\n",
       "      <th>scores</th>\n",
       "      <th>comments</th>\n",
       "      <th>release_time</th>\n",
       "      <th>inq</th>\n",
       "    </tr>\n",
       "  </thead>\n",
       "  <tbody>\n",
       "    <tr>\n",
       "      <th>0</th>\n",
       "      <td>1</td>\n",
       "      <td>肖申克的救赎</td>\n",
       "      <td>导演: 弗兰克·德拉邦特 Frank Darabont   主演: 蒂姆·罗宾斯 Tim R...</td>\n",
       "      <td>9.7</td>\n",
       "      <td>2523986</td>\n",
       "      <td>\\n                            1994 / 美国 / 犯罪 剧...</td>\n",
       "      <td>希望让人自由。</td>\n",
       "    </tr>\n",
       "    <tr>\n",
       "      <th>1</th>\n",
       "      <td>2</td>\n",
       "      <td>霸王别姬</td>\n",
       "      <td>导演: 陈凯歌 Kaige Chen   主演: 张国荣 Leslie Cheung / 张...</td>\n",
       "      <td>9.6</td>\n",
       "      <td>1876527</td>\n",
       "      <td>\\n                            1993 / 中国大陆 中国香港...</td>\n",
       "      <td>风华绝代。</td>\n",
       "    </tr>\n",
       "    <tr>\n",
       "      <th>2</th>\n",
       "      <td>3</td>\n",
       "      <td>阿甘正传</td>\n",
       "      <td>导演: 罗伯特·泽米吉斯 Robert Zemeckis   主演: 汤姆·汉克斯 Tom ...</td>\n",
       "      <td>9.5</td>\n",
       "      <td>1896298</td>\n",
       "      <td>\\n                            1994 / 美国 / 剧情 爱...</td>\n",
       "      <td>一部美国近现代史。</td>\n",
       "    </tr>\n",
       "    <tr>\n",
       "      <th>3</th>\n",
       "      <td>4</td>\n",
       "      <td>泰坦尼克号</td>\n",
       "      <td>导演: 詹姆斯·卡梅隆 James Cameron   主演: 莱昂纳多·迪卡普里奥 Leo...</td>\n",
       "      <td>9.4</td>\n",
       "      <td>1858086</td>\n",
       "      <td>\\n                            1997 / 美国 墨西哥 澳大...</td>\n",
       "      <td>失去的才是永恒的。</td>\n",
       "    </tr>\n",
       "    <tr>\n",
       "      <th>4</th>\n",
       "      <td>5</td>\n",
       "      <td>这个杀手不太冷</td>\n",
       "      <td>导演: 吕克·贝松 Luc Besson   主演: 让·雷诺 Jean Reno / 娜塔...</td>\n",
       "      <td>9.4</td>\n",
       "      <td>2056741</td>\n",
       "      <td>\\n                            1994 / 法国 美国 / 剧...</td>\n",
       "      <td>怪蜀黍和小萝莉不得不说的故事。</td>\n",
       "    </tr>\n",
       "    <tr>\n",
       "      <th>5</th>\n",
       "      <td>6</td>\n",
       "      <td>美丽人生</td>\n",
       "      <td>导演: 罗伯托·贝尼尼 Roberto Benigni   主演: 罗伯托·贝尼尼 Robe...</td>\n",
       "      <td>9.6</td>\n",
       "      <td>1163295</td>\n",
       "      <td>\\n                            1997 / 意大利 / 剧情 ...</td>\n",
       "      <td>最美的谎言。</td>\n",
       "    </tr>\n",
       "    <tr>\n",
       "      <th>6</th>\n",
       "      <td>7</td>\n",
       "      <td>千与千寻</td>\n",
       "      <td>导演: 宫崎骏 Hayao Miyazaki   主演: 柊瑠美 Rumi Hîragi /...</td>\n",
       "      <td>9.4</td>\n",
       "      <td>1977656</td>\n",
       "      <td>\\n                            2001 / 日本 / 剧情 动...</td>\n",
       "      <td>最好的宫崎骏，最好的久石让。</td>\n",
       "    </tr>\n",
       "    <tr>\n",
       "      <th>7</th>\n",
       "      <td>8</td>\n",
       "      <td>辛德勒的名单</td>\n",
       "      <td>导演: 史蒂文·斯皮尔伯格 Steven Spielberg   主演: 连姆·尼森 Lia...</td>\n",
       "      <td>9.5</td>\n",
       "      <td>970316</td>\n",
       "      <td>\\n                            1993 / 美国 / 剧情 历...</td>\n",
       "      <td>拯救一个人，就是拯救整个世界。</td>\n",
       "    </tr>\n",
       "    <tr>\n",
       "      <th>8</th>\n",
       "      <td>9</td>\n",
       "      <td>盗梦空间</td>\n",
       "      <td>导演: 克里斯托弗·诺兰 Christopher Nolan   主演: 莱昂纳多·迪卡普里...</td>\n",
       "      <td>9.3</td>\n",
       "      <td>1821224</td>\n",
       "      <td>\\n                            2010 / 美国 英国 / 剧...</td>\n",
       "      <td>诺兰给了我们一场无法盗取的梦。</td>\n",
       "    </tr>\n",
       "    <tr>\n",
       "      <th>9</th>\n",
       "      <td>10</td>\n",
       "      <td>忠犬八公的故事</td>\n",
       "      <td>导演: 莱塞·霍尔斯道姆 Lasse Hallström   主演: 理查·基尔 Richa...</td>\n",
       "      <td>9.4</td>\n",
       "      <td>1249724</td>\n",
       "      <td>\\n                            2009 / 美国 英国 / 剧...</td>\n",
       "      <td>永远都不能忘记你所爱的人。</td>\n",
       "    </tr>\n",
       "    <tr>\n",
       "      <th>10</th>\n",
       "      <td>11</td>\n",
       "      <td>星际穿越</td>\n",
       "      <td>导演: 克里斯托弗·诺兰 Christopher Nolan   主演: 马修·麦康纳 Ma...</td>\n",
       "      <td>9.4</td>\n",
       "      <td>1501480</td>\n",
       "      <td>\\n                            2014 / 美国 英国 加拿大...</td>\n",
       "      <td>爱是一种力量，让我们超越时空感知它的存在。</td>\n",
       "    </tr>\n",
       "    <tr>\n",
       "      <th>11</th>\n",
       "      <td>12</td>\n",
       "      <td>楚门的世界</td>\n",
       "      <td>导演: 彼得·威尔 Peter Weir   主演: 金·凯瑞 Jim Carrey / 劳...</td>\n",
       "      <td>9.3</td>\n",
       "      <td>1423324</td>\n",
       "      <td>\\n                            1998 / 美国 / 剧情 科...</td>\n",
       "      <td>如果再也不能见到你，祝你早安，午安，晚安。</td>\n",
       "    </tr>\n",
       "    <tr>\n",
       "      <th>12</th>\n",
       "      <td>13</td>\n",
       "      <td>海上钢琴师</td>\n",
       "      <td>导演: 朱塞佩·托纳多雷 Giuseppe Tornatore   主演: 蒂姆·罗斯 Ti...</td>\n",
       "      <td>9.3</td>\n",
       "      <td>1479761</td>\n",
       "      <td>\\n                            1998 / 意大利 / 剧情 ...</td>\n",
       "      <td>每个人都要走一条自己坚定了的路，就算是粉身碎骨。</td>\n",
       "    </tr>\n",
       "    <tr>\n",
       "      <th>13</th>\n",
       "      <td>14</td>\n",
       "      <td>三傻大闹宝莱坞</td>\n",
       "      <td>导演: 拉库马·希拉尼 Rajkumar Hirani   主演: 阿米尔·汗 Aamir ...</td>\n",
       "      <td>9.2</td>\n",
       "      <td>1656479</td>\n",
       "      <td>\\n                            2009 / 印度 / 剧情 喜...</td>\n",
       "      <td>英俊版憨豆，高情商版谢耳朵。</td>\n",
       "    </tr>\n",
       "    <tr>\n",
       "      <th>14</th>\n",
       "      <td>15</td>\n",
       "      <td>机器人总动员</td>\n",
       "      <td>导演: 安德鲁·斯坦顿 Andrew Stanton   主演: 本·贝尔特 Ben Bur...</td>\n",
       "      <td>9.3</td>\n",
       "      <td>1167041</td>\n",
       "      <td>\\n                            2008 / 美国 / 科幻 动...</td>\n",
       "      <td>小瓦力，大人生。</td>\n",
       "    </tr>\n",
       "    <tr>\n",
       "      <th>15</th>\n",
       "      <td>16</td>\n",
       "      <td>放牛班的春天</td>\n",
       "      <td>导演: 克里斯托夫·巴拉蒂 Christophe Barratier   主演: 热拉尔·朱...</td>\n",
       "      <td>9.3</td>\n",
       "      <td>1151769</td>\n",
       "      <td>\\n                            2004 / 法国 瑞士 德国 ...</td>\n",
       "      <td>天籁一般的童声，是最接近上帝的存在。</td>\n",
       "    </tr>\n",
       "    <tr>\n",
       "      <th>16</th>\n",
       "      <td>17</td>\n",
       "      <td>无间道</td>\n",
       "      <td>导演: 刘伟强 / 麦兆辉   主演: 刘德华 / 梁朝伟 / 黄秋生</td>\n",
       "      <td>9.3</td>\n",
       "      <td>1152049</td>\n",
       "      <td>\\n                            2002 / 中国香港 / 剧情...</td>\n",
       "      <td>香港电影史上永不过时的杰作。</td>\n",
       "    </tr>\n",
       "    <tr>\n",
       "      <th>17</th>\n",
       "      <td>18</td>\n",
       "      <td>疯狂动物城</td>\n",
       "      <td>导演: 拜伦·霍华德 Byron Howard / 瑞奇·摩尔 Rich Moore   主...</td>\n",
       "      <td>9.2</td>\n",
       "      <td>1653180</td>\n",
       "      <td>\\n                            2016 / 美国 / 喜剧 动...</td>\n",
       "      <td>迪士尼给我们营造的乌托邦就是这样，永远善良勇敢，永远出乎意料。</td>\n",
       "    </tr>\n",
       "    <tr>\n",
       "      <th>18</th>\n",
       "      <td>19</td>\n",
       "      <td>大话西游之大圣娶亲</td>\n",
       "      <td>导演: 刘镇伟 Jeffrey Lau   主演: 周星驰 Stephen Chow / 吴...</td>\n",
       "      <td>9.2</td>\n",
       "      <td>1351833</td>\n",
       "      <td>\\n                            1995 / 中国香港 中国大陆...</td>\n",
       "      <td>一生所爱。</td>\n",
       "    </tr>\n",
       "    <tr>\n",
       "      <th>19</th>\n",
       "      <td>20</td>\n",
       "      <td>熔炉</td>\n",
       "      <td>导演: 黄东赫 Dong-hyuk Hwang   主演: 孔侑 Yoo Gong / 郑有...</td>\n",
       "      <td>9.3</td>\n",
       "      <td>822298</td>\n",
       "      <td>\\n                            2011 / 韩国 / 剧情\\n...</td>\n",
       "      <td>我们一路奋战不是为了改变世界，而是为了不让世界改变我们。</td>\n",
       "    </tr>\n",
       "    <tr>\n",
       "      <th>20</th>\n",
       "      <td>21</td>\n",
       "      <td>教父</td>\n",
       "      <td>导演: 弗朗西斯·福特·科波拉 Francis Ford Coppola   主演: 马龙·...</td>\n",
       "      <td>9.3</td>\n",
       "      <td>828122</td>\n",
       "      <td>\\n                            1972 / 美国 / 剧情 犯...</td>\n",
       "      <td>千万不要记恨你的对手，这样会让你失去理智。</td>\n",
       "    </tr>\n",
       "    <tr>\n",
       "      <th>21</th>\n",
       "      <td>22</td>\n",
       "      <td>当幸福来敲门</td>\n",
       "      <td>导演: 加布里尔·穆奇诺 Gabriele Muccino   主演: 威尔·史密斯 Wil...</td>\n",
       "      <td>9.2</td>\n",
       "      <td>1339198</td>\n",
       "      <td>\\n                            2006 / 美国 / 剧情 传...</td>\n",
       "      <td>平民励志片。</td>\n",
       "    </tr>\n",
       "    <tr>\n",
       "      <th>22</th>\n",
       "      <td>23</td>\n",
       "      <td>控方证人</td>\n",
       "      <td>导演: 比利·怀尔德 Billy Wilder   主演: 泰隆·鲍华 Tyrone Pow...</td>\n",
       "      <td>9.6</td>\n",
       "      <td>419990</td>\n",
       "      <td>\\n                            1957 / 美国 / 剧情 犯...</td>\n",
       "      <td>比利·怀德满分作品。</td>\n",
       "    </tr>\n",
       "    <tr>\n",
       "      <th>23</th>\n",
       "      <td>24</td>\n",
       "      <td>龙猫</td>\n",
       "      <td>导演: 宫崎骏 Hayao Miyazaki   主演: 日高法子 Noriko Hidak...</td>\n",
       "      <td>9.2</td>\n",
       "      <td>1116708</td>\n",
       "      <td>\\n                            1988 / 日本 / 动画 奇...</td>\n",
       "      <td>人人心中都有个龙猫，童年就永远不会消失。</td>\n",
       "    </tr>\n",
       "    <tr>\n",
       "      <th>24</th>\n",
       "      <td>25</td>\n",
       "      <td>怦然心动</td>\n",
       "      <td>导演: 罗伯·莱纳 Rob Reiner   主演: 玛德琳·卡罗尔 Madeline Ca...</td>\n",
       "      <td>9.1</td>\n",
       "      <td>1601025</td>\n",
       "      <td>\\n                            2010 / 美国 / 剧情 喜...</td>\n",
       "      <td>真正的幸福是来自内心深处。</td>\n",
       "    </tr>\n",
       "  </tbody>\n",
       "</table>\n",
       "</div>"
      ],
      "text/plain": [
       "   rank_num movie_name                                             actors  \\\n",
       "0         1     肖申克的救赎  导演: 弗兰克·德拉邦特 Frank Darabont   主演: 蒂姆·罗宾斯 Tim R...   \n",
       "1         2       霸王别姬  导演: 陈凯歌 Kaige Chen   主演: 张国荣 Leslie Cheung / 张...   \n",
       "2         3       阿甘正传  导演: 罗伯特·泽米吉斯 Robert Zemeckis   主演: 汤姆·汉克斯 Tom ...   \n",
       "3         4      泰坦尼克号  导演: 詹姆斯·卡梅隆 James Cameron   主演: 莱昂纳多·迪卡普里奥 Leo...   \n",
       "4         5    这个杀手不太冷  导演: 吕克·贝松 Luc Besson   主演: 让·雷诺 Jean Reno / 娜塔...   \n",
       "5         6       美丽人生  导演: 罗伯托·贝尼尼 Roberto Benigni   主演: 罗伯托·贝尼尼 Robe...   \n",
       "6         7       千与千寻  导演: 宫崎骏 Hayao Miyazaki   主演: 柊瑠美 Rumi Hîragi /...   \n",
       "7         8     辛德勒的名单  导演: 史蒂文·斯皮尔伯格 Steven Spielberg   主演: 连姆·尼森 Lia...   \n",
       "8         9       盗梦空间  导演: 克里斯托弗·诺兰 Christopher Nolan   主演: 莱昂纳多·迪卡普里...   \n",
       "9        10    忠犬八公的故事  导演: 莱塞·霍尔斯道姆 Lasse Hallström   主演: 理查·基尔 Richa...   \n",
       "10       11       星际穿越  导演: 克里斯托弗·诺兰 Christopher Nolan   主演: 马修·麦康纳 Ma...   \n",
       "11       12      楚门的世界  导演: 彼得·威尔 Peter Weir   主演: 金·凯瑞 Jim Carrey / 劳...   \n",
       "12       13      海上钢琴师  导演: 朱塞佩·托纳多雷 Giuseppe Tornatore   主演: 蒂姆·罗斯 Ti...   \n",
       "13       14    三傻大闹宝莱坞  导演: 拉库马·希拉尼 Rajkumar Hirani   主演: 阿米尔·汗 Aamir ...   \n",
       "14       15     机器人总动员  导演: 安德鲁·斯坦顿 Andrew Stanton   主演: 本·贝尔特 Ben Bur...   \n",
       "15       16     放牛班的春天  导演: 克里斯托夫·巴拉蒂 Christophe Barratier   主演: 热拉尔·朱...   \n",
       "16       17        无间道                导演: 刘伟强 / 麦兆辉   主演: 刘德华 / 梁朝伟 / 黄秋生   \n",
       "17       18      疯狂动物城  导演: 拜伦·霍华德 Byron Howard / 瑞奇·摩尔 Rich Moore   主...   \n",
       "18       19  大话西游之大圣娶亲  导演: 刘镇伟 Jeffrey Lau   主演: 周星驰 Stephen Chow / 吴...   \n",
       "19       20         熔炉  导演: 黄东赫 Dong-hyuk Hwang   主演: 孔侑 Yoo Gong / 郑有...   \n",
       "20       21         教父  导演: 弗朗西斯·福特·科波拉 Francis Ford Coppola   主演: 马龙·...   \n",
       "21       22     当幸福来敲门  导演: 加布里尔·穆奇诺 Gabriele Muccino   主演: 威尔·史密斯 Wil...   \n",
       "22       23       控方证人  导演: 比利·怀尔德 Billy Wilder   主演: 泰隆·鲍华 Tyrone Pow...   \n",
       "23       24         龙猫  导演: 宫崎骏 Hayao Miyazaki   主演: 日高法子 Noriko Hidak...   \n",
       "24       25       怦然心动  导演: 罗伯·莱纳 Rob Reiner   主演: 玛德琳·卡罗尔 Madeline Ca...   \n",
       "\n",
       "   scores comments                                       release_time  \\\n",
       "0     9.7  2523986  \\n                            1994 / 美国 / 犯罪 剧...   \n",
       "1     9.6  1876527  \\n                            1993 / 中国大陆 中国香港...   \n",
       "2     9.5  1896298  \\n                            1994 / 美国 / 剧情 爱...   \n",
       "3     9.4  1858086  \\n                            1997 / 美国 墨西哥 澳大...   \n",
       "4     9.4  2056741  \\n                            1994 / 法国 美国 / 剧...   \n",
       "5     9.6  1163295  \\n                            1997 / 意大利 / 剧情 ...   \n",
       "6     9.4  1977656  \\n                            2001 / 日本 / 剧情 动...   \n",
       "7     9.5   970316  \\n                            1993 / 美国 / 剧情 历...   \n",
       "8     9.3  1821224  \\n                            2010 / 美国 英国 / 剧...   \n",
       "9     9.4  1249724  \\n                            2009 / 美国 英国 / 剧...   \n",
       "10    9.4  1501480  \\n                            2014 / 美国 英国 加拿大...   \n",
       "11    9.3  1423324  \\n                            1998 / 美国 / 剧情 科...   \n",
       "12    9.3  1479761  \\n                            1998 / 意大利 / 剧情 ...   \n",
       "13    9.2  1656479  \\n                            2009 / 印度 / 剧情 喜...   \n",
       "14    9.3  1167041  \\n                            2008 / 美国 / 科幻 动...   \n",
       "15    9.3  1151769  \\n                            2004 / 法国 瑞士 德国 ...   \n",
       "16    9.3  1152049  \\n                            2002 / 中国香港 / 剧情...   \n",
       "17    9.2  1653180  \\n                            2016 / 美国 / 喜剧 动...   \n",
       "18    9.2  1351833  \\n                            1995 / 中国香港 中国大陆...   \n",
       "19    9.3   822298  \\n                            2011 / 韩国 / 剧情\\n...   \n",
       "20    9.3   828122  \\n                            1972 / 美国 / 剧情 犯...   \n",
       "21    9.2  1339198  \\n                            2006 / 美国 / 剧情 传...   \n",
       "22    9.6   419990  \\n                            1957 / 美国 / 剧情 犯...   \n",
       "23    9.2  1116708  \\n                            1988 / 日本 / 动画 奇...   \n",
       "24    9.1  1601025  \\n                            2010 / 美国 / 剧情 喜...   \n",
       "\n",
       "                                inq  \n",
       "0                           希望让人自由。  \n",
       "1                             风华绝代。  \n",
       "2                         一部美国近现代史。  \n",
       "3                        失去的才是永恒的。   \n",
       "4                   怪蜀黍和小萝莉不得不说的故事。  \n",
       "5                            最美的谎言。  \n",
       "6                   最好的宫崎骏，最好的久石让。   \n",
       "7                   拯救一个人，就是拯救整个世界。  \n",
       "8                   诺兰给了我们一场无法盗取的梦。  \n",
       "9                     永远都不能忘记你所爱的人。  \n",
       "10            爱是一种力量，让我们超越时空感知它的存在。  \n",
       "11            如果再也不能见到你，祝你早安，午安，晚安。  \n",
       "12        每个人都要走一条自己坚定了的路，就算是粉身碎骨。   \n",
       "13                   英俊版憨豆，高情商版谢耳朵。  \n",
       "14                         小瓦力，大人生。  \n",
       "15              天籁一般的童声，是最接近上帝的存在。   \n",
       "16                   香港电影史上永不过时的杰作。  \n",
       "17  迪士尼给我们营造的乌托邦就是这样，永远善良勇敢，永远出乎意料。  \n",
       "18                            一生所爱。  \n",
       "19     我们一路奋战不是为了改变世界，而是为了不让世界改变我们。  \n",
       "20            千万不要记恨你的对手，这样会让你失去理智。  \n",
       "21                          平民励志片。   \n",
       "22                       比利·怀德满分作品。  \n",
       "23             人人心中都有个龙猫，童年就永远不会消失。  \n",
       "24                    真正的幸福是来自内心深处。  "
      ]
     },
     "execution_count": 1,
     "metadata": {},
     "output_type": "execute_result"
    }
   ],
   "source": [
    "import pandas as pd \n",
    "import requests,re\n",
    "from lxml import etree\n",
    "\n",
    "def get_one_paeg(url):\n",
    "    headers = {'user-agent': 'Mozilla/5.0 (Windows NT 10.0; Win64; x64) AppleWebKit/537.36 (KHTML, like Gecko) Chrome/96.0.4664.110 Safari/537.36 Edg/96.0.1054.62'} \n",
    "    res = requests.get(url, headers=headers) \n",
    "    html = etree.HTML(res.text)\n",
    "\n",
    "    rank_num = html.xpath('//*[@id=\"content\"]/div/div[1]/ol/li/div/div[1]/em/text()')\n",
    "    movie_name = html.xpath('//*[@id=\"content\"]/div/div[1]/ol/li/div/div[2]/div[1]/a/span[1]/text()')\n",
    "    actors = [i.strip() for i in html.xpath('//*[@id=\"content\"]/div/div[1]/ol/li/div/div[2]/div[2]/p[1]/text()[1]')]\n",
    "    scores = html.xpath('//*[@id=\"content\"]/div/div[1]/ol/li/div/div[2]/div[2]/div/span[2]/text()')\n",
    "    comments = [i.strip('人评价') for i in html.xpath('//*[@id=\"content\"]/div/div[1]/ol/li/div/div[2]/div[2]/div/span[4]/text()')]\n",
    "    release_time = html.xpath('//*[@id=\"content\"]/div/div[1]/ol/li/div/div[2]/div[2]/p[1]/text()[2]')\n",
    "    inq = html.xpath('//*[@id=\"content\"]/div/div[1]/ol/li/div/div[2]/div[2]/p[2]/span/text()')\n",
    "    \n",
    "    df = pd.DataFrame({'rank_num': rank_num,'movie_name': movie_name,'actors': actors,'scores': scores,'comments': comments,'release_time': release_time,'inq': inq,})\n",
    "    return df\n",
    "\n",
    "def get_10_page(): \n",
    "    df_all = pd.DataFrame()\n",
    "    for i in range(1):\n",
    "        url = 'https://movie.douban.com/top250?start={}&filter='.format((i-1)*25)\n",
    "        df_one = get_one_paeg(url)\n",
    "        df_all = df_all.append(df_one, ignore_index=True)\n",
    "    return df_all\n",
    "\n",
    "df_all = get_10_page()\n",
    "df_all"
   ]
  },
  {
   "cell_type": "markdown",
   "id": "0bde449b-927e-45bb-923d-33efcb6d51c8",
   "metadata": {},
   "source": [
    "### 数据处理"
   ]
  },
  {
   "cell_type": "code",
   "execution_count": null,
   "id": "eb798f33-1a8b-4221-b66d-ea3f85a1a695",
   "metadata": {},
   "outputs": [],
   "source": [
    "import os # 批量合并表格\n",
    "import pandas as pd\n",
    "df = pd.DataFrame()\n",
    "for i in os.listdir('./Excel_Files/files/'):\n",
    "    print(i)\n",
    "    df = df.append(pd.read_csv('./Excel_Files/files/' + i))\n",
    "# data = pd.concat(fs)\n",
    "print('已经全部完成')\n",
    "df"
   ]
  },
  {
   "cell_type": "markdown",
   "id": "4f172dab-ba6a-4ab6-9cc7-13c142ad9960",
   "metadata": {},
   "source": [
    "### 数据可视化"
   ]
  },
  {
   "cell_type": "code",
   "execution_count": 1,
   "id": "fc42697d-d121-49bf-8a53-3f190b9c4b6a",
   "metadata": {},
   "outputs": [
    {
     "data": {
      "text/html": [
       "\n",
       "<script>\n",
       "    require.config({\n",
       "        paths: {\n",
       "            'echarts':'https://assets.pyecharts.org/assets/echarts.min'\n",
       "        }\n",
       "    });\n",
       "</script>\n",
       "\n",
       "        <div id=\"5fee28b3a9ec455b8a10627a2c8371d5\" style=\"width:1350px; height:750px;\"></div>\n",
       "\n",
       "<script>\n",
       "        require(['echarts'], function(echarts) {\n",
       "                var chart_5fee28b3a9ec455b8a10627a2c8371d5 = echarts.init(\n",
       "                    document.getElementById('5fee28b3a9ec455b8a10627a2c8371d5'), 'white', {renderer: 'canvas'});\n",
       "                var option_5fee28b3a9ec455b8a10627a2c8371d5 = {\n",
       "    \"animation\": true,\n",
       "    \"animationThreshold\": 2000,\n",
       "    \"animationDuration\": 1000,\n",
       "    \"animationEasing\": \"cubicOut\",\n",
       "    \"animationDelay\": 0,\n",
       "    \"animationDurationUpdate\": 300,\n",
       "    \"animationEasingUpdate\": \"cubicOut\",\n",
       "    \"animationDelayUpdate\": 0,\n",
       "    \"color\": [\n",
       "        \"#FAE927\",\n",
       "        \"#E9E416\",\n",
       "        \"#C9DA36\",\n",
       "        \"#9ECB3C\",\n",
       "        \"#6DBC49\",\n",
       "        \"#37B44E\",\n",
       "        \"#3DBA78\",\n",
       "        \"#14ADCF\",\n",
       "        \"#209AC9\",\n",
       "        \"#1E91CA\",\n",
       "        \"#2C6BA0\",\n",
       "        \"#2B55A1\",\n",
       "        \"#2D3D8E\",\n",
       "        \"#44388E\",\n",
       "        \"#6A368B#7D3990\",\n",
       "        \"#A63F98\",\n",
       "        \"#C31C88\",\n",
       "        \"#D52178\",\n",
       "        \"#D5225B\",\n",
       "        \"#D02C2A\",\n",
       "        \"#D44C2D\",\n",
       "        \"#F57A34\",\n",
       "        \"#FA8F2F\",\n",
       "        \"#D99D21\",\n",
       "        \"#CF7B25\",\n",
       "        \"#CF7B25\",\n",
       "        \"#CF7B25\"\n",
       "    ],\n",
       "    \"series\": [\n",
       "        {\n",
       "            \"type\": \"pie\",\n",
       "            \"clockwise\": true,\n",
       "            \"data\": [\n",
       "                {\n",
       "                    \"name\": \"\\u897f\\u85cf\",\n",
       "                    \"value\": 42\n",
       "                },\n",
       "                {\n",
       "                    \"name\": \"\\u6fb3\\u95e8\",\n",
       "                    \"value\": 37\n",
       "                },\n",
       "                {\n",
       "                    \"name\": \"\\u9752\\u6d77\",\n",
       "                    \"value\": 35\n",
       "                },\n",
       "                {\n",
       "                    \"name\": \"\\u8d35\\u5dde\",\n",
       "                    \"value\": 24\n",
       "                },\n",
       "                {\n",
       "                    \"name\": \"\\u65b0\\u7586\",\n",
       "                    \"value\": 23\n",
       "                },\n",
       "                {\n",
       "                    \"name\": \"\\u6c5f\\u82cf\",\n",
       "                    \"value\": 22\n",
       "                },\n",
       "                {\n",
       "                    \"name\": \"\\u5185\\u8499\\u53e4\",\n",
       "                    \"value\": 22\n",
       "                },\n",
       "                {\n",
       "                    \"name\": \"\\u9655\\u897f\",\n",
       "                    \"value\": 21\n",
       "                },\n",
       "                {\n",
       "                    \"name\": \"\\u6d77\\u5357\",\n",
       "                    \"value\": 21\n",
       "                },\n",
       "                {\n",
       "                    \"name\": \"\\u4e91\\u5357\",\n",
       "                    \"value\": 20\n",
       "                },\n",
       "                {\n",
       "                    \"name\": \"\\u5409\\u6797\",\n",
       "                    \"value\": 17\n",
       "                },\n",
       "                {\n",
       "                    \"name\": \"\\u5c71\\u897f\",\n",
       "                    \"value\": 16\n",
       "                },\n",
       "                {\n",
       "                    \"name\": \"\\u91cd\\u5e86\",\n",
       "                    \"value\": 16\n",
       "                },\n",
       "                {\n",
       "                    \"name\": \"\\u5e7f\\u897f\",\n",
       "                    \"value\": 16\n",
       "                },\n",
       "                {\n",
       "                    \"name\": \"\\u798f\\u5efa\",\n",
       "                    \"value\": 14\n",
       "                },\n",
       "                {\n",
       "                    \"name\": \"\\u6c5f\\u897f\",\n",
       "                    \"value\": 13\n",
       "                },\n",
       "                {\n",
       "                    \"name\": \"\\u5b89\\u5fbd\",\n",
       "                    \"value\": 13\n",
       "                },\n",
       "                {\n",
       "                    \"name\": \"\\u6cb3\\u5317\",\n",
       "                    \"value\": 13\n",
       "                },\n",
       "                {\n",
       "                    \"name\": \"\\u5929\\u6d25\",\n",
       "                    \"value\": 13\n",
       "                },\n",
       "                {\n",
       "                    \"name\": \"\\u6e56\\u5357\",\n",
       "                    \"value\": 12\n",
       "                },\n",
       "                {\n",
       "                    \"name\": \"\\u8fbd\\u5b81\",\n",
       "                    \"value\": 9\n",
       "                },\n",
       "                {\n",
       "                    \"name\": \"\\u5b81\\u590f\",\n",
       "                    \"value\": 8\n",
       "                },\n",
       "                {\n",
       "                    \"name\": \"\\u6d59\\u6c5f\",\n",
       "                    \"value\": 7\n",
       "                },\n",
       "                {\n",
       "                    \"name\": \"\\u56db\\u5ddd\",\n",
       "                    \"value\": 7\n",
       "                },\n",
       "                {\n",
       "                    \"name\": \"\\u4e0a\\u6d77\",\n",
       "                    \"value\": 1\n",
       "                },\n",
       "                {\n",
       "                    \"name\": \"\\u9ed1\\u9f99\\u6c5f\",\n",
       "                    \"value\": 1\n",
       "                },\n",
       "                {\n",
       "                    \"name\": \"\\u5317\\u4eac\",\n",
       "                    \"value\": 1\n",
       "                }\n",
       "            ],\n",
       "            \"radius\": [\n",
       "                \"30%\",\n",
       "                \"135%\"\n",
       "            ],\n",
       "            \"center\": [\n",
       "                \"50%\",\n",
       "                \"65%\"\n",
       "            ],\n",
       "            \"roseType\": \"area\",\n",
       "            \"label\": {\n",
       "                \"show\": true,\n",
       "                \"position\": \"inside\",\n",
       "                \"margin\": 8,\n",
       "                \"fontSize\": 12,\n",
       "                \"fontStyle\": \"italic\",\n",
       "                \"fontWeight\": \"bold\",\n",
       "                \"fontFamily\": \"Microsoft YaHei\",\n",
       "                \"formatter\": \"{b}:{c}\\u5929\"\n",
       "            },\n",
       "            \"rippleEffect\": {\n",
       "                \"show\": true,\n",
       "                \"brushType\": \"stroke\",\n",
       "                \"scale\": 2.5,\n",
       "                \"period\": 4\n",
       "            }\n",
       "        }\n",
       "    ],\n",
       "    \"legend\": [\n",
       "        {\n",
       "            \"data\": [\n",
       "                \"\\u897f\\u85cf\",\n",
       "                \"\\u6fb3\\u95e8\",\n",
       "                \"\\u9752\\u6d77\",\n",
       "                \"\\u8d35\\u5dde\",\n",
       "                \"\\u65b0\\u7586\",\n",
       "                \"\\u6c5f\\u82cf\",\n",
       "                \"\\u5185\\u8499\\u53e4\",\n",
       "                \"\\u9655\\u897f\",\n",
       "                \"\\u6d77\\u5357\",\n",
       "                \"\\u4e91\\u5357\",\n",
       "                \"\\u5409\\u6797\",\n",
       "                \"\\u5c71\\u897f\",\n",
       "                \"\\u91cd\\u5e86\",\n",
       "                \"\\u5e7f\\u897f\",\n",
       "                \"\\u798f\\u5efa\",\n",
       "                \"\\u6c5f\\u897f\",\n",
       "                \"\\u5b89\\u5fbd\",\n",
       "                \"\\u6cb3\\u5317\",\n",
       "                \"\\u5929\\u6d25\",\n",
       "                \"\\u6e56\\u5357\",\n",
       "                \"\\u8fbd\\u5b81\",\n",
       "                \"\\u5b81\\u590f\",\n",
       "                \"\\u6d59\\u6c5f\",\n",
       "                \"\\u56db\\u5ddd\",\n",
       "                \"\\u4e0a\\u6d77\",\n",
       "                \"\\u9ed1\\u9f99\\u6c5f\",\n",
       "                \"\\u5317\\u4eac\"\n",
       "            ],\n",
       "            \"selected\": {},\n",
       "            \"show\": false,\n",
       "            \"padding\": 5,\n",
       "            \"itemGap\": 10,\n",
       "            \"itemWidth\": 25,\n",
       "            \"itemHeight\": 14\n",
       "        }\n",
       "    ],\n",
       "    \"tooltip\": {\n",
       "        \"show\": true,\n",
       "        \"trigger\": \"item\",\n",
       "        \"triggerOn\": \"mousemove|click\",\n",
       "        \"axisPointer\": {\n",
       "            \"type\": \"line\"\n",
       "        },\n",
       "        \"showContent\": true,\n",
       "        \"alwaysShowContent\": false,\n",
       "        \"showDelay\": 0,\n",
       "        \"hideDelay\": 100,\n",
       "        \"textStyle\": {\n",
       "            \"fontSize\": 14\n",
       "        },\n",
       "        \"borderWidth\": 0,\n",
       "        \"padding\": 5\n",
       "    },\n",
       "    \"title\": [\n",
       "        {\n",
       "            \"text\": \"\\t\\t\\t\\t\\t\\t\\t\\u591a\\u7701\\u5e02\\n\\u786e\\u8bca\\u75c5\\u4f8b\\u8fde\\u7eed\\u591a\\u65e5\",\n",
       "            \"subtext\": \"\\t\\t\\t\\u96f6\\u65b0\\u589e\",\n",
       "            \"left\": \"42.5%\",\n",
       "            \"right\": \"50%\",\n",
       "            \"top\": \"60%\",\n",
       "            \"bottom\": \"50%\",\n",
       "            \"padding\": 5,\n",
       "            \"itemGap\": 10,\n",
       "            \"textStyle\": {\n",
       "                \"fontSize\": 25\n",
       "            },\n",
       "            \"subtextStyle\": {\n",
       "                \"fontStyle\": \"normal\",\n",
       "                \"fontFamily\": \"monospace\",\n",
       "                \"fontSize\": 30,\n",
       "                \"backgroundColor\": \"red\",\n",
       "                \"rich\": {\n",
       "                    \"color\": \"red\"\n",
       "                }\n",
       "            }\n",
       "        }\n",
       "    ]\n",
       "};\n",
       "                chart_5fee28b3a9ec455b8a10627a2c8371d5.setOption(option_5fee28b3a9ec455b8a10627a2c8371d5);\n",
       "        });\n",
       "    </script>\n"
      ],
      "text/plain": [
       "<pyecharts.render.display.HTML at 0x71374f0>"
      ]
     },
     "execution_count": 1,
     "metadata": {},
     "output_type": "execute_result"
    }
   ],
   "source": [
    "# 使用pyecharts绘制南丁格尔玫瑰图\n",
    "\n",
    "# 导入包\n",
    "from pyecharts.charts import Pie\n",
    "from pyecharts import options as opts\n",
    "\n",
    "# 准备数据：省份和对应的连续多日疫情零新增数量、颜色序列\n",
    "provinces = ['西藏', '澳门', '青海', '贵州', '新疆',\n",
    "             '江苏', '内蒙古', '陕西', '海南', '云南',\n",
    "             '吉林', '山西', '重庆', '广西', '福建',\n",
    "             '江西', '安徽', '河北', '天津', '湖南',\n",
    "             '辽宁', '宁夏', '浙江', '四川', '上海',\n",
    "             '黑龙江', '北京']\n",
    "number = [42, 37, 35, 24, 23, 22, 22, 21, 21, 20, 17, 16, 16,\n",
    "       16, 14, 13, 13, 13, 13, 12, 9, 8, 7, 7, 1, 1, 1]\n",
    "color_series = ['#FAE927','#E9E416','#C9DA36','#9ECB3C','#6DBC49',\n",
    "              '#37B44E','#3DBA78','#14ADCF','#209AC9','#1E91CA',\n",
    "              '#2C6BA0','#2B55A1','#2D3D8E','#44388E','#6A368B'\n",
    "              '#7D3990','#A63F98','#C31C88','#D52178','#D5225B',\n",
    "              '#D02C2A','#D44C2D','#F57A34','#FA8F2F','#D99D21',\n",
    "              '#CF7B25','#CF7B25','#CF7B25']\n",
    "\n",
    "# 创建饼图\n",
    "pie = Pie(init_opts=opts.InitOpts(width='1350px', height='750px'))\n",
    "\n",
    "# 添加数据\n",
    "pie.add(\"\", [list(z) for z in zip(provinces, number)],\n",
    "        radius=[\"30%\", \"135%\"],\n",
    "        center=[\"50%\", \"65%\"],\n",
    "        rosetype=\"area\"\n",
    "        )\n",
    "\n",
    "# 设置全局配置\n",
    "pie.set_global_opts(title_opts=opts.TitleOpts(title='\\t\\t\\t\\t\\t\\t\\t多省市\\n确诊病例连续多日',\n",
    "                                              subtitle='\\t\\t\\t零新增',\n",
    "                                              pos_left='42.5%', pos_right='50%',\n",
    "                                              pos_top='60%', pos_bottom='50%',\n",
    "                                              title_textstyle_opts=opts.TextStyleOpts(font_size=25),\n",
    "                                              subtitle_textstyle_opts=opts.TextStyleOpts(font_size=30,\n",
    "                                                                                         font_family='monospace',\n",
    "                                                                                         font_style='normal',\n",
    "                                                                                         background_color='red',\n",
    "                                                                                         rich={'color': 'red'})\n",
    "                                              ),\n",
    "                    legend_opts=opts.LegendOpts(is_show=False)\n",
    "                   )\n",
    "\n",
    "# 设置系列配置和颜色\n",
    "pie.set_series_opts(label_opts=opts.LabelOpts(\n",
    "                    is_show=True, position=\"inside\", font_size=12,\n",
    "                    formatter=\"{b}:{c}天\", font_style=\"italic\",\n",
    "                    font_weight=\"bold\", font_family=\"Microsoft YaHei\"\n",
    "                                              )\n",
    "                    )\n",
    "\n",
    "pie.set_colors(color_series)\n",
    "\n",
    "# 在网页生成图片\n",
    "# pie.render('南丁格尔玫瑰图.html') \n",
    "pie.render_notebook()"
   ]
  },
  {
   "cell_type": "markdown",
   "id": "6be58eac-3721-437a-9619-0d840f76adbd",
   "metadata": {},
   "source": [
    "### 数据挖掘/分析"
   ]
  },
  {
   "cell_type": "code",
   "execution_count": null,
   "id": "cda76e5b-421d-4c90-b0a6-7bb0e0321b66",
   "metadata": {},
   "outputs": [],
   "source": [
    "from sklearn.datasets import load_iris\n",
    "from sklearn import tree\n",
    "import graphviz\n",
    "from sklearn.tree import DecisionTreeClassifier\n",
    "\n",
    "iris = load_iris()\n",
    "\n",
    "# 建立决策树\n",
    "clf = DecisionTreeClassifier(criterion='entropy', max_depth=3) \n",
    "clf = clf.fit(iris.data, iris.target)\n",
    "\n",
    "# 可视化\n",
    "# 决策树可视化\n",
    "dot_data = tree.export_graphviz(decision_tree=clf,\n",
    "                                 out_file=None, \n",
    "                                 feature_names=iris.feature_names,\n",
    "                                 class_names=iris.target_names, \n",
    "                                 filled=True,\n",
    "                                 rounded=True\n",
    "                                )\n",
    "graph = graphviz.Source(dot_data)\n",
    "graph"
   ]
  },
  {
   "cell_type": "markdown",
   "id": "32b92ee8-a254-426b-97e2-00a11092205c",
   "metadata": {},
   "source": [
    "### 自动化办公：一样的工作，你要花1小时，我只要 10 秒钟"
   ]
  },
  {
   "cell_type": "code",
   "execution_count": null,
   "id": "db87ac44-b437-4c8e-834c-dae985441858",
   "metadata": {},
   "outputs": [],
   "source": [
    "from docx import Document\n",
    "import xlrd\n",
    "import pandas as pd\n",
    "\n",
    "\n",
    "def change_text(old_text, new_text):\n",
    "    all_paragraphs = document.paragraphs\n",
    "    for paragraph in all_paragraphs:\n",
    "        for run in paragraph.runs:\n",
    "            run_text = run.text.replace(old_text, new_text)\n",
    "            run.text = run_text\n",
    "\n",
    "    all_tables = document.tables\n",
    "    for table in all_tables:\n",
    "        for row in table.rows:\n",
    "            for cell in row.cells:\n",
    "                cell_text = cell.text.replace(old_text, new_text)\n",
    "                cell.text = cell_text\n",
    "\n",
    "\n",
    "xlsx = xlrd.open_workbook('Excel_Files/合同信息表.xlsx')\n",
    "sheet = xlsx.sheet_by_index(0)\n",
    "\n",
    "for table_row in range(1, sheet.nrows):\n",
    "    document = Document(\"Word_Files/修改模板.docx\")\n",
    "    for table_col in range(0, sheet.ncols):\n",
    "        change_text(str(sheet.cell_value(0, table_col)), str(sheet.cell_value(table_row, table_col)))\n",
    "\n",
    "    document.save(\"Word_Files/%s合同.docx\" % str(sheet.cell_value(table_row, 2)))\n",
    "    print(\"%s合同完成\" % str(sheet.cell_value(table_row, 2)))"
   ]
  },
  {
   "cell_type": "markdown",
   "id": "38e87bba-072b-4049-bb6a-a2830916fefc",
   "metadata": {},
   "source": [
    "## 学习目的\n",
    "\n",
    "希望通过简单的入门学习，你会：\n",
    "\n",
    "    1、 掌握基本的python语法，并编写简单的python程序\n",
    "    2、 可以阅读别人写的python代码\n",
    "    3、 编写简单的爬虫\n",
    "    4、 进行基本的数据分析"
   ]
  },
  {
   "cell_type": "markdown",
   "id": "ec90f4df-d47f-492e-b317-2b152c41ad91",
   "metadata": {},
   "source": [
    "## 机器学习需要：\n",
    "    1、 数学理论知识  (统计、线性代数、微积分 。。。)\n",
    "    2、 编程能力（python)"
   ]
  },
  {
   "cell_type": "markdown",
   "id": "1085ebc8-49a2-4396-88dd-420287dc7133",
   "metadata": {},
   "source": [
    "## python的特性\n",
    "\n",
    "[百度百科](https://baike.baidu.com/item/Python/407313?fr=aladdin#2)\n",
    "\n",
    "    1、python语法简单，容易理解，容易学习\n",
    "    2、跨平台，可在windows/linux/mac os等系统上运行\n",
    "    3、可以做网站、爬虫、大数据处理、机器学习\n",
    "    4、拥有强大、丰富的第三方库  numpy、pandas ..."
   ]
  },
  {
   "cell_type": "markdown",
   "id": "ffb9e20a",
   "metadata": {},
   "source": [
    "# 几小时快速上手Python\n",
    "\n",
    "## 简单尝试"
   ]
  },
  {
   "cell_type": "code",
   "execution_count": 6,
   "id": "7e465c69-de91-477a-a9ed-74fc21b612d7",
   "metadata": {},
   "outputs": [
    {
     "name": "stdout",
     "output_type": "stream",
     "text": [
      "Hello, World!\n"
     ]
    }
   ],
   "source": [
    "print(\"Hello, World!\")"
   ]
  },
  {
   "cell_type": "code",
   "execution_count": 13,
   "id": "5c02b12b",
   "metadata": {},
   "outputs": [
    {
     "data": {
      "text/plain": [
       "'hello python!'"
      ]
     },
     "execution_count": 13,
     "metadata": {},
     "output_type": "execute_result"
    }
   ],
   "source": [
    "'hello python!'"
   ]
  },
  {
   "cell_type": "code",
   "execution_count": 14,
   "id": "0f664851",
   "metadata": {},
   "outputs": [
    {
     "name": "stdout",
     "output_type": "stream",
     "text": [
      "The Zen of Python, by Tim Peters\n",
      "\n",
      "Beautiful is better than ugly.\n",
      "Explicit is better than implicit.\n",
      "Simple is better than complex.\n",
      "Complex is better than complicated.\n",
      "Flat is better than nested.\n",
      "Sparse is better than dense.\n",
      "Readability counts.\n",
      "Special cases aren't special enough to break the rules.\n",
      "Although practicality beats purity.\n",
      "Errors should never pass silently.\n",
      "Unless explicitly silenced.\n",
      "In the face of ambiguity, refuse the temptation to guess.\n",
      "There should be one-- and preferably only one --obvious way to do it.\n",
      "Although that way may not be obvious at first unless you're Dutch.\n",
      "Now is better than never.\n",
      "Although never is often better than *right* now.\n",
      "If the implementation is hard to explain, it's a bad idea.\n",
      "If the implementation is easy to explain, it may be a good idea.\n",
      "Namespaces are one honking great idea -- let's do more of those!\n"
     ]
    }
   ],
   "source": [
    "import this"
   ]
  },
  {
   "cell_type": "markdown",
   "id": "c04e1034",
   "metadata": {},
   "source": [
    "python之禅  \n",
    "                作者：Tim Peters\n",
    "\n",
    "优美胜于丑陋                                                  Python 以编写优美的代码为目标\n",
    "明了胜于晦涩                                                  优美的代码应当是明了的，命名规范，风格相似 \n",
    "简洁胜于复杂                                                  优美的代码应当是简洁的，不要有复杂的内部实现 \n",
    "复杂胜于凌乱                                                  如果复杂不可避免，那代码间也不能有难懂的关系，要保持接口简洁 \n",
    "扁平胜于嵌套                                                  优美的代码应当是扁平的，不能有太多的嵌套\n",
    "间隔胜于紧凑                                                  优美的代码有适当的间隔，不要奢望一行代码解决问题 \n",
    "可读性很重要                                                  优美的代码是可读的 \n",
    "即便假借特例的实用性之名，也不可违背这些规则                        这些规则至高无上 \n",
    "不要包容所有错误，除非你确定需要这样做                             精准地捕获异常，不写 except:pass 风格的代码 \n",
    "当存在多种可能，不要尝试去猜测 \n",
    "而是尽量找一种，最好是唯一一种明显的解决方案                        如果不确定，就用穷举法\n",
    "虽然这并不容易，因为你不是Python之父                             这里的 Dutch 是指 Guido \n",
    "做也许好过不做，但不假思索就动手还不如不做                          动手之前要细思量\n",
    "如果你无法向人描述你的方案，那肯定不是一个好方案；反之亦然             方案测评标准\n",
    "命名空间是一种绝妙的理念，我们应当多加利用                          倡导与号召"
   ]
  },
  {
   "cell_type": "markdown",
   "id": "f3a1857e",
   "metadata": {},
   "source": [
    "## Python like English\n",
    "\n",
    "### 实例：求数字a的绝对数"
   ]
  },
  {
   "cell_type": "code",
   "execution_count": 16,
   "id": "b9fbc453",
   "metadata": {},
   "outputs": [
    {
     "name": "stdout",
     "output_type": "stream",
     "text": [
      "30\n"
     ]
    }
   ],
   "source": [
    "a = 30 ## 赋值 \n",
    "\n",
    "if a >= 0:\n",
    "    print(a) # 缩进 空格\n",
    "else:\n",
    "    print(-a) # 打印"
   ]
  },
  {
   "cell_type": "markdown",
   "id": "97704ccc",
   "metadata": {},
   "source": [
    "### Python VS English\n",
    "\n",
    "| 英语 | Python   | 例如 |\n",
    "| :---- | :---- | :---- |\n",
    "| **单词** | 数据、数据类型 | 列表、字符串、字典等          |\n",
    "| **语法** | 语法/逻辑语句 | if条件判读语句、for循环语句等 |\n",
    "\n",
    "\n",
    "### 每天进步一点点"
   ]
  },
  {
   "cell_type": "code",
   "execution_count": 18,
   "id": "d56de2b2",
   "metadata": {},
   "outputs": [
    {
     "data": {
      "text/plain": [
       "Text(0.5, 1.0, 'Be better everyminute!')"
      ]
     },
     "execution_count": 18,
     "metadata": {},
     "output_type": "execute_result"
    },
    {
     "data": {
      "image/png": "[encoded data removed]",
      "text/plain": [
       "<Figure size 432x288 with 1 Axes>"
      ]
     },
     "metadata": {
      "needs_background": "light"
     },
     "output_type": "display_data"
    }
   ],
   "source": [
    "import matplotlib.pyplot as plt\n",
    "import math\n",
    "%matplotlib inline\n",
    "\n",
    "ability = 1\n",
    "scale = 1.01\n",
    "records = []\n",
    "\n",
    "days = range(1, 60*2)\n",
    "for day in days:\n",
    "    ability = ability*scale\n",
    "    records.append(ability)\n",
    "    \n",
    "plt.plot(days, records)\n",
    "plt.title('Be better everyminute!')"
   ]
  },
  {
   "cell_type": "markdown",
   "id": "bbff3a3b",
   "metadata": {},
   "source": [
    "### Python是面向对象的编程语言\n",
    "\n",
    "| 类型   | 实例(对象)   | 实例(对象)   | 方法      |\n",
    "|:--- | :---- | :--- | :-----|\n",
    "| 猪  | 村东头老王家的猪  | 把猪变成肉 | ``猪.产肉``  |\n",
    "| 牛  | 村东头老张家的耕牛  | 把粮食变成畜力   | ``牛.耕地``   |\n",
    "| 列表 | ``hobbies = ['跑步',  '乒乓球'， '篮球'，'篮球']``|统计某群体爱好的分布, 查看各爱好的人数|``hobbies.count('篮球')``  |\n",
    "| 字符串| ``str1 = \"Hello，World!\"``| 将文本内容由World更改为Python | ``str1.replace('World', 'Python')``|\n",
    "| 字典 | ``grade = {'David':98, 'Mary':88,...}``| 方便数据检索| ``grade.get('David')`` |\n",
    "| ...  | ... | ... | ... |"
   ]
  },
  {
   "cell_type": "markdown",
   "id": "c17337a3",
   "metadata": {},
   "source": [
    "\n",
    "\n",
    "### Python中的数据类型\n",
    "\n",
    "| 数据类型 | 例子     |\n",
    "| :-:|:-: |\n",
    "| 数字     | ``a = 5``                              |\n",
    "| 字符串   | ``my_str = \"abcdefg\"``                 |\n",
    "| 列表     | ``my_list = [1, 2, 3]``                |\n",
    "| 元组     | ``my_tuple = (1, 2, 3)``               |\n",
    "| 字典     | ``my_dict = {'David': 25, 'Mark':30}`` |\n",
    "| 空值     | ``None``                               |"
   ]
  },
  {
   "cell_type": "markdown",
   "id": "4ac02d69",
   "metadata": {},
   "source": [
    "## 数据类型：字符串str\n",
    "\n",
    "### 定义\n",
    "字符串是以  **单引号**  或  **双引号**  或 **三引号** 括起来的任意文本，如\n",
    "- 'abc'\n",
    "- \"abc\"\n",
    "- '''abc'''\n",
    "- \"\"\"abc\"\"\""
   ]
  },
  {
   "cell_type": "code",
   "execution_count": 19,
   "id": "3814e84f",
   "metadata": {},
   "outputs": [
    {
     "data": {
      "text/plain": [
       "'abc'"
      ]
     },
     "execution_count": 19,
     "metadata": {},
     "output_type": "execute_result"
    }
   ],
   "source": [
    "a = 'abc'\n",
    "a"
   ]
  },
  {
   "cell_type": "code",
   "execution_count": 24,
   "id": "6f915602",
   "metadata": {},
   "outputs": [
    {
     "data": {
      "text/plain": [
       "'ab张凯恒c'"
      ]
     },
     "execution_count": 24,
     "metadata": {},
     "output_type": "execute_result"
    }
   ],
   "source": [
    "\"ab张凯恒c\""
   ]
  },
  {
   "cell_type": "code",
   "execution_count": 21,
   "id": "c59619f4",
   "metadata": {},
   "outputs": [
    {
     "data": {
      "text/plain": [
       "'abc'"
      ]
     },
     "execution_count": 21,
     "metadata": {},
     "output_type": "execute_result"
    }
   ],
   "source": [
    "'''abc'''"
   ]
  },
  {
   "cell_type": "code",
   "execution_count": 22,
   "id": "2da81ef4",
   "metadata": {},
   "outputs": [
    {
     "data": {
      "text/plain": [
       "'abc'"
      ]
     },
     "execution_count": 22,
     "metadata": {},
     "output_type": "execute_result"
    }
   ],
   "source": [
    "\"\"\"abc\"\"\" # 单包双"
   ]
  },
  {
   "cell_type": "code",
   "execution_count": null,
   "id": "e8a41259",
   "metadata": {},
   "outputs": [],
   "source": [
    "print('abc')\n",
    "print(\"abc\")\n",
    "print('''abc''')\n",
    "print(\"\"\"abc\"\"\")"
   ]
  },
  {
   "cell_type": "code",
   "execution_count": null,
   "id": "7f2623b8",
   "metadata": {},
   "outputs": [],
   "source": [
    "'abc'\n",
    "'efg'"
   ]
  },
  {
   "cell_type": "code",
   "execution_count": null,
   "id": "ea61ee09",
   "metadata": {},
   "outputs": [],
   "source": [
    "print('abc')\n",
    "print('efg')"
   ]
  },
  {
   "cell_type": "markdown",
   "id": "ab3332bd",
   "metadata": {},
   "source": [
    "**注意**:  \n",
    "- 这里所说的引号都是英文引号\n",
    "- ``''`` 或 ``\"\"`` 本身不是字符串的一部分，因此，字符串 ``'abc'`` 只有a，b，c这3个字符。\n",
    "- notebook中只显示最后一个，所以这里用了两个print"
   ]
  },
  {
   "cell_type": "markdown",
   "id": "64b86c2b",
   "metadata": {},
   "source": [
    "### 拼接+\n",
    "按顺序拼接"
   ]
  },
  {
   "cell_type": "code",
   "execution_count": 25,
   "id": "21540a45",
   "metadata": {},
   "outputs": [
    {
     "name": "stdout",
     "output_type": "stream",
     "text": [
      "Python\n",
      "ythonP\n"
     ]
    }
   ],
   "source": [
    "a = 'P'\n",
    "b = 'ython'\n",
    "\n",
    "print(a+b)\n",
    "print(b+a)"
   ]
  },
  {
   "cell_type": "markdown",
   "id": "760f6a44",
   "metadata": {},
   "source": [
    "### 切片\n",
    "![](img/字符串索引.png)"
   ]
  },
  {
   "cell_type": "code",
   "execution_count": 29,
   "id": "c387208c",
   "metadata": {},
   "outputs": [
    {
     "name": "stdout",
     "output_type": "stream",
     "text": [
      "M\n"
     ]
    },
    {
     "data": {
      "text/plain": [
       "'M'"
      ]
     },
     "execution_count": 29,
     "metadata": {},
     "output_type": "execute_result"
    }
   ],
   "source": [
    "name = 'My Name is Mike'\n",
    "print(name[0])\n",
    "name[-15]"
   ]
  },
  {
   "cell_type": "code",
   "execution_count": 34,
   "id": "2abab9fa",
   "metadata": {},
   "outputs": [
    {
     "data": {
      "text/plain": [
       "'is Mike'"
      ]
     },
     "execution_count": 34,
     "metadata": {},
     "output_type": "execute_result"
    }
   ],
   "source": [
    "name[3:6]\n",
    "name[-12:-9]\n",
    "name[0:2]\n",
    "name[:2]\n",
    "name[5:]\n",
    "name[-7:]"
   ]
  },
  {
   "cell_type": "markdown",
   "id": "90811f30",
   "metadata": {},
   "source": [
    "#### 切片总结\n",
    "|切片表达式|解读|\n",
    "|:---|:---|\n",
    "|**从左往右**|索引值从0开始，0表示'第一个'|\n",
    "|**从右向左**|-1表示倒数第一个，-2表示倒数第二个|\n",
    "|**a:b**|选取列表索引位置为``a，a+1...b-2, b-1``的值|\n",
    "|**a:**|选取列表中a之后的所有元素(含a)|\n",
    "|**:b**|选取列表中b之前的所有元素(不含b)|"
   ]
  },
  {
   "cell_type": "markdown",
   "id": "d2404521",
   "metadata": {},
   "source": [
    "### 字符串常用方法\n",
    "|字符串常用方法|功能|\n",
    "|:---|:---|\n",
    "|str.lower()  |变小写|\n",
    "|str.upper()|变大写|\n",
    "|str.split(sep) |使用sep将字符串分割，默认sep为空格|\n",
    "|str.replace(old, new) |将str中的old替换为new|\n",
    "|str.format()| 向str中填充内容|"
   ]
  },
  {
   "cell_type": "code",
   "execution_count": 35,
   "id": "cab570ea",
   "metadata": {},
   "outputs": [
    {
     "data": {
      "text/plain": [
       "'python is poweful!'"
      ]
     },
     "execution_count": 35,
     "metadata": {},
     "output_type": "execute_result"
    }
   ],
   "source": [
    "words = 'Python is poweful!'\n",
    "words.lower()"
   ]
  },
  {
   "cell_type": "code",
   "execution_count": 36,
   "id": "381de08c",
   "metadata": {},
   "outputs": [
    {
     "data": {
      "text/plain": [
       "'PYTHON IS POWEFUL!'"
      ]
     },
     "execution_count": 36,
     "metadata": {},
     "output_type": "execute_result"
    }
   ],
   "source": [
    "words.upper()"
   ]
  },
  {
   "cell_type": "code",
   "execution_count": 37,
   "id": "49970023",
   "metadata": {},
   "outputs": [
    {
     "data": {
      "text/plain": [
       "'Python is poweful!'"
      ]
     },
     "execution_count": 37,
     "metadata": {},
     "output_type": "execute_result"
    }
   ],
   "source": [
    "words"
   ]
  },
  {
   "cell_type": "code",
   "execution_count": 38,
   "id": "370aa6f4",
   "metadata": {},
   "outputs": [
    {
     "data": {
      "text/plain": [
       "['Python', 'is', 'poweful!']"
      ]
     },
     "execution_count": 38,
     "metadata": {},
     "output_type": "execute_result"
    }
   ],
   "source": [
    "words.split(' ')"
   ]
  },
  {
   "cell_type": "code",
   "execution_count": 39,
   "id": "d32f9d07",
   "metadata": {},
   "outputs": [
    {
     "data": {
      "text/plain": [
       "'Python programing language is poweful!'"
      ]
     },
     "execution_count": 39,
     "metadata": {},
     "output_type": "execute_result"
    }
   ],
   "source": [
    "words.replace('Python', 'Python programing language')"
   ]
  },
  {
   "cell_type": "markdown",
   "id": "628fd5d3",
   "metadata": {},
   "source": [
    "需要发送每个员工的工资组成详情。\n",
    "\n",
    "```\n",
    "\"张三,你这个月的工资是2310元；以下是你的工资详情。。。。\"\n",
    "\"李四,你这个月的工资是3456元；以下是你的工资详情。。。。\"\n",
    "\"王五,你这个月的工资是2431元；以下是你的工资详情。。。。\"\n",
    "```\n",
    "\n",
    "如何自动化自动化填充?"
   ]
  },
  {
   "cell_type": "code",
   "execution_count": 40,
   "id": "fbc09d74",
   "metadata": {},
   "outputs": [
    {
     "name": "stdout",
     "output_type": "stream",
     "text": [
      "张三,你这个月的工资是2310元；以下是你的工资详情\n",
      "李四,你这个月的工资是3456元；以下是你的工资详情\n",
      "王五,你这个月的工资是2431元；以下是你的工资详情\n"
     ]
    }
   ],
   "source": [
    "template = '{name},你这个月的工资是{salary}元；以下是你的工资详情'\n",
    "\n",
    "print(template.format(name='张三', salary='2310'))\n",
    "print(template.format(name='李四', salary='3456'))\n",
    "print(template.format(name='王五', salary='2431'))"
   ]
  },
  {
   "cell_type": "markdown",
   "id": "994c82e0",
   "metadata": {},
   "source": [
    "### 转义符\\\n",
    "\n",
    "如果字符串内部既包含 **单引号** 又包含 **双引号**， 会发生什么？"
   ]
  },
  {
   "cell_type": "code",
   "execution_count": 41,
   "id": "e705f2b4",
   "metadata": {},
   "outputs": [
    {
     "ename": "SyntaxError",
     "evalue": "invalid syntax (Temp/ipykernel_10264/2605556670.py, line 1)",
     "output_type": "error",
     "traceback": [
      "\u001b[1;36m  File \u001b[1;32m\"C:\\Users\\K\\AppData\\Local\\Temp/ipykernel_10264/2605556670.py\"\u001b[1;36m, line \u001b[1;32m1\u001b[0m\n\u001b[1;33m    print('I'm \"OK\"!')\u001b[0m\n\u001b[1;37m             ^\u001b[0m\n\u001b[1;31mSyntaxError\u001b[0m\u001b[1;31m:\u001b[0m invalid syntax\n"
     ]
    }
   ],
   "source": [
    "print('I'm \"OK\"!')"
   ]
  },
  {
   "cell_type": "code",
   "execution_count": 42,
   "id": "70267233",
   "metadata": {},
   "outputs": [
    {
     "name": "stdout",
     "output_type": "stream",
     "text": [
      "I'm \"OK\"!\n"
     ]
    }
   ],
   "source": [
    "# 可以用 转义字符\\ 来标识，比如：\n",
    "print('I\\'m \\\"OK\\\"!')"
   ]
  },
  {
   "cell_type": "markdown",
   "id": "6702cc82",
   "metadata": {},
   "source": [
    "常见的转义符还有\n",
    "\n",
    "- ``\\n`` 换行\n",
    "- ``\\t`` 制表符\n",
    "- ``字符\\`` 本身也要转义，所以 ``\\\\`` 表示的字符就是 ``\\``\n",
    "\n",
    "可以print()打印字符串看看下面打印结果是?：\n",
    "\n",
    "```python\n",
    "print('Hello\\tWorld!')\n",
    "print('转义\\n换行!')\n",
    "print('反斜杠线\\\\')\n",
    "```"
   ]
  },
  {
   "cell_type": "code",
   "execution_count": 43,
   "id": "1adb3883",
   "metadata": {},
   "outputs": [
    {
     "name": "stdout",
     "output_type": "stream",
     "text": [
      "Hello\tWorld!\n",
      "Hello World!\n"
     ]
    }
   ],
   "source": [
    "print('Hello\\tWorld!')\n",
    "print('Hello World!')"
   ]
  },
  {
   "cell_type": "code",
   "execution_count": 44,
   "id": "07c0f215",
   "metadata": {},
   "outputs": [
    {
     "name": "stdout",
     "output_type": "stream",
     "text": [
      "转义\n",
      "换行!\n"
     ]
    }
   ],
   "source": [
    "print('转义\\n换行!')"
   ]
  },
  {
   "cell_type": "code",
   "execution_count": 46,
   "id": "80743e2a",
   "metadata": {},
   "outputs": [
    {
     "name": "stdout",
     "output_type": "stream",
     "text": [
      "反斜杠线\\\n"
     ]
    }
   ],
   "source": [
    "print('反斜杠线\\\\')"
   ]
  },
  {
   "cell_type": "markdown",
   "id": "421ccb65",
   "metadata": {},
   "source": [
    "### r\n",
    "如果字符串里面有很多字符都需要转义，就需要加很多``\\``,\n",
    "\n",
    "为了简化，Python还允许用``r''``表示``''内部``的字符串默认不转义,例如\n",
    "\n",
    "```python\n",
    "print('\\\\\\t\\\\')\n",
    "print(r'\\\\\\t\\\\')\n",
    "print('hello world!')\n",
    "```"
   ]
  },
  {
   "cell_type": "code",
   "execution_count": 47,
   "id": "1f1c6e83",
   "metadata": {},
   "outputs": [
    {
     "name": "stdout",
     "output_type": "stream",
     "text": [
      "\\\t\\\n"
     ]
    }
   ],
   "source": [
    "print('\\\\\\t\\\\')"
   ]
  },
  {
   "cell_type": "code",
   "execution_count": 49,
   "id": "030b8c85",
   "metadata": {},
   "outputs": [
    {
     "name": "stdout",
     "output_type": "stream",
     "text": [
      "\\\\\\t\\\\\n"
     ]
    }
   ],
   "source": [
    "print(r'\\\\\\t\\\\')"
   ]
  },
  {
   "cell_type": "markdown",
   "id": "4c649b9b",
   "metadata": {},
   "source": [
    "## 数据类型：列表list 元素 集合set\n",
    "### 定义\n",
    "\n",
    "list是一种有序的集合,内部可以由任何数据类型的组成的\n",
    "\n",
    "现在有5位员工的汇总信息，\n",
    "\n",
    "|id|姓名|年龄|性别|爱好|\n",
    "|:---|:---|:---|:---|:---|\n",
    "|1|David|25|Male|Basketball, Pingpang, Hiking|\n",
    "|2|Mary|23|Female|Reading, Movies|\n",
    "|3|Henry|23|Male|Diving, Hiking|\n",
    "|4|Swift|21|Male|Football, Music|\n",
    "|5|Lenard|26|Male|Stay at Home|"
   ]
  },
  {
   "cell_type": "code",
   "execution_count": 50,
   "id": "7055598b",
   "metadata": {},
   "outputs": [
    {
     "name": "stdout",
     "output_type": "stream",
     "text": [
      "<class 'list'>\n",
      "<class 'list'>\n",
      "<class 'list'>\n",
      "['David', 'Mary', 'Henry', 'Swift', 'Lenard']\n",
      "[25, 23, 23, 21, 26]\n",
      "[['Basketball', 'Pingpang', 'Hiking'], ['Reading', 'Movies'], ['Diving', 'Hiking'], ['Football', 'Music'], ['Stay at Home']]\n"
     ]
    }
   ],
   "source": [
    "names = ['David', 'Mary', 'Henry', 'Swift', 'Lenard']\n",
    "\n",
    "ages = [25, 23, 23, 21, 26]\n",
    "\n",
    "hobbies = [['Basketball', 'Pingpang', 'Hiking'],\n",
    "          ['Reading', 'Movies'],\n",
    "          ['Diving', 'Hiking'],\n",
    "          ['Football', 'Music'],\n",
    "          ['Stay at Home']]\n",
    "\n",
    "print(type(names))\n",
    "print(type(ages))\n",
    "print(type(hobbies))\n",
    "\n",
    "print(names)\n",
    "print(ages)\n",
    "print(hobbies)"
   ]
  },
  {
   "cell_type": "markdown",
   "id": "cfad789a",
   "metadata": {},
   "source": [
    "### 拼接"
   ]
  },
  {
   "cell_type": "code",
   "execution_count": 51,
   "id": "fe2bf69e",
   "metadata": {},
   "outputs": [
    {
     "name": "stdout",
     "output_type": "stream",
     "text": [
      "['Michael', 'Bob', 'David', 'Lee', 'Michael', 'Bob']\n",
      "['David', 'Lee', 'Michael', 'Bob']\n"
     ]
    }
   ],
   "source": [
    "a1 = ['Michael', 'Bob']\n",
    "a2 = ['David', 'Lee']\n",
    "\n",
    "print(a1 + a2 + a1)\n",
    "print(a2 + a1)"
   ]
  },
  {
   "cell_type": "markdown",
   "id": "fef07491",
   "metadata": {},
   "source": [
    "### 拆包\n",
    "等号两边长度相同"
   ]
  },
  {
   "cell_type": "code",
   "execution_count": 54,
   "id": "4b5abb6c",
   "metadata": {},
   "outputs": [
    {
     "name": "stdout",
     "output_type": "stream",
     "text": [
      "David\n",
      "25\n"
     ]
    }
   ],
   "source": [
    "name, age = ['David', 25]\n",
    "print(name)\n",
    "print(age)"
   ]
  },
  {
   "cell_type": "markdown",
   "id": "917fc0b9",
   "metadata": {},
   "source": [
    "### 切片\n",
    "列表的切片与字符串类似\n",
    "\n",
    "|id|姓名|年龄|性别|爱好|正索引|倒索引|\n",
    "|:---|:---|:---|:---|:---|:---|:---|\n",
    "|1|David|25|Male|Basketball, Pingpang, Hiking|0|-5|\n",
    "|2|Mary|23|Female|Reading, Movies|1|-4|\n",
    "|3|Henry|23|Male|Diving, Hiking|2|-3|\n",
    "|4|Swift|21|Male|Football, Music|3|-2|\n",
    "|5|Lenard|26|Male|Stay at Home|4|-1|"
   ]
  },
  {
   "cell_type": "code",
   "execution_count": 55,
   "id": "f80cbcdf",
   "metadata": {},
   "outputs": [
    {
     "name": "stdout",
     "output_type": "stream",
     "text": [
      "['David', 'Mary', 'Henry', 'Swift', 'Lenard']\n",
      "Henry\n",
      "Henry\n",
      "['David', 'Mary', 'Henry']\n",
      "['David', 'Mary', 'Henry']\n",
      "['Henry', 'Swift', 'Lenard']\n",
      "['Henry', 'Swift', 'Lenard']\n",
      "['David', 'Mary']\n",
      "['David', 'Mary']\n"
     ]
    }
   ],
   "source": [
    "names = ['David', 'Mary', 'Henry', 'Swift', 'Lenard']\n",
    "print(names)\n",
    "print(names[2])\n",
    "print(names[-3])\n",
    "print(names[0:3])\n",
    "print(names[-5:-2])\n",
    "print(names[2:])\n",
    "print(names[-3:])\n",
    "print(names[:2])\n",
    "print(names[:-3])"
   ]
  },
  {
   "cell_type": "markdown",
   "id": "2c29654f",
   "metadata": {},
   "source": [
    "### 列表常用方法\n",
    "|常用方法|功能|\n",
    "|:---|:---|\n",
    "|list.append(a) |向list中添加元素a|\n",
    "|list.extend(lst)|向list中添加列表lst|\n",
    "|list.count(a) |统计list中a的个数|"
   ]
  },
  {
   "cell_type": "code",
   "execution_count": 56,
   "id": "b8ed7c69",
   "metadata": {},
   "outputs": [
    {
     "name": "stdout",
     "output_type": "stream",
     "text": [
      "['David', 'Mary', 'Henry', 'Swift', 'Lenard']\n",
      "['David', 'Mary', 'Henry', 'Swift', 'Lenard', 'Mary']\n"
     ]
    }
   ],
   "source": [
    "names = ['David', 'Mary', 'Henry', 'Swift', 'Lenard']\n",
    "\n",
    "print(names)\n",
    "names.append('Mary')\n",
    "print(names)"
   ]
  },
  {
   "cell_type": "code",
   "execution_count": 57,
   "id": "3f708739",
   "metadata": {},
   "outputs": [
    {
     "name": "stdout",
     "output_type": "stream",
     "text": [
      "['David', 'Mary', 'Henry', 'Swift', 'Lenard']\n",
      "['David', 'Mary', 'Henry', 'Swift', 'Lenard', 'Mary']\n"
     ]
    }
   ],
   "source": [
    "names = ['David', 'Mary', 'Henry', 'Swift', 'Lenard']\n",
    "\n",
    "print(names)\n",
    "\n",
    "names.extend(['Mary'])\n",
    "\n",
    "print(names)"
   ]
  },
  {
   "cell_type": "code",
   "execution_count": 58,
   "id": "c009a498",
   "metadata": {},
   "outputs": [
    {
     "name": "stdout",
     "output_type": "stream",
     "text": [
      "2\n"
     ]
    }
   ],
   "source": [
    "ages = [25, 23, 23, 21, 26]\n",
    "print(ages.count(23))"
   ]
  },
  {
   "cell_type": "code",
   "execution_count": 59,
   "id": "8584c3b6",
   "metadata": {},
   "outputs": [
    {
     "name": "stdout",
     "output_type": "stream",
     "text": [
      "David\n",
      "David\n"
     ]
    }
   ],
   "source": [
    "one = ['David']\n",
    "print(one[-1])\n",
    "print(one[0])"
   ]
  },
  {
   "cell_type": "markdown",
   "id": "8fdde9d6",
   "metadata": {},
   "source": [
    "### 元组tuple\n",
    "形似列表，也有\n",
    "- 元组拼接\n",
    "- 切片\n",
    "- 拆包"
   ]
  },
  {
   "cell_type": "code",
   "execution_count": 60,
   "id": "8b1da2aa",
   "metadata": {},
   "outputs": [
    {
     "name": "stdout",
     "output_type": "stream",
     "text": [
      "<class 'list'>\n",
      "<class 'tuple'>\n",
      "['David', 'Mary', 'Henry', 'Swift', 'Lenard']\n",
      "('David', 'Mary', 'Henry', 'Swift', 'Lenard')\n"
     ]
    }
   ],
   "source": [
    "name_list = ['David', 'Mary', 'Henry', 'Swift', 'Lenard']\n",
    "name_tuple = ('David', 'Mary', 'Henry', 'Swift', 'Lenard')\n",
    "\n",
    "print(type(name_list))\n",
    "print(type(name_tuple))\n",
    "\n",
    "print(name_list)\n",
    "print(name_tuple)"
   ]
  },
  {
   "cell_type": "code",
   "execution_count": 61,
   "id": "042c92d4",
   "metadata": {},
   "outputs": [
    {
     "name": "stdout",
     "output_type": "stream",
     "text": [
      "False\n"
     ]
    }
   ],
   "source": [
    "print(name_list==name_tuple)"
   ]
  },
  {
   "cell_type": "markdown",
   "id": "fc91411a",
   "metadata": {},
   "source": [
    "### 集合"
   ]
  },
  {
   "cell_type": "code",
   "execution_count": 63,
   "id": "c2a694a2",
   "metadata": {},
   "outputs": [
    {
     "data": {
      "text/plain": [
       "{'David', 'Mary', 'Swift'}"
      ]
     },
     "execution_count": 63,
     "metadata": {},
     "output_type": "execute_result"
    }
   ],
   "source": [
    "names2 = ['David', 'Mary', 'David', 'Swift', 'David']\n",
    "set(names2)"
   ]
  },
  {
   "cell_type": "markdown",
   "id": "0740fe49",
   "metadata": {},
   "source": [
    "### 集合的方法\n",
    "- setdata.add(ele)  向setdata中加入ele"
   ]
  },
  {
   "cell_type": "code",
   "execution_count": 66,
   "id": "673492ff",
   "metadata": {},
   "outputs": [
    {
     "name": "stdout",
     "output_type": "stream",
     "text": [
      "{'David', 'Mary', 'Swift'}\n",
      "{'David', 'William', 'Mary', 'Swift'}\n"
     ]
    }
   ],
   "source": [
    "name_set = set(names2)\n",
    "\n",
    "print(name_set)\n",
    "\n",
    "name_set.add('William')\n",
    "\n",
    "print(name_set)"
   ]
  },
  {
   "cell_type": "markdown",
   "id": "c0de9c40",
   "metadata": {},
   "source": [
    "### 集合不能切片"
   ]
  },
  {
   "cell_type": "code",
   "execution_count": 67,
   "id": "088ea564",
   "metadata": {},
   "outputs": [
    {
     "ename": "TypeError",
     "evalue": "'set' object is not subscriptable",
     "output_type": "error",
     "traceback": [
      "\u001b[1;31m---------------------------------------------------------------------------\u001b[0m",
      "\u001b[1;31mTypeError\u001b[0m                                 Traceback (most recent call last)",
      "\u001b[1;32m~\\AppData\\Local\\Temp/ipykernel_10264/1949433462.py\u001b[0m in \u001b[0;36m<module>\u001b[1;34m\u001b[0m\n\u001b[1;32m----> 1\u001b[1;33m \u001b[0mname_set\u001b[0m\u001b[1;33m[\u001b[0m\u001b[1;36m2\u001b[0m\u001b[1;33m]\u001b[0m\u001b[1;33m\u001b[0m\u001b[1;33m\u001b[0m\u001b[0m\n\u001b[0m",
      "\u001b[1;31mTypeError\u001b[0m: 'set' object is not subscriptable"
     ]
    }
   ],
   "source": [
    "name_set[2]"
   ]
  },
  {
   "cell_type": "markdown",
   "id": "c859c78d",
   "metadata": {},
   "source": [
    "## 数据类型：字典dict\n",
    "\n",
    "字典是有key，有value的 key-value-pair类型数据（键-值对）\n",
    "\n",
    "|id|姓名|年龄|性别|爱好|\n",
    "|:---|:---|:---|:---|:---|\n",
    "|1|David|25|Male|Basketball, Pingpang, Hiking|\n",
    "|2|Mary|23|Female|Reading, Movies|\n",
    "|3|Henry|23|Male|Diving, Hiking|\n",
    "\n",
    "\n",
    "将上面的员工信息以关键词``name、age、hobbies`` 组织成字典数据\n",
    "\n",
    "### 空字典"
   ]
  },
  {
   "cell_type": "code",
   "execution_count": 68,
   "id": "d4ec1c73",
   "metadata": {},
   "outputs": [
    {
     "name": "stdout",
     "output_type": "stream",
     "text": [
      "{}\n"
     ]
    }
   ],
   "source": [
    "david = dict()\n",
    "print(david)"
   ]
  },
  {
   "cell_type": "markdown",
   "id": "a5217405",
   "metadata": {},
   "source": [
    "### 填充"
   ]
  },
  {
   "cell_type": "code",
   "execution_count": 69,
   "id": "76ff9927",
   "metadata": {},
   "outputs": [
    {
     "name": "stdout",
     "output_type": "stream",
     "text": [
      "{'age': 23}\n"
     ]
    }
   ],
   "source": [
    "david['age'] = 23\n",
    "print(david)"
   ]
  },
  {
   "cell_type": "code",
   "execution_count": 70,
   "id": "e7dc5ade",
   "metadata": {},
   "outputs": [
    {
     "name": "stdout",
     "output_type": "stream",
     "text": [
      "{'age': 23, 'hobbies': ['Basketball', 'Pingpang', 'Hiking']}\n"
     ]
    }
   ],
   "source": [
    "david['hobbies'] = ['Basketball', 'Pingpang', 'Hiking']\n",
    "print(david)"
   ]
  },
  {
   "cell_type": "code",
   "execution_count": 71,
   "id": "2cd50271",
   "metadata": {},
   "outputs": [
    {
     "name": "stdout",
     "output_type": "stream",
     "text": [
      "{'age': 23, 'hobbies': ['Basketball', 'Pingpang', 'Hiking'], 'gender': 'Male'}\n"
     ]
    }
   ],
   "source": [
    "david['gender'] = 'Male'\n",
    "print(david)"
   ]
  },
  {
   "cell_type": "markdown",
   "id": "94f60bdb",
   "metadata": {},
   "source": [
    "### 更新"
   ]
  },
  {
   "cell_type": "code",
   "execution_count": 72,
   "id": "17be8206",
   "metadata": {},
   "outputs": [
    {
     "name": "stdout",
     "output_type": "stream",
     "text": [
      "{'age': 25, 'hobbies': ['Basketball', 'Pingpang', 'Hiking'], 'gender': 'Male'}\n"
     ]
    }
   ],
   "source": [
    "david['age'] = 25\n",
    "print(david)"
   ]
  },
  {
   "cell_type": "markdown",
   "id": "8e45eaed",
   "metadata": {},
   "source": [
    "### 完整的信息\n",
    "\n",
    "\n",
    "key-value组成的。\n",
    "\n",
    "字典可以嵌套字典\n",
    "\n",
    "字典也可以存储列表、字符串、数字等等。"
   ]
  },
  {
   "cell_type": "code",
   "execution_count": 74,
   "id": "c8e8bdd1",
   "metadata": {},
   "outputs": [
    {
     "name": "stdout",
     "output_type": "stream",
     "text": [
      "{'David': {'age': 25, 'gender': 'Male', 'hobbies': ['Basketball', 'Pingpang', 'Hiking']}, 'Mary': {'age': 23, 'gender': 'Female', 'hobbies': ['Reading', 'Movies']}, 'Henry': {'age': 23, 'gender': 'Male', 'hobbies': ['Diving', 'Hiking']}}\n"
     ]
    }
   ],
   "source": [
    "infos =  {'David':{'age':25, \n",
    "                   'gender':'Male',\n",
    "                   'hobbies':['Basketball', 'Pingpang', 'Hiking']},\n",
    "          'Mary':{'age':23,\n",
    "                  'gender': 'Female',\n",
    "                  'hobbies': ['Reading', 'Movies']},\n",
    "          'Henry':{'age':23,\n",
    "                  'gender': 'Male',\n",
    "                  'hobbies': ['Diving', 'Hiking']}\n",
    "         }\n",
    "\n",
    "print(infos)"
   ]
  },
  {
   "cell_type": "markdown",
   "id": "70bc6efb",
   "metadata": {},
   "source": [
    "### 字典的方法\n",
    "|方法|效果|\n",
    "|:---|:---|\n",
    "|dictdata.items()|返回dictdata所有item|\n",
    "|dictdata.keys()|返回dictdata的所有关键词|\n",
    "|dictdata.values()|返回dictdata的所有值|\n",
    "|``dictdata.get(keystr)``|获取关键词keystr对应的值|\n",
    "|``dictdata[keystr]``|获取关键词keystr对应的值|"
   ]
  },
  {
   "cell_type": "code",
   "execution_count": 75,
   "id": "d480efe1",
   "metadata": {},
   "outputs": [
    {
     "data": {
      "text/plain": [
       "dict_items([('David', {'age': 25, 'gender': 'Male', 'hobbies': ['Basketball', 'Pingpang', 'Hiking']}), ('Mary', {'age': 23, 'gender': 'Female', 'hobbies': ['Reading', 'Movies']}), ('Henry', {'age': 23, 'gender': 'Male', 'hobbies': ['Diving', 'Hiking']})])"
      ]
     },
     "execution_count": 75,
     "metadata": {},
     "output_type": "execute_result"
    }
   ],
   "source": [
    "infos.items()"
   ]
  },
  {
   "cell_type": "code",
   "execution_count": 77,
   "id": "446f89b1",
   "metadata": {},
   "outputs": [
    {
     "data": {
      "text/plain": [
       "('David',\n",
       " {'age': 25,\n",
       "  'gender': 'Male',\n",
       "  'hobbies': ['Basketball', 'Pingpang', 'Hiking']})"
      ]
     },
     "execution_count": 77,
     "metadata": {},
     "output_type": "execute_result"
    }
   ],
   "source": [
    "#把infos.items()转化为列表\n",
    "list(infos.items())[0]"
   ]
  },
  {
   "cell_type": "code",
   "execution_count": 78,
   "id": "d50bf4f3",
   "metadata": {},
   "outputs": [
    {
     "data": {
      "text/plain": [
       "dict_keys(['David', 'Mary', 'Henry'])"
      ]
     },
     "execution_count": 78,
     "metadata": {},
     "output_type": "execute_result"
    }
   ],
   "source": [
    "infos.keys()"
   ]
  },
  {
   "cell_type": "code",
   "execution_count": 79,
   "id": "ac601033",
   "metadata": {},
   "outputs": [
    {
     "data": {
      "text/plain": [
       "dict_values([{'age': 25, 'gender': 'Male', 'hobbies': ['Basketball', 'Pingpang', 'Hiking']}, {'age': 23, 'gender': 'Female', 'hobbies': ['Reading', 'Movies']}, {'age': 23, 'gender': 'Male', 'hobbies': ['Diving', 'Hiking']}])"
      ]
     },
     "execution_count": 79,
     "metadata": {},
     "output_type": "execute_result"
    }
   ],
   "source": [
    "infos.values()"
   ]
  },
  {
   "cell_type": "code",
   "execution_count": 81,
   "id": "3724a958",
   "metadata": {},
   "outputs": [
    {
     "name": "stdout",
     "output_type": "stream",
     "text": [
      "{'age': 25, 'gender': 'Male', 'hobbies': ['Basketball', 'Pingpang', 'Hiking']}\n",
      "{'age': 25, 'gender': 'Male', 'hobbies': ['Basketball', 'Pingpang', 'Hiking']}\n"
     ]
    }
   ],
   "source": [
    "print(infos['David'])\n",
    "print(infos.get('David'))"
   ]
  },
  {
   "cell_type": "markdown",
   "id": "9b717e59",
   "metadata": {},
   "source": [
    "两种功能等同，但是get获取方法更加安全稳定。例如"
   ]
  },
  {
   "cell_type": "code",
   "execution_count": 82,
   "id": "820c775c",
   "metadata": {},
   "outputs": [
    {
     "ename": "KeyError",
     "evalue": "'Will'",
     "output_type": "error",
     "traceback": [
      "\u001b[1;31m---------------------------------------------------------------------------\u001b[0m",
      "\u001b[1;31mKeyError\u001b[0m                                  Traceback (most recent call last)",
      "\u001b[1;32m~\\AppData\\Local\\Temp/ipykernel_10264/2723618392.py\u001b[0m in \u001b[0;36m<module>\u001b[1;34m\u001b[0m\n\u001b[1;32m----> 1\u001b[1;33m \u001b[0mprint\u001b[0m\u001b[1;33m(\u001b[0m\u001b[0minfos\u001b[0m\u001b[1;33m[\u001b[0m\u001b[1;34m'Will'\u001b[0m\u001b[1;33m]\u001b[0m\u001b[1;33m)\u001b[0m\u001b[1;33m\u001b[0m\u001b[1;33m\u001b[0m\u001b[0m\n\u001b[0m",
      "\u001b[1;31mKeyError\u001b[0m: 'Will'"
     ]
    }
   ],
   "source": [
    "print(infos['Will'])"
   ]
  },
  {
   "cell_type": "code",
   "execution_count": 83,
   "id": "61483925",
   "metadata": {},
   "outputs": [
    {
     "name": "stdout",
     "output_type": "stream",
     "text": [
      "None\n"
     ]
    }
   ],
   "source": [
    "print(infos.get('Will'))"
   ]
  },
  {
   "cell_type": "markdown",
   "id": "7c9a88a7",
   "metadata": {},
   "source": [
    "## 数据类型：布尔值Boolean\n",
    "\n",
    "用于逻辑判断，一般与if结合使用。"
   ]
  },
  {
   "cell_type": "code",
   "execution_count": 84,
   "id": "745700c4",
   "metadata": {},
   "outputs": [
    {
     "name": "stdout",
     "output_type": "stream",
     "text": [
      "True\n"
     ]
    }
   ],
   "source": [
    "a = True\n",
    "print(a)"
   ]
  },
  {
   "cell_type": "code",
   "execution_count": 85,
   "id": "0c27df07",
   "metadata": {},
   "outputs": [
    {
     "data": {
      "text/plain": [
       "True"
      ]
     },
     "execution_count": 85,
     "metadata": {},
     "output_type": "execute_result"
    }
   ],
   "source": [
    "True"
   ]
  },
  {
   "cell_type": "code",
   "execution_count": 86,
   "id": "5d7a7afa",
   "metadata": {},
   "outputs": [
    {
     "data": {
      "text/plain": [
       "False"
      ]
     },
     "execution_count": 86,
     "metadata": {},
     "output_type": "execute_result"
    }
   ],
   "source": [
    "False"
   ]
  },
  {
   "cell_type": "markdown",
   "id": "7bddf6fe",
   "metadata": {},
   "source": [
    "其他产生布尔值的方式\n",
    "- 布尔运算\n",
    "- 比较运算\n",
    "- 成员运算\n",
    "\n",
    "\n",
    "### 布尔运算\n",
    "运算符号|功能|例子|等于\n",
    ":---|:---|:---|:---\n",
    "x and y|且|True and False|False\n",
    "x or y|或|True or False|True\n",
    "not x|非|not True|False"
   ]
  },
  {
   "cell_type": "code",
   "execution_count": 87,
   "id": "75877922",
   "metadata": {},
   "outputs": [
    {
     "name": "stdout",
     "output_type": "stream",
     "text": [
      "False\n"
     ]
    }
   ],
   "source": [
    "x = True and False\n",
    "print(x)"
   ]
  },
  {
   "cell_type": "code",
   "execution_count": 88,
   "id": "52dc329a",
   "metadata": {},
   "outputs": [
    {
     "name": "stdout",
     "output_type": "stream",
     "text": [
      "True\n"
     ]
    }
   ],
   "source": [
    "x = True or False\n",
    "print(x)"
   ]
  },
  {
   "cell_type": "code",
   "execution_count": 89,
   "id": "af5f0cd7",
   "metadata": {},
   "outputs": [
    {
     "name": "stdout",
     "output_type": "stream",
     "text": [
      "False\n"
     ]
    }
   ],
   "source": [
    "x = not True\n",
    "print(x)"
   ]
  },
  {
   "cell_type": "code",
   "execution_count": 90,
   "id": "82fff851",
   "metadata": {},
   "outputs": [
    {
     "name": "stdout",
     "output_type": "stream",
     "text": [
      "True\n"
     ]
    }
   ],
   "source": [
    "x = not False\n",
    "print(x)"
   ]
  },
  {
   "cell_type": "markdown",
   "id": "29eaeaec",
   "metadata": {},
   "source": [
    "### 比较运算\n",
    "比较运算符号|功能|例子|等于\n",
    ":---|:---|:---|:---\n",
    "==|相等|5==3|False\n",
    "!=|不等于|5!=3|True\n",
    "``>``|大于|``5>3``|True\n",
    "``<``|小于|``5<3``|False\n",
    "``<=``|小于等于|``5<=3``|False\n",
    "``>=``|小于|``5>=3``|True"
   ]
  },
  {
   "cell_type": "code",
   "execution_count": 91,
   "id": "1e3e720a",
   "metadata": {},
   "outputs": [
    {
     "name": "stdout",
     "output_type": "stream",
     "text": [
      "False\n",
      "<class 'bool'>\n"
     ]
    }
   ],
   "source": [
    "a = 5\n",
    "b = 3\n",
    "\n",
    "x = a<b\n",
    "print(x)\n",
    "print(type(x))"
   ]
  },
  {
   "cell_type": "code",
   "execution_count": 93,
   "id": "18b30e0e",
   "metadata": {},
   "outputs": [
    {
     "name": "stdout",
     "output_type": "stream",
     "text": [
      "True\n"
     ]
    }
   ],
   "source": [
    "print(5==5)"
   ]
  },
  {
   "cell_type": "code",
   "execution_count": 94,
   "id": "b0e9067e",
   "metadata": {},
   "outputs": [
    {
     "name": "stdout",
     "output_type": "stream",
     "text": [
      "False\n"
     ]
    }
   ],
   "source": [
    "print(5!=5)"
   ]
  },
  {
   "cell_type": "markdown",
   "id": "da98b8b0",
   "metadata": {},
   "source": [
    "**注意**\n",
    "\n",
    "比较符两侧必须为同样的数据类型"
   ]
  },
  {
   "cell_type": "code",
   "execution_count": 95,
   "id": "61abf0a9",
   "metadata": {},
   "outputs": [
    {
     "ename": "TypeError",
     "evalue": "'>' not supported between instances of 'str' and 'int'",
     "output_type": "error",
     "traceback": [
      "\u001b[1;31m---------------------------------------------------------------------------\u001b[0m",
      "\u001b[1;31mTypeError\u001b[0m                                 Traceback (most recent call last)",
      "\u001b[1;32m~\\AppData\\Local\\Temp/ipykernel_10264/125173610.py\u001b[0m in \u001b[0;36m<module>\u001b[1;34m\u001b[0m\n\u001b[0;32m      2\u001b[0m \u001b[0mb\u001b[0m \u001b[1;33m=\u001b[0m \u001b[1;36m5\u001b[0m\u001b[1;33m\u001b[0m\u001b[1;33m\u001b[0m\u001b[0m\n\u001b[0;32m      3\u001b[0m \u001b[1;33m\u001b[0m\u001b[0m\n\u001b[1;32m----> 4\u001b[1;33m \u001b[0mprint\u001b[0m\u001b[1;33m(\u001b[0m\u001b[0ma\u001b[0m\u001b[1;33m>\u001b[0m\u001b[0mb\u001b[0m\u001b[1;33m)\u001b[0m\u001b[1;33m\u001b[0m\u001b[1;33m\u001b[0m\u001b[0m\n\u001b[0m",
      "\u001b[1;31mTypeError\u001b[0m: '>' not supported between instances of 'str' and 'int'"
     ]
    }
   ],
   "source": [
    "a = '5'\n",
    "b = 5\n",
    "\n",
    "print(a>b)"
   ]
  },
  {
   "cell_type": "code",
   "execution_count": 96,
   "id": "9bb2990c",
   "metadata": {},
   "outputs": [
    {
     "name": "stdout",
     "output_type": "stream",
     "text": [
      "True\n"
     ]
    }
   ],
   "source": [
    "a = '5'\n",
    "b = '5'\n",
    "print(a==b)"
   ]
  },
  {
   "cell_type": "markdown",
   "id": "3a017ed0",
   "metadata": {},
   "source": [
    "### 成员运算符in\n",
    "\n",
    "|案例|结果|\n",
    "|:---|:---|\n",
    "|``4 in [1,2,4]``|True|\n",
    "|``4 not in [1,2,4]``|False|\n",
    "|``3 in [1,2,4]``|False|\n",
    "|``3 not in [1,2,4]``|True|"
   ]
  },
  {
   "cell_type": "code",
   "execution_count": 97,
   "id": "15e41c28",
   "metadata": {},
   "outputs": [
    {
     "data": {
      "text/plain": [
       "True"
      ]
     },
     "execution_count": 97,
     "metadata": {},
     "output_type": "execute_result"
    }
   ],
   "source": [
    "x = 4 in [1,2,4]\n",
    "x"
   ]
  },
  {
   "cell_type": "code",
   "execution_count": 98,
   "id": "28163b11",
   "metadata": {},
   "outputs": [
    {
     "data": {
      "text/plain": [
       "False"
      ]
     },
     "execution_count": 98,
     "metadata": {},
     "output_type": "execute_result"
    }
   ],
   "source": [
    "y = 4 not in [1,2,4]\n",
    "y"
   ]
  },
  {
   "cell_type": "markdown",
   "id": "feca0534",
   "metadata": {},
   "source": [
    "### None\n",
    "特殊的空值，类似于C语言中的Null。"
   ]
  },
  {
   "cell_type": "code",
   "execution_count": 99,
   "id": "841da5ec",
   "metadata": {},
   "outputs": [],
   "source": [
    "None"
   ]
  },
  {
   "cell_type": "code",
   "execution_count": 100,
   "id": "f492728c",
   "metadata": {},
   "outputs": [
    {
     "data": {
      "text/plain": [
       "''"
      ]
     },
     "execution_count": 100,
     "metadata": {},
     "output_type": "execute_result"
    }
   ],
   "source": [
    "''"
   ]
  },
  {
   "cell_type": "code",
   "execution_count": null,
   "id": "3a3cf1be",
   "metadata": {},
   "outputs": [],
   "source": [
    "[]"
   ]
  },
  {
   "cell_type": "code",
   "execution_count": 101,
   "id": "b9528dd9",
   "metadata": {},
   "outputs": [
    {
     "data": {
      "text/plain": [
       "{}"
      ]
     },
     "execution_count": 101,
     "metadata": {},
     "output_type": "execute_result"
    }
   ],
   "source": [
    "dict()"
   ]
  },
  {
   "cell_type": "code",
   "execution_count": 102,
   "id": "3bbcad1c",
   "metadata": {},
   "outputs": [
    {
     "data": {
      "text/plain": [
       "NoneType"
      ]
     },
     "execution_count": 102,
     "metadata": {},
     "output_type": "execute_result"
    }
   ],
   "source": [
    "type(None)"
   ]
  },
  {
   "cell_type": "markdown",
   "id": "0dd5bf9d",
   "metadata": {},
   "source": [
    "## 逻辑语句(if&for&tryexcept)\n",
    "\n",
    "### if条件判断\n",
    "![](img/if图.png)\n",
    "\n",
    "### condition为布尔值、布尔运算、成员运算符\n",
    "通常我们理解的condition为布尔值"
   ]
  },
  {
   "cell_type": "code",
   "execution_count": 103,
   "id": "f94ff31a",
   "metadata": {},
   "outputs": [
    {
     "name": "stdout",
     "output_type": "stream",
     "text": [
      "condition为True\n"
     ]
    }
   ],
   "source": [
    "#Tab\n",
    "condition = True\n",
    "\n",
    "if condition:\n",
    "    print('condition为True')\n",
    "else:\n",
    "    print('condition为False')"
   ]
  },
  {
   "cell_type": "code",
   "execution_count": 106,
   "id": "cada69a3",
   "metadata": {},
   "outputs": [
    {
     "name": "stdout",
     "output_type": "stream",
     "text": [
      "你还是个孩子\n"
     ]
    }
   ],
   "source": [
    "age = 16\n",
    "if age>=18:\n",
    "    print('你是成年人了')\n",
    "else:\n",
    "    print('你还是个孩子')"
   ]
  },
  {
   "cell_type": "code",
   "execution_count": 107,
   "id": "e73e54cf",
   "metadata": {},
   "outputs": [
    {
     "name": "stdout",
     "output_type": "stream",
     "text": [
      "青年\n"
     ]
    }
   ],
   "source": [
    "age = 20\n",
    "\n",
    "if age>=55:\n",
    "    print('老年人')\n",
    "elif 35<=age<55:\n",
    "    print('中年')\n",
    "elif 18<=age<35:\n",
    "    print('青年')\n",
    "elif 0<=age<18:\n",
    "    print('儿童')\n"
   ]
  },
  {
   "cell_type": "markdown",
   "id": "1d2fddcc",
   "metadata": {},
   "source": [
    "### 特殊的conditon\n",
    "- 各种空值(空字符串、空列表等)作用等同于False\n",
    "- 各种非空值，作用等同于True"
   ]
  },
  {
   "cell_type": "code",
   "execution_count": 108,
   "id": "97a08425",
   "metadata": {},
   "outputs": [
    {
     "name": "stdout",
     "output_type": "stream",
     "text": [
      "a是空数据\n"
     ]
    }
   ],
   "source": [
    "a = None\n",
    "\n",
    "if a:\n",
    "    print('a是非空数据')\n",
    "else:\n",
    "    print('a是空数据')"
   ]
  },
  {
   "cell_type": "markdown",
   "id": "9c44bf16",
   "metadata": {},
   "source": [
    "### for循环\n",
    "- 重复做某件事\n",
    "- 迭代出数据中的内容(元素)\n",
    "![](img/for循环.png)\n",
    "\n",
    "上面这个图可以解读为\n",
    "\n",
    "我们想对iterable这个集合中的每一个item:\n",
    "    \n",
    "    做点事(对item做操作)\n",
    "\n",
    "重复做某事\n",
    "\n",
    "问题1\n",
    "计算1+2+3+...+97+98+99+100=?"
   ]
  },
  {
   "cell_type": "code",
   "execution_count": 110,
   "id": "4dad552d",
   "metadata": {},
   "outputs": [
    {
     "name": "stdout",
     "output_type": "stream",
     "text": [
      "5050\n"
     ]
    }
   ],
   "source": [
    "result = 0\n",
    "\n",
    "#int\n",
    "for i in range(1, 101):\n",
    "    result = result + i\n",
    "    \n",
    "print(result)"
   ]
  },
  {
   "cell_type": "markdown",
   "id": "88083dbe",
   "metadata": {},
   "source": [
    "### 迭代出数据中的内容"
   ]
  },
  {
   "cell_type": "code",
   "execution_count": 112,
   "id": "60a59353",
   "metadata": {},
   "outputs": [
    {
     "name": "stdout",
     "output_type": "stream",
     "text": [
      "David\n",
      "Henry\n",
      "Mary\n"
     ]
    }
   ],
   "source": [
    "names = ['David', 'Henry', 'Mary']\n",
    "\n",
    "for name in names:\n",
    "    print(name)"
   ]
  },
  {
   "cell_type": "code",
   "execution_count": 113,
   "id": "b77d7ec8",
   "metadata": {},
   "outputs": [
    {
     "name": "stdout",
     "output_type": "stream",
     "text": [
      "D\n",
      "a\n",
      "v\n",
      "i\n",
      "d\n"
     ]
    }
   ],
   "source": [
    "name = 'David'\n",
    "\n",
    "for s in name:\n",
    "    print(s)"
   ]
  },
  {
   "cell_type": "code",
   "execution_count": 119,
   "id": "bf249a60",
   "metadata": {},
   "outputs": [
    {
     "name": "stdout",
     "output_type": "stream",
     "text": [
      "('David', {'age': 25, 'gender': 'Male'})\n",
      "('Mary', {'age': 23, 'gender': 'Female'})\n",
      "('Henry', {'age': 23, 'gender': 'Male'})\n"
     ]
    }
   ],
   "source": [
    "infos =  {'David':{'age':25, \n",
    "                   'gender':'Male'},\n",
    "          'Mary':{'age':23,\n",
    "                  'gender': 'Female'},\n",
    "          'Henry':{'age':23,\n",
    "                  'gender': 'Male'}\n",
    "         }\n",
    "\n",
    "for item in infos.items():\n",
    "    print(item)"
   ]
  },
  {
   "cell_type": "markdown",
   "id": "99843c2e",
   "metadata": {},
   "source": [
    "### try-except"
   ]
  },
  {
   "cell_type": "code",
   "execution_count": 120,
   "id": "4aa9932b",
   "metadata": {},
   "outputs": [
    {
     "name": "stdout",
     "output_type": "stream",
     "text": [
      "10.0\n",
      "5.0\n"
     ]
    },
    {
     "ename": "ZeroDivisionError",
     "evalue": "division by zero",
     "output_type": "error",
     "traceback": [
      "\u001b[1;31m---------------------------------------------------------------------------\u001b[0m",
      "\u001b[1;31mZeroDivisionError\u001b[0m                         Traceback (most recent call last)",
      "\u001b[1;32m~\\AppData\\Local\\Temp/ipykernel_10264/3014728168.py\u001b[0m in \u001b[0;36m<module>\u001b[1;34m\u001b[0m\n\u001b[0;32m      1\u001b[0m \u001b[1;32mfor\u001b[0m \u001b[0mx\u001b[0m \u001b[1;32min\u001b[0m \u001b[1;33m[\u001b[0m\u001b[1;36m1\u001b[0m\u001b[1;33m,\u001b[0m\u001b[1;36m2\u001b[0m\u001b[1;33m,\u001b[0m\u001b[1;36m0\u001b[0m\u001b[1;33m,\u001b[0m\u001b[1;36m2\u001b[0m\u001b[1;33m,\u001b[0m\u001b[1;36m1\u001b[0m\u001b[1;33m]\u001b[0m\u001b[1;33m:\u001b[0m\u001b[1;33m\u001b[0m\u001b[1;33m\u001b[0m\u001b[0m\n\u001b[1;32m----> 2\u001b[1;33m     \u001b[0mprint\u001b[0m\u001b[1;33m(\u001b[0m\u001b[1;36m10\u001b[0m\u001b[1;33m/\u001b[0m\u001b[0mx\u001b[0m\u001b[1;33m)\u001b[0m\u001b[1;33m\u001b[0m\u001b[1;33m\u001b[0m\u001b[0m\n\u001b[0m",
      "\u001b[1;31mZeroDivisionError\u001b[0m: division by zero"
     ]
    }
   ],
   "source": [
    "for x in [1,2,0,2,1]:\n",
    "    print(10/x)"
   ]
  },
  {
   "cell_type": "markdown",
   "id": "e1e40ade",
   "metadata": {},
   "source": [
    "### 练习1\n",
    "\n",
    "假设现在某人的能力为1， 每天比前一天进步0.01， 一年后他的能力是多少？"
   ]
  },
  {
   "cell_type": "code",
   "execution_count": 121,
   "id": "bbf0e8ff",
   "metadata": {},
   "outputs": [
    {
     "name": "stdout",
     "output_type": "stream",
     "text": [
      "[1.01, 1.0201, 1.030301, 1.04060401, 1.0510100501, 1.061520150601, 1.0721353521070098, 1.08285670562808, 1.0936852726843609, 1.1046221254112045, 1.1156683466653166, 1.1268250301319698, 1.1380932804332895, 1.1494742132376223, 1.1609689553699987, 1.1725786449236986, 1.1843044313729356, 1.196147475686665, 1.2081089504435316, 1.220190039947967, 1.2323919403474468, 1.2447158597509214, 1.2571630183484306, 1.269734648531915, 1.282431995017234, 1.2952563149674063, 1.3082088781170804, 1.3212909668982513, 1.334503876567234, 1.3478489153329063, 1.3613274044862353, 1.3749406785310978, 1.3886900853164088, 1.402576986169573, 1.4166027560312686, 1.4307687835915812, 1.445076471427497, 1.4595272361417722, 1.47412250850319, 1.4888637335882218, 1.503752370924104, 1.5187898946333451, 1.5339777935796786, 1.5493175715154754, 1.5648107472306303, 1.5804588547029366, 1.596263443249966, 1.6122260776824657, 1.6283483384592905, 1.6446318218438833, 1.6610781400623222, 1.6776889214629456, 1.694465810677575, 1.7114104687843508, 1.7285245734721943, 1.7458098192069162, 1.7632679173989854, 1.7809005965729752, 1.798709602538705, 1.8166966985640922, 1.8348636655497332, 1.8532123022052305, 1.8717444252272828, 1.8904618694795556, 1.9093664881743513, 1.9284601530560948, 1.9477447545866557, 1.9672222021325223, 1.9868944241538475, 2.006763368395386, 2.02683100207934, 2.047099312100133, 2.0675703052211345, 2.088246008273346, 2.1091284683560794, 2.1302197530396403, 2.1515219505700367, 2.173037170075737, 2.1947675417764945, 2.2167152171942592, 2.238882369366202, 2.261271193059864, 2.2838839049904625, 2.3067227440403673, 2.329789971480771, 2.3530878711955787, 2.3766187499075344, 2.40038493740661, 2.424388786780676, 2.4486326746484828, 2.4731190013949678, 2.4978501914089173, 2.5228286933230066, 2.5480569802562365, 2.573537550058799, 2.599272925559387, 2.6252656548149806, 2.6515183113631307, 2.678033494476762, 2.7048138294215294, 2.7318619677157447, 2.759180587392902, 2.786772393266831, 2.8146401171994992, 2.8427865183714944, 2.8712143835552095, 2.8999265273907615, 2.928925792664669, 2.9582150505913156, 2.9877972010972287, 3.017675173108201, 3.0478519248392835, 3.078330444087676, 3.109113748528553, 3.1402048860138385, 3.171606934873977, 3.203323004222717, 3.2353562342649442, 3.2677097966075936, 3.3003868945736694, 3.333390763519406, 3.3667246711546, 3.400391917866146, 3.4343958370448076, 3.4687397954152557, 3.5034271933694083, 3.5384614653031026, 3.573846079956134, 3.6095845407556952, 3.645680386163252, 3.6821371900248847, 3.7189585619251337, 3.756148147544385, 3.793709629019829, 3.8316467253100273, 3.8699631925631275, 3.9086628244887587, 3.947749452733646, 3.9872269472609827, 4.027099216733593, 4.067370208900929, 4.108043910989938, 4.149124350099838, 4.190615593600836, 4.232521749536844, 4.274846967032213, 4.317595436702534, 4.36077139106956, 4.404379104980255, 4.448422896030058, 4.492907124990358, 4.537836196240262, 4.583214558202664, 4.629046703784691, 4.675337170822537, 4.722090542530763, 4.7693114479560705, 4.817004562435631, 4.865174608059988, 4.913826354140587, 4.962964617681993, 5.012594263858813, 5.062720206497401, 5.113347408562375, 5.164480882647999, 5.216125691474479, 5.268286948389224, 5.320969817873116, 5.374179516051847, 5.427921311212366, 5.482200524324489, 5.537022529567734, 5.592392754863411, 5.648316682412045, 5.704799849236166, 5.761847847728528, 5.819466326205813, 5.877660989467871, 5.9364375993625496, 5.9958019753561755, 6.055759995109737, 6.116317595060834, 6.177480771011442, 6.239255578721557, 6.301648134508772, 6.36466461585386, 6.428311262012398, 6.492594374632523, 6.557520318378848, 6.623095521562637, 6.689326476778263, 6.7562197415460465, 6.823781938961507, 6.892019758351122, 6.960939955934633, 7.03054935549398, 7.100854849048919, 7.171863397539409, 7.243582031514803, 7.316017851829951, 7.38917803034825, 7.463069810651733, 7.537700508758251, 7.613077513845833, 7.689208288984291, 7.766100371874135, 7.843761375592877, 7.922198989348805, 8.001420979242294, 8.081435189034718, 8.162249540925066, 8.243872036334317, 8.32631075669766, 8.409573864264637, 8.493669602907284, 8.578606298936357, 8.66439236192572, 8.751036285544979, 8.83854664840043, 8.926932114884433, 9.016201436033278, 9.10636345039361, 9.197427084897546, 9.289401355746522, 9.382295369303987, 9.476118322997028, 9.570879506226998, 9.666588301289268, 9.763254184302161, 9.860886726145182, 9.959495593406634, 10.0590905493407, 10.159681454834107, 10.261278269382448, 10.363891052076273, 10.467529962597036, 10.572205262223006, 10.677927314845236, 10.78470658799369, 10.892553653873627, 11.001479190412363, 11.111493982316487, 11.222608922139653, 11.334835011361049, 11.44818336147466, 11.562665195089407, 11.6782918470403, 11.795074765510703, 11.91302551316581, 12.032155768297468, 12.152477325980442, 12.274002099240246, 12.396742120232648, 12.520709541434975, 12.645916636849325, 12.772375803217818, 12.900099561249997, 13.029100556862497, 13.159391562431122, 13.290985478055433, 13.423895332835986, 13.558134286164346, 13.69371562902599, 13.83065278531625, 13.968959313169412, 14.108648906301106, 14.249735395364118, 14.39223274931776, 14.536155076810937, 14.681516627579047, 14.828331793854836, 14.976615111793384, 15.126381262911318, 15.27764507554043, 15.430421526295834, 15.584725741558794, 15.740572998974383, 15.897978728964127, 16.05695851625377, 16.217528101416306, 16.37970338243047, 16.543500416254776, 16.708935420417323, 16.876024774621495, 17.04478502236771, 17.215232872591386, 17.3873852013173, 17.561259053330474, 17.73687164386378, 17.91424036030242, 18.093382763905442, 18.274316591544498, 18.45705975745994, 18.64163035503454, 18.828046658584885, 19.016327125170733, 19.206490396422442, 19.398555300386665, 19.59254085339053, 19.788466261924437, 19.986350924543682, 20.186214433789118, 20.38807657812701, 20.59195734390828, 20.797876917347363, 21.005855686520835, 21.215914243386045, 21.428073385819907, 21.642354119678107, 21.85877766087489, 22.07736543748364, 22.298139091858477, 22.52112048277706, 22.746331687604833, 22.97379500448088, 23.203532954525688, 23.435568284070946, 23.669923966911657, 23.906623206580775, 24.145689438646585, 24.38714633303305, 24.63101779636338, 24.877327974327013, 25.126101254070285, 25.377362266610987, 25.631135889277097, 25.887447248169867, 26.146321720651567, 26.407784937858082, 26.671862787236662, 26.93858141510903, 27.20796722926012, 27.480046901552722, 27.75484737056825, 28.032395844273932, 28.31271980271667, 28.595847000743838, 28.881805470751278, 29.17062352545879, 29.462329760713377, 29.756953058320512, 30.05452258890372, 30.355067814792758, 30.658618492940686, 30.965204677870094, 31.274856724648796, 31.587605291895283, 31.903481344814235, 32.22251615826238, 32.544741319845, 32.870188733043456, 33.19889062037389, 33.53087952657763, 33.8661883218434, 34.20485020506184, 34.546898707112454, 34.89236769418358, 35.24129137112541, 35.59370428483667, 35.949641327685036, 36.30913774096189, 36.672229118371504, 37.03895140955522, 37.40934092365077, 37.783434332887275]\n"
     ]
    }
   ],
   "source": [
    "ability = 1\n",
    "scale = 1.01\n",
    "\n",
    "records = []\n",
    "for i in range(365):\n",
    "    ability = ability * 1.01\n",
    "    records.append(ability)\n",
    "    \n",
    "print(records)"
   ]
  },
  {
   "cell_type": "code",
   "execution_count": 122,
   "id": "12dac8a0",
   "metadata": {},
   "outputs": [
    {
     "data": {
      "text/plain": [
       "Text(0.5, 1.0, 'Be better everyday!')"
      ]
     },
     "execution_count": 122,
     "metadata": {},
     "output_type": "execute_result"
    },
    {
     "data": {
      "image/png": "[encoded data removed]",
      "text/plain": [
       "<Figure size 432x288 with 1 Axes>"
      ]
     },
     "metadata": {
      "needs_background": "light"
     },
     "output_type": "display_data"
    }
   ],
   "source": [
    "import matplotlib.pyplot as plt\n",
    "import math\n",
    "%matplotlib inline\n",
    "\n",
    "ability = 1\n",
    "scale = 1.02\n",
    "records = []\n",
    "\n",
    "days = range(1, 365)\n",
    "for day in days:\n",
    "    ability = ability*scale\n",
    "    records.append(ability)\n",
    " \n",
    "\n",
    "plt.plot(days, records)\n",
    "plt.title('Be better everyday!')"
   ]
  },
  {
   "cell_type": "markdown",
   "id": "77622e62",
   "metadata": {},
   "source": [
    "### 安装包的方法\n",
    "1. 命令行执行 ``pip install packagename``\n",
    "2. jupyter notebook的Cell中执行``!pip install packagename``\n",
    "3. 如果是mac，pip写成pip3"
   ]
  },
  {
   "cell_type": "code",
   "execution_count": null,
   "id": "750d52fc",
   "metadata": {},
   "outputs": [],
   "source": [
    "!pip install matplotlib"
   ]
  },
  {
   "cell_type": "markdown",
   "id": "51a73d7c",
   "metadata": {},
   "source": [
    "### 练习2\n",
    "**打印九九乘法表格**\n",
    "![](img/九九乘法表2.png)\n",
    "用到的知识点:\n",
    "- for循环\n",
    "- 字符串format方法\n",
    "- print函数(涉及到end参数)"
   ]
  },
  {
   "cell_type": "code",
   "execution_count": 125,
   "id": "4fccd0b9",
   "metadata": {},
   "outputs": [
    {
     "name": "stdout",
     "output_type": "stream",
     "text": [
      "1*1=1\t\n",
      "1*2=2\t2*2=4\t\n",
      "1*3=3\t2*3=6\t3*3=9\t\n",
      "1*4=4\t2*4=8\t3*4=12\t4*4=16\t\n",
      "1*5=5\t2*5=10\t3*5=15\t4*5=20\t5*5=25\t\n",
      "1*6=6\t2*6=12\t3*6=18\t4*6=24\t5*6=30\t6*6=36\t\n",
      "1*7=7\t2*7=14\t3*7=21\t4*7=28\t5*7=35\t6*7=42\t7*7=49\t\n",
      "1*8=8\t2*8=16\t3*8=24\t4*8=32\t5*8=40\t6*8=48\t7*8=56\t8*8=64\t\n",
      "1*9=9\t2*9=18\t3*9=27\t4*9=36\t5*9=45\t6*9=54\t7*9=63\t8*9=72\t9*9=81\t\n"
     ]
    }
   ],
   "source": [
    "for row in range(1, 10):\n",
    "    #print(row)\n",
    "    for col in range(1, row+1):\n",
    "        formula = '{col}*{row}={res}'.format(col=col, row=row, res=col*row)\n",
    "        print(formula, end='\\t')\n",
    "    print('')"
   ]
  },
  {
   "cell_type": "code",
   "execution_count": 126,
   "id": "9a10a312",
   "metadata": {},
   "outputs": [
    {
     "name": "stdout",
     "output_type": "stream",
     "text": [
      "Help on built-in function print in module builtins:\n",
      "\n",
      "print(...)\n",
      "    print(value, ..., sep=' ', end='\\n', file=sys.stdout, flush=False)\n",
      "    \n",
      "    Prints the values to a stream, or to sys.stdout by default.\n",
      "    Optional keyword arguments:\n",
      "    file:  a file-like object (stream); defaults to the current sys.stdout.\n",
      "    sep:   string inserted between values, default a space.\n",
      "    end:   string appended after the last value, default a newline.\n",
      "    flush: whether to forcibly flush the stream.\n",
      "\n"
     ]
    }
   ],
   "source": [
    "help(print)"
   ]
  },
  {
   "cell_type": "markdown",
   "id": "ba8707fa",
   "metadata": {},
   "source": [
    "## 列表推导式\n",
    "\n",
    "### 问题1 用列表表示集合X\n",
    "\n",
    "$X= \\{x| x \\in [1,2,3,4,5,6,7,8,9,10]\\}$"
   ]
  },
  {
   "cell_type": "code",
   "execution_count": 127,
   "id": "aab682d8",
   "metadata": {},
   "outputs": [
    {
     "data": {
      "text/plain": [
       "[1, 2, 3, 4, 5, 6, 7, 8, 9, 10]"
      ]
     },
     "execution_count": 127,
     "metadata": {},
     "output_type": "execute_result"
    }
   ],
   "source": [
    "X = [1,2,3,4,5,6,7,8,9,10]\n",
    "X"
   ]
  },
  {
   "cell_type": "code",
   "execution_count": 128,
   "id": "ba2c083f",
   "metadata": {},
   "outputs": [
    {
     "data": {
      "text/plain": [
       "[1, 2, 3, 4, 5, 6, 7, 8, 9]"
      ]
     },
     "execution_count": 128,
     "metadata": {},
     "output_type": "execute_result"
    }
   ],
   "source": [
    "X = list(range(1, 10))\n",
    "X"
   ]
  },
  {
   "cell_type": "markdown",
   "id": "a68ad22d",
   "metadata": {},
   "source": [
    "### 问题2 表示集合Y\n",
    "$Y = \\{x^2| x \\in [1,2,3,4,5,6,7,8,9,10]\\}$"
   ]
  },
  {
   "cell_type": "code",
   "execution_count": 129,
   "id": "bfa4b5f5",
   "metadata": {},
   "outputs": [
    {
     "data": {
      "text/plain": [
       "[1, 4, 9, 16, 25, 36, 49, 64, 81]"
      ]
     },
     "execution_count": 129,
     "metadata": {},
     "output_type": "execute_result"
    }
   ],
   "source": [
    "Y = []\n",
    "\n",
    "for x in X:\n",
    "    Y.append(x*x)\n",
    "    \n",
    "Y"
   ]
  },
  {
   "cell_type": "markdown",
   "id": "c504ce73",
   "metadata": {},
   "source": [
    "### 列表推导式\n",
    "\n",
    "实现步骤\n",
    "1. 先复制X\n",
    "2. 再对X中的元素x进行操作"
   ]
  },
  {
   "cell_type": "code",
   "execution_count": null,
   "id": "2727b272",
   "metadata": {},
   "outputs": [],
   "source": [
    "#先复制X\n",
    "[x for x in X]"
   ]
  },
  {
   "cell_type": "code",
   "execution_count": null,
   "id": "61170ef1",
   "metadata": {},
   "outputs": [],
   "source": [
    "#再对x进行操作\n",
    "[x*x for x in X]"
   ]
  },
  {
   "cell_type": "markdown",
   "id": "8abe9486",
   "metadata": {},
   "source": [
    "### 理解列表推导式\n",
    "\n",
    "![](img/列表推导式理解.JPG)\n",
    "\n",
    "### 带条件的列表推导式\n",
    "$C= \\{x^2 | (x \\in X) \\cap (x>5)\\}$"
   ]
  },
  {
   "cell_type": "code",
   "execution_count": 131,
   "id": "157cc2b1",
   "metadata": {},
   "outputs": [
    {
     "data": {
      "text/plain": [
       "[1, 2, 3, 4, 5, 6, 7, 8, 9]"
      ]
     },
     "execution_count": 131,
     "metadata": {},
     "output_type": "execute_result"
    }
   ],
   "source": [
    "#复制X\n",
    "[x for x in X]"
   ]
  },
  {
   "cell_type": "code",
   "execution_count": 132,
   "id": "3d3415bc",
   "metadata": {},
   "outputs": [
    {
     "data": {
      "text/plain": [
       "[6, 7, 8, 9]"
      ]
     },
     "execution_count": 132,
     "metadata": {},
     "output_type": "execute_result"
    }
   ],
   "source": [
    "#X中的要大于5\n",
    "#[x for x in X if x>5]\n",
    "\n",
    "\n",
    "[x \n",
    " for x in X \n",
    " if x>5]"
   ]
  },
  {
   "cell_type": "code",
   "execution_count": 133,
   "id": "da043003",
   "metadata": {},
   "outputs": [
    {
     "data": {
      "text/plain": [
       "[36, 49, 64, 81]"
      ]
     },
     "execution_count": 133,
     "metadata": {},
     "output_type": "execute_result"
    }
   ],
   "source": [
    "#对满足条件的x进行操作\n",
    "#[x*x for x in X if x>5]\n",
    "\n",
    "[x*x \n",
    " for x in X \n",
    " if x>5]"
   ]
  },
  {
   "cell_type": "markdown",
   "id": "fc92b425",
   "metadata": {},
   "source": [
    "### 问题3 全部小写"
   ]
  },
  {
   "cell_type": "code",
   "execution_count": 134,
   "id": "20c1d100",
   "metadata": {},
   "outputs": [
    {
     "data": {
      "text/plain": [
       "['Life',\n",
       " 'is',\n",
       " 'short',\n",
       " 'so',\n",
       " 'we',\n",
       " 'use',\n",
       " 'Python',\n",
       " 'python',\n",
       " 'is',\n",
       " 'easy',\n",
       " 'to',\n",
       " 'learn',\n",
       " 'and',\n",
       " 'easy',\n",
       " 'to',\n",
       " 'use']"
      ]
     },
     "execution_count": 134,
     "metadata": {},
     "output_type": "execute_result"
    }
   ],
   "source": [
    "words = ['Life', 'is', 'short', 'so', 'we', 'use', 'Python', 'python', \n",
    "         'is', 'easy', 'to', 'learn', 'and', 'easy', 'to', 'use']\n",
    "words"
   ]
  },
  {
   "cell_type": "code",
   "execution_count": 135,
   "id": "97ea5a9b",
   "metadata": {},
   "outputs": [
    {
     "data": {
      "text/plain": [
       "['life',\n",
       " 'is',\n",
       " 'short',\n",
       " 'so',\n",
       " 'we',\n",
       " 'use',\n",
       " 'python',\n",
       " 'python',\n",
       " 'is',\n",
       " 'easy',\n",
       " 'to',\n",
       " 'learn',\n",
       " 'and',\n",
       " 'easy',\n",
       " 'to',\n",
       " 'use']"
      ]
     },
     "execution_count": 135,
     "metadata": {},
     "output_type": "execute_result"
    }
   ],
   "source": [
    "lower_words = [w.lower() for w in words]\n",
    "lower_words"
   ]
  },
  {
   "cell_type": "markdown",
   "id": "b5b66698",
   "metadata": {},
   "source": [
    "### 问题4 计算lower_words列表数据的单词词频"
   ]
  },
  {
   "cell_type": "code",
   "execution_count": 136,
   "id": "ed0e6da7",
   "metadata": {},
   "outputs": [
    {
     "data": {
      "text/plain": [
       "[('and', 1),\n",
       " ('short', 1),\n",
       " ('so', 1),\n",
       " ('learn', 1),\n",
       " ('use', 2),\n",
       " ('is', 2),\n",
       " ('python', 2),\n",
       " ('easy', 2),\n",
       " ('to', 2),\n",
       " ('we', 1),\n",
       " ('life', 1)]"
      ]
     },
     "execution_count": 136,
     "metadata": {},
     "output_type": "execute_result"
    }
   ],
   "source": [
    "wordset = set(lower_words)\n",
    "[(w, lower_words.count(w)) for w in wordset]"
   ]
  },
  {
   "cell_type": "code",
   "execution_count": 137,
   "id": "92cb1f80",
   "metadata": {},
   "outputs": [
    {
     "name": "stdout",
     "output_type": "stream",
     "text": [
      "{'and', 'short', 'so', 'learn', 'use', 'is', 'python', 'easy', 'to', 'we', 'life'}\n"
     ]
    }
   ],
   "source": [
    "#1 生产词语集合\n",
    "wordset = set(lower_words)\n",
    "print(wordset)"
   ]
  },
  {
   "cell_type": "code",
   "execution_count": 138,
   "id": "09ed4183",
   "metadata": {},
   "outputs": [
    {
     "data": {
      "text/plain": [
       "['and',\n",
       " 'short',\n",
       " 'so',\n",
       " 'learn',\n",
       " 'use',\n",
       " 'is',\n",
       " 'python',\n",
       " 'easy',\n",
       " 'to',\n",
       " 'we',\n",
       " 'life']"
      ]
     },
     "execution_count": 138,
     "metadata": {},
     "output_type": "execute_result"
    }
   ],
   "source": [
    "#2. wordset复制wordset自己\n",
    "[w for w in wordset]"
   ]
  },
  {
   "cell_type": "code",
   "execution_count": 139,
   "id": "4af548a4",
   "metadata": {},
   "outputs": [
    {
     "data": {
      "text/plain": [
       "[1, 1, 1, 1, 2, 2, 2, 2, 2, 1, 1]"
      ]
     },
     "execution_count": 139,
     "metadata": {},
     "output_type": "execute_result"
    }
   ],
   "source": [
    "#3. 对wordset中每个词语w进行一些操作\n",
    "[lower_words.count(w) for w in wordset]"
   ]
  },
  {
   "cell_type": "code",
   "execution_count": 140,
   "id": "c9e23040",
   "metadata": {},
   "outputs": [
    {
     "data": {
      "text/plain": [
       "[('and', 1),\n",
       " ('short', 1),\n",
       " ('so', 1),\n",
       " ('learn', 1),\n",
       " ('use', 2),\n",
       " ('is', 2),\n",
       " ('python', 2),\n",
       " ('easy', 2),\n",
       " ('to', 2),\n",
       " ('we', 1),\n",
       " ('life', 1)]"
      ]
     },
     "execution_count": 140,
     "metadata": {},
     "output_type": "execute_result"
    }
   ],
   "source": [
    "#3. 词频和词语一起显示\n",
    "[(w,lower_words.count(w)) for w in wordset]"
   ]
  },
  {
   "cell_type": "markdown",
   "id": "4f756cd4",
   "metadata": {},
   "source": [
    "### 问题5\n",
    "\n",
    "```python\n",
    "d = {'x': 'A', \n",
    "     'y': 'B', \n",
    "     'z': 'C' }\n",
    "```\n",
    "\n",
    "如何将d中的 键值对 拼接,输出为\n",
    "\n",
    "``['xA', 'yB', 'zC]``"
   ]
  },
  {
   "cell_type": "code",
   "execution_count": 141,
   "id": "fe7aca38",
   "metadata": {},
   "outputs": [
    {
     "data": {
      "text/plain": [
       "dict_items([('x', 'A'), ('y', 'B'), ('z', 'C')])"
      ]
     },
     "execution_count": 141,
     "metadata": {},
     "output_type": "execute_result"
    }
   ],
   "source": [
    "d = {'x': 'A', \n",
    "     'y': 'B', \n",
    "     'z': 'C' }\n",
    "\n",
    "d.items()"
   ]
  },
  {
   "cell_type": "code",
   "execution_count": 142,
   "id": "ea437782",
   "metadata": {},
   "outputs": [
    {
     "data": {
      "text/plain": [
       "[('x', 'A'), ('y', 'B'), ('z', 'C')]"
      ]
     },
     "execution_count": 142,
     "metadata": {},
     "output_type": "execute_result"
    }
   ],
   "source": [
    "#1 自己复制d.items()自己\n",
    "[i for i in d.items()]"
   ]
  },
  {
   "cell_type": "code",
   "execution_count": 143,
   "id": "9898b759",
   "metadata": {},
   "outputs": [
    {
     "data": {
      "text/plain": [
       "['xA', 'yB', 'zC']"
      ]
     },
     "execution_count": 143,
     "metadata": {},
     "output_type": "execute_result"
    }
   ],
   "source": [
    "#2 对任何一个元素都要进行字符串的拼接操作\n",
    "[i[0]+i[1] for i in d.items()]"
   ]
  },
  {
   "cell_type": "markdown",
   "id": "a5f2b26a",
   "metadata": {},
   "source": [
    "## 函数\n",
    "\n",
    "可重复使用的代码块\n",
    "\n",
    "![](img/函数.png)\n",
    "\n",
    "def函数常见参数定义&调用方式\n",
    "- 位置参数\n",
    "- 关键词参数\n",
    "- 默认参数\n",
    "\n",
    "\n",
    "### 位置参数"
   ]
  },
  {
   "cell_type": "code",
   "execution_count": 148,
   "id": "1aab4caa",
   "metadata": {},
   "outputs": [
    {
     "data": {
      "text/plain": [
       "21"
      ]
     },
     "execution_count": 148,
     "metadata": {},
     "output_type": "execute_result"
    }
   ],
   "source": [
    "def xy1(x, z):\n",
    "    y = x**2 + x + z\n",
    "    return y\n",
    "\n",
    "xy1(4, 1)"
   ]
  },
  {
   "cell_type": "code",
   "execution_count": 149,
   "id": "43c482d0",
   "metadata": {},
   "outputs": [
    {
     "data": {
      "text/plain": [
       "'我是张三,今年25'"
      ]
     },
     "execution_count": 149,
     "metadata": {},
     "output_type": "execute_result"
    }
   ],
   "source": [
    "def hello1(name, age):\n",
    "    return '我是{0},今年{1}'.format(name, age)\n",
    "    \n",
    "hello1('张三', 25)"
   ]
  },
  {
   "cell_type": "code",
   "execution_count": 150,
   "id": "4873e146",
   "metadata": {},
   "outputs": [
    {
     "data": {
      "text/plain": [
       "'我是25,今年张三'"
      ]
     },
     "execution_count": 150,
     "metadata": {},
     "output_type": "execute_result"
    }
   ],
   "source": [
    "hello1(25,'张三')"
   ]
  },
  {
   "cell_type": "markdown",
   "id": "4f686ada",
   "metadata": {},
   "source": [
    "### 关键词参数"
   ]
  },
  {
   "cell_type": "code",
   "execution_count": 151,
   "id": "b6506ad4",
   "metadata": {},
   "outputs": [
    {
     "data": {
      "text/plain": [
       "'我是张三,今年25'"
      ]
     },
     "execution_count": 151,
     "metadata": {},
     "output_type": "execute_result"
    }
   ],
   "source": [
    "def hello2(name, age):\n",
    "    return '我是{0},今年{1}'.format(name, age)\n",
    "    \n",
    "    \n",
    "hello2(name='张三', age=25)"
   ]
  },
  {
   "cell_type": "code",
   "execution_count": 152,
   "id": "e2ebeac1",
   "metadata": {},
   "outputs": [
    {
     "data": {
      "text/plain": [
       "'我是张三,今年25'"
      ]
     },
     "execution_count": 152,
     "metadata": {},
     "output_type": "execute_result"
    }
   ],
   "source": [
    "hello2(age=25, name='张三')"
   ]
  },
  {
   "cell_type": "markdown",
   "id": "437f86be",
   "metadata": {},
   "source": [
    "### 默认参数"
   ]
  },
  {
   "cell_type": "code",
   "execution_count": 153,
   "id": "59a148ba",
   "metadata": {},
   "outputs": [
    {
     "data": {
      "text/plain": [
       "'我是David,今年25, 性别男'"
      ]
     },
     "execution_count": 153,
     "metadata": {},
     "output_type": "execute_result"
    }
   ],
   "source": [
    "def hello3(name, age, gender='男'):\n",
    "    return '我是{0},今年{1}, 性别{2}'.format(name, age, gender)\n",
    "\n",
    "    \n",
    "hello3('David', 25)"
   ]
  },
  {
   "cell_type": "code",
   "execution_count": 154,
   "id": "ff393be2",
   "metadata": {},
   "outputs": [
    {
     "data": {
      "text/plain": [
       "'我是David,今年25, 性别male'"
      ]
     },
     "execution_count": 154,
     "metadata": {},
     "output_type": "execute_result"
    }
   ],
   "source": [
    "hello3('David', 25, gender='male')"
   ]
  },
  {
   "cell_type": "markdown",
   "id": "3f9bd0b4",
   "metadata": {},
   "source": [
    "## 常见函数\n",
    "\n",
    "### 重点函数\n",
    "\n",
    "- sorted(lst， ascending)\n",
    "- range(start, end, step)\n",
    "- enumerate(lst)\n",
    "- eval(expression)\n",
    "- zip(lst1, lst2..)\n",
    "- map(func, lst)\n",
    "- print(x)\n",
    "- open(file, encoding)\n",
    "\n",
    "### 数学相关\n",
    "\n",
    "| 函数                        | 功能                                                         | 例子              | 运行结果    |\n",
    "| --------------------------- | ------------------------------------------------------------ | ----------------- | ----------- |\n",
    "| abs(a)                      | 对a取绝对值                                                  | abs(-1)           | 1           |\n",
    "| max(lst)、min(lst)          | 寻找lst中的最大、最小值                                      | max([3, 2, 9])    | 9           |\n",
    "| sum(lst)                    | 对lst内所有数字求和                                          | sum([3, 2, 9])    | 14          |\n",
    "| ==sorted(lst， ascending)== | 对lst排序； 参数ascending为布尔值控制升降序                  | sorted([3, 2, 9]) | [2, 3, 9]   |\n",
    "| ==range(start, end, step)== | 以步长step，生成从start到end的数列,默认step=1，结果取不到end | list(range(1,5))  | [1, 2, 3,4] |\n",
    "\n",
    "### 类型转换\n",
    "\n",
    "| 函数               | 功能                                                       | 例子                             | 运行结果                      |\n",
    "| ------------------ | ---------------------------------------------------------- | -------------------------------- | ----------------------------- |\n",
    "| int(string)        | 将字符串数改为整数型                                       | int('9')                         | 9                             |\n",
    "| float(int/str)     | 将int或str改为浮点型                                       | float(9)、float('9')             | 9.0                           |\n",
    "| list(iterable)     | 将可迭代对象为列表。这里的iterable可以为字符串，可以是列表 | list('abc')                      | ['a', 'b', 'c']               |\n",
    "| ==enumerate(lst)== | 返回带有索引值的序列seq.==需要list(seq)处理后才能看到seq== | list(enumerate(['a', 'b', 'c'])) | [(0,'a'), (1, 'b'), (2, 'c')] |\n",
    "| tuple(lst)         | 将lst变为tuple                                             | tuple([1,2,3])                   | (1,2,3)                       |\n",
    "| set(lst)           | 将lst变为集合                                              | set([1,4,4,4,3])                 | {1,3,4}                       |\n",
    "\n",
    "### 功能函数\n",
    "\n",
    "| 函数                      | 功能                                                        | 例子                           | 运行结果                 |\n",
    "| ------------------------- | ----------------------------------------------------------- | ------------------------------ | ------------------------ |\n",
    "| ==eval(expression)==      | 执行一个表达式                                              | eval('1+1')                    | 2                        |\n",
    "| ==zip(lst1,lst2...)==     | 将lst1,lst2...合并,返回zip对象。==需要list处理一下zip对象== | list(zip([1,2,3],[4,5,6]))     | [(1, 4), (2, 5), (3, 6)] |\n",
    "| ==type(x)==               | 查看X的类型                                                 | type('2')                      | <class 'str'>            |\n",
    "| help(x)                   | 查看X的相关信息                                             | help([1, 2])                   | Help on list object..    |\n",
    "| ==map(func, lst)==        | 对lst中的每一个个体都进行func操作                           | list(map(sum, [[1,1], [1,2]])) | [2, 3]                   |\n",
    "| ==print(x)==              | 打印x                                                       | print('abc')                   | Abc                      |\n",
    "| ==open(file， encoding)== | 打开file文件， encoding是file的文件编码                     |                                |                          |\n",
    "\n",
    "\n",
    "\n",
    "## Python内置常用函数\n",
    "\n",
    "有三大类\n",
    "- 数学相关函数\n",
    "- 类型转化函数\n",
    "- 功能函数\n",
    "\n",
    "### 数学相关\n",
    "\n",
    "| 函数                        | 功能                                                         | 例子              | 运行结果    |\n",
    "| --------------------------- | ------------------------------------------------------------ | ----------------- | ----------- |\n",
    "| abs(a)                      | 对a取绝对值                                                  | abs(-1)           | 1           |\n",
    "| max(lst)、min(lst)          | 寻找lst中的最大、最小值                                      | max([3, 2, 9])    | 9           |\n",
    "| sum(lst)                    | 对lst内所有数字求和                                          | sum([3, 2, 9])    | 14          |\n",
    "| **sorted(lst， reverse)** | 对lst排序； 参数reverse为布尔值控制升降序                  | sorted([3, 2, 9]) | [2, 3, 9]   |\n",
    "| **range(start, end, step)** | 生成以步长step，生成从start到end的数列,默认step=1，结果取不到end | list(range(1,5))  | [1, 2, 3,4] |\n"
   ]
  },
  {
   "cell_type": "code",
   "execution_count": 155,
   "id": "a57b5910",
   "metadata": {},
   "outputs": [
    {
     "data": {
      "text/plain": [
       "1"
      ]
     },
     "execution_count": 155,
     "metadata": {},
     "output_type": "execute_result"
    }
   ],
   "source": [
    "#取绝对值\n",
    "abs(-1)"
   ]
  },
  {
   "cell_type": "code",
   "execution_count": 156,
   "id": "1945910e",
   "metadata": {},
   "outputs": [
    {
     "data": {
      "text/plain": [
       "9"
      ]
     },
     "execution_count": 156,
     "metadata": {},
     "output_type": "execute_result"
    }
   ],
   "source": [
    "#取最大\n",
    "max([3, 2, 9])"
   ]
  },
  {
   "cell_type": "code",
   "execution_count": 157,
   "id": "d05420d4",
   "metadata": {},
   "outputs": [
    {
     "data": {
      "text/plain": [
       "2"
      ]
     },
     "execution_count": 157,
     "metadata": {},
     "output_type": "execute_result"
    }
   ],
   "source": [
    "#取最小\n",
    "min([3, 2, 9])"
   ]
  },
  {
   "cell_type": "code",
   "execution_count": 158,
   "id": "2e4f8d51",
   "metadata": {},
   "outputs": [
    {
     "data": {
      "text/plain": [
       "14"
      ]
     },
     "execution_count": 158,
     "metadata": {},
     "output_type": "execute_result"
    }
   ],
   "source": [
    "#求和\n",
    "sum([3, 2, 9])"
   ]
  },
  {
   "cell_type": "code",
   "execution_count": 159,
   "id": "6f7c0a39",
   "metadata": {},
   "outputs": [
    {
     "data": {
      "text/plain": [
       "[2, 3, 9]"
      ]
     },
     "execution_count": 159,
     "metadata": {},
     "output_type": "execute_result"
    }
   ],
   "source": [
    "#排序\n",
    "sorted([3,2,9])"
   ]
  },
  {
   "cell_type": "code",
   "execution_count": 160,
   "id": "befb7b27",
   "metadata": {},
   "outputs": [
    {
     "data": {
      "text/plain": [
       "[9, 3, 2]"
      ]
     },
     "execution_count": 160,
     "metadata": {},
     "output_type": "execute_result"
    }
   ],
   "source": [
    "#排序(方向调整)\n",
    "sorted([3,2,9], reverse=True)"
   ]
  },
  {
   "cell_type": "code",
   "execution_count": 161,
   "id": "a25df1e5",
   "metadata": {},
   "outputs": [
    {
     "data": {
      "text/plain": [
       "[1, 2, 3, 4, 5, 6, 7, 8, 9]"
      ]
     },
     "execution_count": 161,
     "metadata": {},
     "output_type": "execute_result"
    }
   ],
   "source": [
    "#生成序列\n",
    "list(range(1, 10))"
   ]
  },
  {
   "cell_type": "code",
   "execution_count": 162,
   "id": "b40cf4b6",
   "metadata": {},
   "outputs": [
    {
     "data": {
      "text/plain": [
       "[1, 3, 5, 7, 9]"
      ]
     },
     "execution_count": 162,
     "metadata": {},
     "output_type": "execute_result"
    }
   ],
   "source": [
    "list(range(1, 10, 2))"
   ]
  },
  {
   "cell_type": "markdown",
   "id": "44392f41",
   "metadata": {},
   "source": [
    "\n",
    "### 类型转换\n",
    "\n",
    "| 函数               | 功能                                                       | 例子                             | 运行结果                      |\n",
    "| ------------------ | ---------------------------------------------------------- | -------------------------------- | ----------------------------- |\n",
    "| int(string)        | 将字符串数改为整数型                                       | int('9')                         | 9                             |\n",
    "| float(int/str)     | 将int或str改为浮点型                                       | float(9)、float('9')             | 9.0                           |\n",
    "| list(iterable)     | 将可迭代对象为列表。这里的iterable可以为字符串，可以是列表 | list(range(1,5))                      | ``[1,2,3,4] ``              |\n",
    "| enumerate(lst) | 返回带有索引值的序列seq,**需要list(seq)处理后才能看到seq** | list(enumerate(['a', 'b', 'c'])) | [(0,'a'), (1, 'b'), (2, 'c')] |\n",
    "| tuple(lst)         | 将lst变为tuple                                             | tuple([1,2,3])                   | (1,2,3)                       |\n",
    "| set(lst)           | 将lst变为集合                                              | set([1,4,4,4,3])                 | {1,3,4}                       |\n"
   ]
  },
  {
   "cell_type": "code",
   "execution_count": 163,
   "id": "2392f69e",
   "metadata": {},
   "outputs": [
    {
     "data": {
      "text/plain": [
       "18"
      ]
     },
     "execution_count": 163,
     "metadata": {},
     "output_type": "execute_result"
    }
   ],
   "source": [
    "a = 9\n",
    "b = 9\n",
    "\n",
    "a+b"
   ]
  },
  {
   "cell_type": "code",
   "execution_count": 164,
   "id": "d6b51933",
   "metadata": {},
   "outputs": [
    {
     "data": {
      "text/plain": [
       "9"
      ]
     },
     "execution_count": 164,
     "metadata": {},
     "output_type": "execute_result"
    }
   ],
   "source": [
    "#变转化为整数\n",
    "int('9')"
   ]
  },
  {
   "cell_type": "code",
   "execution_count": 165,
   "id": "56831d28",
   "metadata": {},
   "outputs": [
    {
     "data": {
      "text/plain": [
       "9.0"
      ]
     },
     "execution_count": 165,
     "metadata": {},
     "output_type": "execute_result"
    }
   ],
   "source": [
    "#转化为小数\n",
    "float('9')"
   ]
  },
  {
   "cell_type": "code",
   "execution_count": 166,
   "id": "a1b23ef7",
   "metadata": {},
   "outputs": [
    {
     "data": {
      "text/plain": [
       "9.0"
      ]
     },
     "execution_count": 166,
     "metadata": {},
     "output_type": "execute_result"
    }
   ],
   "source": [
    "float(9)"
   ]
  },
  {
   "cell_type": "code",
   "execution_count": 167,
   "id": "61c61af6",
   "metadata": {},
   "outputs": [
    {
     "data": {
      "text/plain": [
       "[1, 2, 3, 4]"
      ]
     },
     "execution_count": 167,
     "metadata": {},
     "output_type": "execute_result"
    }
   ],
   "source": [
    "#转化为列表\n",
    "list(range(1, 5))"
   ]
  },
  {
   "cell_type": "code",
   "execution_count": 168,
   "id": "59cb12da",
   "metadata": {},
   "outputs": [
    {
     "data": {
      "text/plain": [
       "[(0, '张三'), (1, '李四'), (2, '王五')]"
      ]
     },
     "execution_count": 168,
     "metadata": {},
     "output_type": "execute_result"
    }
   ],
   "source": [
    "#给列表中每个元素分配一个索引值\n",
    "names = ['张三', '李四', '王五']\n",
    "\n",
    "list(enumerate(names))"
   ]
  },
  {
   "cell_type": "markdown",
   "id": "70171b4c",
   "metadata": {},
   "source": [
    "\n",
    "### 功能函数\n",
    "\n",
    "| 函数  | 功能 | 例子 | 运行结果 |\n",
    "| --- | ---| --- | --- |\n",
    "| **eval(expression)** | 执行一个字符串表达式| eval('1+1')| 2  |\n",
    "| **zip(lst1,lst2...)**     | 将lst1,lst2...合并,返回zip对象。**需要list处理一下zip对象** | list(zip([1,2,3],[4,5,6]))  | [(1, 4), (2, 5), (3, 6)] |\n",
    "| **type(x)** | 查看X的类型 | type('2')  | <class 'str'>  |\n",
    "| **help(x)** | 查看X的相关信息 | help([1, 2]) | Help on list object..    |\n",
    "| **map(func, lst)**  | 对lst中的每一个个体都进行func操作| list(map(sum, [[1,1], [1,2]])) | [2, 3]                   |\n",
    "| **print(value, end='\\n')**| 打印value| print('abc')| abc |\n",
    "| **open(file， encoding)** | 打开file文件， encoding是file的文件编码 |  ||\n",
    "\n",
    "\n",
    "### eval()\n",
    "eval(str_expression)\n",
    "\n",
    "str_expression 是字符串表达式，可以是变量、函数等"
   ]
  },
  {
   "cell_type": "code",
   "execution_count": 169,
   "id": "fc59f2ae",
   "metadata": {},
   "outputs": [
    {
     "name": "stdout",
     "output_type": "stream",
     "text": [
      "18\n",
      "a+b\n",
      "18\n"
     ]
    }
   ],
   "source": [
    "a = 9\n",
    "b = 9\n",
    "c = 'a+b'\n",
    "\n",
    "print(a+b)\n",
    "print(c)\n",
    "print(eval(c))"
   ]
  },
  {
   "cell_type": "code",
   "execution_count": 170,
   "id": "1447981f",
   "metadata": {},
   "outputs": [
    {
     "data": {
      "text/plain": [
       "18"
      ]
     },
     "execution_count": 170,
     "metadata": {},
     "output_type": "execute_result"
    }
   ],
   "source": [
    "eval('a+b')"
   ]
  },
  {
   "cell_type": "code",
   "execution_count": 171,
   "id": "8447453f",
   "metadata": {},
   "outputs": [
    {
     "name": "stdout",
     "output_type": "stream",
     "text": [
      "d\n",
      "hello world\n"
     ]
    }
   ],
   "source": [
    "d = 'hello world'\n",
    "print('d')\n",
    "print(eval('d'))"
   ]
  },
  {
   "cell_type": "code",
   "execution_count": 172,
   "id": "27a20b3d",
   "metadata": {},
   "outputs": [
    {
     "name": "stdout",
     "output_type": "stream",
     "text": [
      "hello()\n"
     ]
    }
   ],
   "source": [
    "def hello():\n",
    "    print('hello python')\n",
    "    \n",
    "print('hello()')"
   ]
  },
  {
   "cell_type": "code",
   "execution_count": 173,
   "id": "4e3e71d2",
   "metadata": {},
   "outputs": [
    {
     "name": "stdout",
     "output_type": "stream",
     "text": [
      "hello python\n"
     ]
    }
   ],
   "source": [
    "eval('hello()')"
   ]
  },
  {
   "cell_type": "markdown",
   "id": "b6e5e292",
   "metadata": {},
   "source": [
    "### zip(lst1, lst2,lst3...)\n",
    "将lst1， lst2， lst3按照顺序进行合并"
   ]
  },
  {
   "cell_type": "code",
   "execution_count": 174,
   "id": "5f029e6e",
   "metadata": {},
   "outputs": [
    {
     "data": {
      "text/plain": [
       "[('David', 'male', 25),\n",
       " ('Mary', 'femal', 22),\n",
       " ('Henry', 'male', 30),\n",
       " ('Unique', 'male', 40)]"
      ]
     },
     "execution_count": 174,
     "metadata": {},
     "output_type": "execute_result"
    }
   ],
   "source": [
    "names = ['David', 'Mary', 'Henry', 'Unique']\n",
    "sexs = ['male', 'femal', 'male', 'male']\n",
    "ages = [25, 22, 30, 40]\n",
    "\n",
    "list(zip(names, sexs, ages))"
   ]
  },
  {
   "cell_type": "markdown",
   "id": "5ede1f5a",
   "metadata": {},
   "source": [
    "### type/help\n",
    "查看数据类型、查看感兴趣对象的介绍"
   ]
  },
  {
   "cell_type": "code",
   "execution_count": 175,
   "id": "365ae169",
   "metadata": {},
   "outputs": [
    {
     "data": {
      "text/plain": [
       "list"
      ]
     },
     "execution_count": 175,
     "metadata": {},
     "output_type": "execute_result"
    }
   ],
   "source": [
    "a = [1,3,5]\n",
    "type(a)"
   ]
  },
  {
   "cell_type": "code",
   "execution_count": 176,
   "id": "7f6d7376",
   "metadata": {},
   "outputs": [
    {
     "name": "stdout",
     "output_type": "stream",
     "text": [
      "Help on list object:\n",
      "\n",
      "class list(object)\n",
      " |  list(iterable=(), /)\n",
      " |  \n",
      " |  Built-in mutable sequence.\n",
      " |  \n",
      " |  If no argument is given, the constructor creates a new empty list.\n",
      " |  The argument must be an iterable if specified.\n",
      " |  \n",
      " |  Methods defined here:\n",
      " |  \n",
      " |  __add__(self, value, /)\n",
      " |      Return self+value.\n",
      " |  \n",
      " |  __contains__(self, key, /)\n",
      " |      Return key in self.\n",
      " |  \n",
      " |  __delitem__(self, key, /)\n",
      " |      Delete self[key].\n",
      " |  \n",
      " |  __eq__(self, value, /)\n",
      " |      Return self==value.\n",
      " |  \n",
      " |  __ge__(self, value, /)\n",
      " |      Return self>=value.\n",
      " |  \n",
      " |  __getattribute__(self, name, /)\n",
      " |      Return getattr(self, name).\n",
      " |  \n",
      " |  __getitem__(...)\n",
      " |      x.__getitem__(y) <==> x[y]\n",
      " |  \n",
      " |  __gt__(self, value, /)\n",
      " |      Return self>value.\n",
      " |  \n",
      " |  __iadd__(self, value, /)\n",
      " |      Implement self+=value.\n",
      " |  \n",
      " |  __imul__(self, value, /)\n",
      " |      Implement self*=value.\n",
      " |  \n",
      " |  __init__(self, /, *args, **kwargs)\n",
      " |      Initialize self.  See help(type(self)) for accurate signature.\n",
      " |  \n",
      " |  __iter__(self, /)\n",
      " |      Implement iter(self).\n",
      " |  \n",
      " |  __le__(self, value, /)\n",
      " |      Return self<=value.\n",
      " |  \n",
      " |  __len__(self, /)\n",
      " |      Return len(self).\n",
      " |  \n",
      " |  __lt__(self, value, /)\n",
      " |      Return self<value.\n",
      " |  \n",
      " |  __mul__(self, value, /)\n",
      " |      Return self*value.\n",
      " |  \n",
      " |  __ne__(self, value, /)\n",
      " |      Return self!=value.\n",
      " |  \n",
      " |  __repr__(self, /)\n",
      " |      Return repr(self).\n",
      " |  \n",
      " |  __reversed__(self, /)\n",
      " |      Return a reverse iterator over the list.\n",
      " |  \n",
      " |  __rmul__(self, value, /)\n",
      " |      Return value*self.\n",
      " |  \n",
      " |  __setitem__(self, key, value, /)\n",
      " |      Set self[key] to value.\n",
      " |  \n",
      " |  __sizeof__(self, /)\n",
      " |      Return the size of the list in memory, in bytes.\n",
      " |  \n",
      " |  append(self, object, /)\n",
      " |      Append object to the end of the list.\n",
      " |  \n",
      " |  clear(self, /)\n",
      " |      Remove all items from list.\n",
      " |  \n",
      " |  copy(self, /)\n",
      " |      Return a shallow copy of the list.\n",
      " |  \n",
      " |  count(self, value, /)\n",
      " |      Return number of occurrences of value.\n",
      " |  \n",
      " |  extend(self, iterable, /)\n",
      " |      Extend list by appending elements from the iterable.\n",
      " |  \n",
      " |  index(self, value, start=0, stop=9223372036854775807, /)\n",
      " |      Return first index of value.\n",
      " |      \n",
      " |      Raises ValueError if the value is not present.\n",
      " |  \n",
      " |  insert(self, index, object, /)\n",
      " |      Insert object before index.\n",
      " |  \n",
      " |  pop(self, index=-1, /)\n",
      " |      Remove and return item at index (default last).\n",
      " |      \n",
      " |      Raises IndexError if list is empty or index is out of range.\n",
      " |  \n",
      " |  remove(self, value, /)\n",
      " |      Remove first occurrence of value.\n",
      " |      \n",
      " |      Raises ValueError if the value is not present.\n",
      " |  \n",
      " |  reverse(self, /)\n",
      " |      Reverse *IN PLACE*.\n",
      " |  \n",
      " |  sort(self, /, *, key=None, reverse=False)\n",
      " |      Sort the list in ascending order and return None.\n",
      " |      \n",
      " |      The sort is in-place (i.e. the list itself is modified) and stable (i.e. the\n",
      " |      order of two equal elements is maintained).\n",
      " |      \n",
      " |      If a key function is given, apply it once to each list item and sort them,\n",
      " |      ascending or descending, according to their function values.\n",
      " |      \n",
      " |      The reverse flag can be set to sort in descending order.\n",
      " |  \n",
      " |  ----------------------------------------------------------------------\n",
      " |  Class methods defined here:\n",
      " |  \n",
      " |  __class_getitem__(...) from builtins.type\n",
      " |      See PEP 585\n",
      " |  \n",
      " |  ----------------------------------------------------------------------\n",
      " |  Static methods defined here:\n",
      " |  \n",
      " |  __new__(*args, **kwargs) from builtins.type\n",
      " |      Create and return a new object.  See help(type) for accurate signature.\n",
      " |  \n",
      " |  ----------------------------------------------------------------------\n",
      " |  Data and other attributes defined here:\n",
      " |  \n",
      " |  __hash__ = None\n",
      "\n"
     ]
    }
   ],
   "source": [
    "help(a)"
   ]
  },
  {
   "cell_type": "code",
   "execution_count": 177,
   "id": "00585e61",
   "metadata": {},
   "outputs": [
    {
     "data": {
      "text/plain": [
       "builtin_function_or_method"
      ]
     },
     "execution_count": 177,
     "metadata": {},
     "output_type": "execute_result"
    }
   ],
   "source": [
    "type(print)"
   ]
  },
  {
   "cell_type": "code",
   "execution_count": null,
   "id": "40dae4c2",
   "metadata": {},
   "outputs": [],
   "source": [
    "help(print)"
   ]
  },
  {
   "cell_type": "markdown",
   "id": "f60613fe",
   "metadata": {},
   "source": [
    "### map(func, lst)映射运算\n",
    "将func运算映射到lst上每个元素"
   ]
  },
  {
   "cell_type": "code",
   "execution_count": 178,
   "id": "9bbd27eb",
   "metadata": {},
   "outputs": [
    {
     "data": {
      "text/plain": [
       "[2, 3, 3, 3, 3, 3, 3]"
      ]
     },
     "execution_count": 178,
     "metadata": {},
     "output_type": "execute_result"
    }
   ],
   "source": [
    "lst = [[1,1], [1,2], [1,2], [1,2], [1,2], [1,2], [1,2]]\n",
    "\n",
    "res = map(sum, lst)\n",
    "list(res)"
   ]
  },
  {
   "cell_type": "markdown",
   "id": "5519cc8a",
   "metadata": {},
   "source": [
    "### print(value, end='\\n')\n",
    "打印value，默认使用换行结束"
   ]
  },
  {
   "cell_type": "code",
   "execution_count": 179,
   "id": "1572be02",
   "metadata": {},
   "outputs": [
    {
     "name": "stdout",
     "output_type": "stream",
     "text": [
      "Help on built-in function print in module builtins:\n",
      "\n",
      "print(...)\n",
      "    print(value, ..., sep=' ', end='\\n', file=sys.stdout, flush=False)\n",
      "    \n",
      "    Prints the values to a stream, or to sys.stdout by default.\n",
      "    Optional keyword arguments:\n",
      "    file:  a file-like object (stream); defaults to the current sys.stdout.\n",
      "    sep:   string inserted between values, default a space.\n",
      "    end:   string appended after the last value, default a newline.\n",
      "    flush: whether to forcibly flush the stream.\n",
      "\n"
     ]
    }
   ],
   "source": [
    "help(print)"
   ]
  },
  {
   "cell_type": "code",
   "execution_count": 180,
   "id": "2e6de3b5",
   "metadata": {},
   "outputs": [
    {
     "name": "stdout",
     "output_type": "stream",
     "text": [
      "hello world!\n",
      "hello python!\n"
     ]
    }
   ],
   "source": [
    "print('hello world!')\n",
    "print('hello python!')"
   ]
  },
  {
   "cell_type": "code",
   "execution_count": 181,
   "id": "3c02625b",
   "metadata": {},
   "outputs": [
    {
     "name": "stdout",
     "output_type": "stream",
     "text": [
      "hello world!\thello python!\n"
     ]
    }
   ],
   "source": [
    "print('hello world!', end='\\t')\n",
    "print('hello python!')"
   ]
  },
  {
   "cell_type": "markdown",
   "id": "0c453120",
   "metadata": {},
   "source": [
    "### open(file, mode='r', encoding=None)\n",
    "- file 文件路径\n",
    "- mode 操作方式们，最常用的是r和a+。r读取， a+是追加写入\n",
    "- encoding 编码方式 ，常见的文件编码方式主要是utf-8和gbk\n",
    "\n",
    "读取返回io对象\n",
    "\n",
    "io对象有read()方法\n",
    "\n",
    "\n",
    "### 相对路径VS绝对路径\n",
    "\n",
    "\n",
    "相对路径  data\n",
    "\n",
    "绝对路径 C:Users\\thunderhit\\Desktop\\Python数据分析入门\\02-Python语法入门\\data\n",
    "\n",
    "以后都要用相对路径"
   ]
  },
  {
   "cell_type": "code",
   "execution_count": 182,
   "id": "91589560",
   "metadata": {},
   "outputs": [
    {
     "data": {
      "text/plain": [
       "'章节设计\\n\\n第一部分  环境配置\\n第二部分  快速入门python\\n第三部分  网络爬虫\\n第四部分  简单的文本分析\\n第五部分  进阶文本分析'"
      ]
     },
     "execution_count": 182,
     "metadata": {},
     "output_type": "execute_result"
    }
   ],
   "source": [
    "# 读取数据\n",
    "open('data/test.txt', encoding='utf-8').read()"
   ]
  },
  {
   "cell_type": "code",
   "execution_count": 183,
   "id": "692a22a9",
   "metadata": {},
   "outputs": [],
   "source": [
    "# 新建文件/在已有的文件内插入内容\n",
    "f = open('data/test2.txt', mode='a+', encoding='utf-8')\n",
    "f.write('我在学python，现在是下午五点')\n",
    "f.close()"
   ]
  },
  {
   "cell_type": "code",
   "execution_count": 184,
   "id": "3c1a076c",
   "metadata": {},
   "outputs": [],
   "source": [
    "# 新建文件/在已有的文件内插入内容\n",
    "f = open('data/test2.txt', mode='a+', encoding='utf-8')\n",
    "f.write('\\nLife is short, so to learn Python')\n",
    "f.close()"
   ]
  },
  {
   "cell_type": "code",
   "execution_count": 185,
   "id": "47ed11e0",
   "metadata": {},
   "outputs": [],
   "source": [
    "# 新建文件/在已有的文件内插入内容\n",
    "f = open('data/test2.txt', mode='a+', encoding='utf-8')\n",
    "f.write('\\nLife is short, so to learn Python')\n",
    "f.write('\\nLife is short, so to learn music')\n",
    "f.write('\\nLife is short, so to learn english')\n",
    "f.close()"
   ]
  },
  {
   "cell_type": "markdown",
   "id": "0eb0d7e8",
   "metadata": {},
   "source": [
    "### 重点函数\n",
    "\n",
    "- [x] sorted(lst， ascending)\n",
    "- [x] range(start, end, step)\n",
    "- [x] enumerate(lst)\n",
    "- [x] eval(expression)\n",
    "- [x] zip(lst1, lst2..)\n",
    "- [x] map(func, lst)\n",
    "- [x] print(x)\n",
    "- [x] open(file, mode, encoding)\n",
    "\n",
    "## 内置库之文件路径pathlib库\n",
    "\n",
    "- 相对路径 ``'img'`` \n",
    "- 绝对路径  ``'C:/Users/thunderhit/Desktop/Python数据分析入门/02-Python语法入门/img'``"
   ]
  },
  {
   "cell_type": "code",
   "execution_count": 186,
   "id": "3daaec0e",
   "metadata": {},
   "outputs": [
    {
     "data": {
      "text/plain": [
       "WindowsPath('.')"
      ]
     },
     "execution_count": 186,
     "metadata": {},
     "output_type": "execute_result"
    }
   ],
   "source": [
    "import pathlib\n",
    "\n",
    "#当前代码所在的文件夹的相对路径\n",
    "pathlib.Path()"
   ]
  },
  {
   "cell_type": "code",
   "execution_count": 187,
   "id": "1b52856e",
   "metadata": {},
   "outputs": [
    {
     "data": {
      "text/plain": [
       "WindowsPath('.')"
      ]
     },
     "execution_count": 187,
     "metadata": {},
     "output_type": "execute_result"
    }
   ],
   "source": [
    "from pathlib import Path\n",
    "\n",
    "#当前代码所在的文件夹的相对路径\n",
    "Path()"
   ]
  },
  {
   "cell_type": "markdown",
   "id": "37691cb2",
   "metadata": {},
   "source": [
    "### pathlib.Path()属性方法\n",
    "|方法|功能|\n",
    "|:---|:---|\n",
    "|**cwd()**|获取代码所在的当前工作路径|\n",
    "|**joinpath(...grandpadir, fatherdir, ...file)**|生成路径|\n",
    "|**iterdir()**|返回某路径下的文件(夹)目录|\n",
    "|**glob(pattern)**|返回符合pattern的所有文件的文件路径|\n",
    "|is_file()|判断某路径是否为文件，返回布尔值|\n",
    "|is_dir()|判断某路径是否为文件夹，返回布尔值|\n",
    "|exists()|判断某路径是否存在，返回布尔值|\n",
    "|mkdir(parents=True, exist_ok=True)|创建某路径对应的文件夹|\n",
    "\n",
    "#### cwd() \n",
    "**例**：获取当前代码所在文件夹的绝对路径"
   ]
  },
  {
   "cell_type": "code",
   "execution_count": null,
   "id": "c5766136",
   "metadata": {},
   "outputs": [],
   "source": [
    "Path().cwd()"
   ]
  },
  {
   "cell_type": "markdown",
   "id": "c528e7f9",
   "metadata": {},
   "source": [
    "#### joinpath(...grandpadir, fatherdir, ...file)\n",
    "把...grandpadir, fatherdir, ...file加入到某路径中\n",
    "\n",
    "**例**：获得data文件夹的路径"
   ]
  },
  {
   "cell_type": "code",
   "execution_count": null,
   "id": "62b56ee2",
   "metadata": {},
   "outputs": [],
   "source": [
    "Path().cwd().joinpath('data')"
   ]
  },
  {
   "cell_type": "markdown",
   "id": "8f87c59e",
   "metadata": {},
   "source": [
    "**例**：获得data/test.txt文件的路径"
   ]
  },
  {
   "cell_type": "code",
   "execution_count": null,
   "id": "f6ef9cda",
   "metadata": {},
   "outputs": [],
   "source": [
    "Path().cwd().joinpath('data', 'test.txt')"
   ]
  },
  {
   "cell_type": "markdown",
   "id": "ba2f1aad",
   "metadata": {},
   "source": [
    "#### iterdir()\n",
    "返回某路径下的文件(夹)目录\n",
    "\n",
    "例：获得**02-Python语法入门**文件夹里的所有文件(夹)路径"
   ]
  },
  {
   "cell_type": "code",
   "execution_count": null,
   "id": "02b426bd",
   "metadata": {},
   "outputs": [],
   "source": [
    "list(Path().cwd().iterdir())"
   ]
  },
  {
   "cell_type": "markdown",
   "id": "979afff5",
   "metadata": {},
   "source": [
    "### glob(pattern)\n",
    "查找某路径内满足pattern的所有文件路径 。\n",
    "\n",
    "``pattern='*.*'`` 匹配任意格式任意名字的文件\n",
    "\n",
    "``pattern='*.txt'`` 匹配出所有的txt文件\n",
    "\n",
    "\n",
    "**例**：获得data文件夹内的所有的文件路径"
   ]
  },
  {
   "cell_type": "code",
   "execution_count": null,
   "id": "244bbff8",
   "metadata": {},
   "outputs": [],
   "source": [
    "list(Path().cwd().joinpath('data').glob('*.*'))"
   ]
  },
  {
   "cell_type": "markdown",
   "id": "41315c37",
   "metadata": {},
   "source": [
    "**例**：获得data文件夹内的所有的txt额路径"
   ]
  },
  {
   "cell_type": "code",
   "execution_count": null,
   "id": "1b3d5e6f",
   "metadata": {},
   "outputs": [],
   "source": [
    "list(Path().cwd().joinpath('data').glob('*.txt'))"
   ]
  },
  {
   "cell_type": "markdown",
   "id": "76ffa9fa",
   "metadata": {},
   "source": [
    "**例**：获得data/reports内的pdf路径"
   ]
  },
  {
   "cell_type": "code",
   "execution_count": null,
   "id": "73d8d87a",
   "metadata": {},
   "outputs": [],
   "source": [
    "dirs = Path().cwd().joinpath('data', 'reports').iterdir()\n",
    "dirs = list(dirs)\n",
    "for dir in dirs:\n",
    "    files = dir.glob('*.*')\n",
    "    for file in files:\n",
    "        print(file)"
   ]
  },
  {
   "cell_type": "markdown",
   "id": "813a2a4f",
   "metadata": {},
   "source": [
    "**例**：获得data/reports内的 含有\"_n\" 额pdf路径"
   ]
  },
  {
   "cell_type": "code",
   "execution_count": null,
   "id": "641d6fe5",
   "metadata": {},
   "outputs": [],
   "source": [
    "dirs = Path().cwd().joinpath('data', 'reports').iterdir()\n",
    "dirs = list(dirs)\n",
    "for dir in dirs:\n",
    "    files = dir.glob('*_n.pdf')\n",
    "    for file in files:\n",
    "        print(file)"
   ]
  },
  {
   "cell_type": "markdown",
   "id": "ddefb040",
   "metadata": {},
   "source": [
    "### is_file()\n",
    "判断某路径是否为一个文件。返回布尔值：\n",
    "- True 真实存在的文件路径\n",
    "- False 不真实存在或者文件夹路径\n",
    "\n",
    "**例** 'C:/Users/thunderhit/Desktop/Python数据分析入门/02-Python语法入门/data/test.txt'是文件路径？"
   ]
  },
  {
   "cell_type": "code",
   "execution_count": null,
   "id": "3d5d42af",
   "metadata": {},
   "outputs": [],
   "source": [
    "fpath = Path('C:/Users/thunderhit/Desktop/Python数据分析入门/02-Python语法入门/data/test.txt')\n",
    "fpath.is_file()"
   ]
  },
  {
   "cell_type": "code",
   "execution_count": null,
   "id": "208c0ebd",
   "metadata": {},
   "outputs": [],
   "source": [
    "fpath = Path('C:/Users/thunderhit/Desktop/Python数据分析入门/02-Python语法入门/data/test222.txt')\n",
    "fpath.is_file()"
   ]
  },
  {
   "cell_type": "markdown",
   "id": "0bebd24c",
   "metadata": {},
   "source": [
    "### is_dir()\n",
    "判断某路径是否为一个文件夹。返回布尔值，True、False\n",
    "\n",
    "**例**： 'C:/Users/thunderhit/Desktop/Python数据分析入门/02-Python语法入门/data' 是 文件夹路径？"
   ]
  },
  {
   "cell_type": "code",
   "execution_count": null,
   "id": "e4859adb",
   "metadata": {},
   "outputs": [],
   "source": [
    "fpath = Path('C:/Users/thunderhit/Desktop/Python数据分析入门/02-Python语法入门/data')\n",
    "fpath.is_dir()"
   ]
  },
  {
   "cell_type": "markdown",
   "id": "7bf4212c",
   "metadata": {},
   "source": [
    "### exists()\n",
    "判断某路径是否存在。返回布尔值，True、False\n",
    "\n",
    "\n",
    "例： 'C:/Users/thunderhit/Desktop/Python数据分析入门/02-Python语法入门/data' 是否存在？"
   ]
  },
  {
   "cell_type": "code",
   "execution_count": null,
   "id": "832d9fe8",
   "metadata": {},
   "outputs": [],
   "source": [
    "fpath = Path('C:/Users/thunderhit/Desktop/Python数据分析入门/02-Python语法入门/data')\n",
    "fpath.exists()"
   ]
  },
  {
   "cell_type": "code",
   "execution_count": null,
   "id": "d6084f94",
   "metadata": {},
   "outputs": [],
   "source": [
    "fpath = Path('C:/Users/thunderhit/Desktop/Python数据分析入门/02-Python语法入门/datasss')\n",
    "fpath.exists()"
   ]
  },
  {
   "cell_type": "markdown",
   "id": "e1f72a6a",
   "metadata": {},
   "source": [
    "### mkdir(parents=True, exist_ok=True)\n",
    "\n",
    "创建某路径"
   ]
  },
  {
   "cell_type": "code",
   "execution_count": null,
   "id": "e5da5d9d",
   "metadata": {},
   "outputs": [],
   "source": [
    "path = Path().cwd().joinpath('data', 'stocks', '800000')\n",
    "path.mkdir(parents=True, exist_ok=True)"
   ]
  },
  {
   "cell_type": "markdown",
   "id": "555cb614",
   "metadata": {},
   "source": [
    "## 内置库之csv文件库\n",
    "\n",
    "### csv存储数据代码步骤\n",
    "1. 新建一个csv文件\n",
    "\n",
    "```python\n",
    "import csv\n",
    "path = 'data/test.csv'\n",
    "csvf = open(path, 'a+', encoding='utf-8', newline='')\n",
    "```\n",
    "\n",
    "2. 定义字段名，并初始化csv文件为writer\n",
    "\n",
    "```python\n",
    "fieldnames = ['name', 'age']\n",
    "writer = csv.DictWriter(csvf, fieldnames=fieldnames)\n",
    "writer.writeheader()\n",
    "```\n",
    "\n",
    "3. 将待存储数据整理为字典格式\n",
    "\n",
    "```python\n",
    "test_data = {'name': 'David',\n",
    "             'age': 25}\n",
    "```\n",
    "\n",
    "4. 用writer往csv中存储数据\n",
    "\n",
    "```python\n",
    "writer.writerow(test_data)\n",
    "```\n",
    "\n",
    "5. 最后记得关闭csv文件\n",
    "\n",
    "```python\n",
    "csvf.close()\n",
    "```"
   ]
  },
  {
   "cell_type": "code",
   "execution_count": null,
   "id": "4a45fdc8",
   "metadata": {},
   "outputs": [],
   "source": [
    "import csv\n",
    "\n",
    "csvf = open('data/test1.csv', 'a+', encoding='utf-8', newline='')\n",
    "fieldnames = ['name', 'age']\n",
    "writer = csv.DictWriter(csvf, fieldnames=fieldnames)\n",
    "writer.writeheader()\n",
    "\n",
    "\n",
    "csvf.close()"
   ]
  },
  {
   "cell_type": "code",
   "execution_count": null,
   "id": "7cacad72",
   "metadata": {},
   "outputs": [],
   "source": [
    "import csv\n",
    "\n",
    "csvf = open('data/test2.csv', 'a+', encoding='utf-8', newline='')\n",
    "fieldnames = ['name', 'age']\n",
    "writer = csv.DictWriter(csvf, fieldnames=fieldnames)\n",
    "writer.writeheader()\n",
    "\n",
    "test_data = {'name': 'David',\n",
    "             'age': 25}\n",
    "writer.writerow(test_data)\n",
    "\n",
    "csvf.close()"
   ]
  },
  {
   "cell_type": "markdown",
   "id": "f165fc72",
   "metadata": {},
   "source": [
    "### 很多数据的存储"
   ]
  },
  {
   "cell_type": "code",
   "execution_count": 188,
   "id": "700f4f72",
   "metadata": {},
   "outputs": [
    {
     "data": {
      "text/plain": [
       "[{'name': 'David', 'age': 25},\n",
       " {'name': 'Mary', 'age': 30},\n",
       " {'name': 'Henry', 'age': 35}]"
      ]
     },
     "execution_count": 188,
     "metadata": {},
     "output_type": "execute_result"
    }
   ],
   "source": [
    "datas = [{'name': 'David', 'age': 25}, \n",
    "         {'name': 'Mary', 'age': 30},\n",
    "         {'name': 'Henry', 'age': 35}]\n",
    "\n",
    "datas"
   ]
  },
  {
   "cell_type": "code",
   "execution_count": 189,
   "id": "21f14720",
   "metadata": {},
   "outputs": [],
   "source": [
    "import csv\n",
    "\n",
    "csvf = open('data/test2.csv', 'a+', encoding='utf-8', newline='')\n",
    "fieldnames = ['name', 'age']\n",
    "writer = csv.DictWriter(csvf, fieldnames=fieldnames)\n",
    "writer.writeheader()\n",
    "\n",
    "for data in datas:\n",
    "    writer.writerow(data)\n",
    "\n",
    "csvf.close()"
   ]
  },
  {
   "cell_type": "markdown",
   "id": "aedbb3e3",
   "metadata": {},
   "source": [
    "## 内置库之正则表达式re库\n",
    "### 一、正则表达式中的符号\n",
    "\n",
    "按照符号的功能，我将其分为三类，一般情况下表达式都是由这三种符号组成的。\n",
    "\n",
    "### 1.1 正则字符\n",
    "|正则符号|描述|匹配自己时|\n",
    "|:---|:---|:---|\n",
    "|``\\``|\t转义字符。例如， 'n' 匹配字符 'n'。|``'\\n'``|\n",
    "|``( )``|标记一个子表达式的开始和结束位置。|``\\(   \\)``|\n",
    "|.|\t匹配除换行符 ``\\n`` 之外的任何单字符。|``\\. ``|\n",
    "|\\|| \\|左右两侧均可参与匹配|\n",
    "|\\d|匹配字符串中的单个数字||\n",
    "|a-zA-Z|匹配全部英文字符||\n",
    "|0-9|匹配全部数字||\n",
    "|``\\s``|匹配字符串中的``\\n``,``\\t``,``空格``||\n",
    "|``[]``| 中括号内任意正则符号均可参与匹配|``\\[   \\]``|\n",
    "|^|当在方括号表达式中使用，^对其后的正则表达式进行了反义表达。|``\\^``|\n",
    "\n",
    "\n",
    "### 1.2 限定字符\n",
    "\n",
    "|正则符号|描述|匹配自己时|\n",
    "|:---|:---|:---|\n",
    "|\\*|\t匹配前面的子表达式零次或多次。| ``\\*``|\n",
    "|?|\t匹配前面的子表达式零次或一次|\\\\?|\n",
    "|+|匹配前面的子表达式一次或多次。|``\\+``|\n",
    "|{m}|n 是一个非负整数。匹配确定的 m 次。|\n",
    "|{m,}|m 是一个非负整数。至少匹配m 次。|\n",
    "|{m, n}|\tm 和 n 均为非负整数，其中m <= n。最少匹配 m 次且最多匹配 n 次。|\n",
    "\n",
    "\n",
    "### 1.3 定位字符\n",
    "|正则符号|描述|匹配自己时|\n",
    "|:---|:---|:---|\n",
    "|^|匹配输入字符串的开始位置。|``\\^``|\n",
    "|$|匹配输入字符串的结尾位置|``\\$``|\n",
    "| \\b |匹配一个单词边界，即字与空格间的位置||\n",
    "| \\B|非单词边界匹配||\n",
    "\n",
    "\n",
    "### 二、re库常用方法\n",
    "\n",
    "|re库常用函数|作用|\n",
    "|:---|:---|\n",
    "|``re.findall(pattern, string)``|根据pattern返回匹配结果（列表）|\n",
    "|``re.split(pattern, string)`` |使用pattern分割string，返回列表        \n",
    "|``re.sub(pattern, repl, string)``|使用repl替换string中的pattern|\n",
    "\n",
    "\n",
    "### 三、只需要掌握\n",
    "- 搜索引擎检索到自己需要的正则表达式\n",
    "- 最简单最好用表达式``(.*?)``\n",
    "- 在[正则表达式测试网站]( http://c.runoob.com/front-end/854 )验证自己的正则表达式\n",
    "\n",
    "\n",
    "### 3.1 检索找到自己需要的正则表达式\n",
    "比如我只需要中文，其余字符统统不要。\n",
    "\n",
    "我会在百度搜**中文正则表达式**\n",
    "\n",
    "发现很多网页中网友提到````，于是\n",
    "\n",
    "``[\\u4e00-\\u9fa5]``"
   ]
  },
  {
   "cell_type": "code",
   "execution_count": null,
   "id": "ded7903a",
   "metadata": {},
   "outputs": [],
   "source": [
    "import re\n",
    "\n",
    "pattern = '[\\u4e00-\\u9fa5]+'\n",
    "\n",
    "string = \"\"\"Python是一门面向对象的编程语言，诞生于1991年。\\\n",
    "目前以广泛应用在网站开发、游戏软件开发、数据采集、机器学习等多个领域。\\\n",
    "一般情况下Python是Java的20%，所以说人生苦短，我用Python。\"\"\"\n",
    "\n",
    "chinese_words = re.findall(pattern, string)\n",
    "chinese_text = ''.join(chinese_words)\n",
    "chinese_text"
   ]
  },
  {
   "cell_type": "markdown",
   "id": "c11550a2",
   "metadata": {},
   "source": [
    "### 3.2 最简单最好用表达式(.*?)\n",
    "**pattern设计步骤：**\n",
    "\n",
    "**正则符号**组成**正则表达式**，用于**匹配**需要的字符。\n",
    "\n",
    "1. 找到重复的一致的规律\n",
    "2. 复制粘贴到pattern中\n",
    "3. 扣掉**想要的数据**\n",
    "4. 替换为``(.*?)``  或者``相应的正则符号表达式*``\n",
    "\n",
    "\n",
    "比如现在需要快速挖掘出intros中的姓名、籍贯和年龄"
   ]
  },
  {
   "cell_type": "code",
   "execution_count": null,
   "id": "a03c9ce0",
   "metadata": {},
   "outputs": [],
   "source": [
    "import re\n",
    "\n",
    "\n",
    "pattern = '我叫(.*?)，来自(.*?)，今年(.*?)岁。'\n",
    "\n",
    "intros = ['我叫张三，来自山东，今年25岁。',\n",
    "          '我叫李四，来自河北，今年28岁。',\n",
    "          '我叫王五，来自河南，今年24岁。']\n",
    "\n",
    "for intro in intros:\n",
    "    info = re.findall(pattern, intro)\n",
    "    print(info)"
   ]
  },
  {
   "cell_type": "markdown",
   "id": "fdea0ecb",
   "metadata": {},
   "source": [
    "**特别需要注意的是pattern中的(.*?)左右两侧必须有字符，否则匹配失败**"
   ]
  },
  {
   "cell_type": "code",
   "execution_count": null,
   "id": "f0b48367",
   "metadata": {},
   "outputs": [],
   "source": [
    "import re\n",
    "\n",
    "\n",
    "pattern = '(.*?)，来自(.*?)，今年(.*?)'\n",
    "\n",
    "intros = ['我叫张三，来自山东，今年25岁。',\n",
    "          '我叫李四，来自河北，今年28岁。',\n",
    "          '我叫王五，来自河南，今年24岁。']\n",
    "\n",
    "for intro in intros:\n",
    "    info = re.findall(pattern, intro)\n",
    "    print(info)"
   ]
  },
  {
   "cell_type": "markdown",
   "id": "222c9863",
   "metadata": {},
   "source": [
    "由于\n",
    "\n",
    "``'(.*?)，来自(.*?)，今年(.*?)'``\n",
    "\n",
    "中最左侧和最右侧的``(.*?)``没有被其他字符左右包裹，导致匹配姓名和年龄失败。"
   ]
  },
  {
   "cell_type": "code",
   "execution_count": null,
   "id": "602316ef",
   "metadata": {},
   "outputs": [],
   "source": [
    "import re\n",
    "\n",
    "\n",
    "pattern = '叫(.*?)，来自(.*?)，今年(.*?)岁'\n",
    "\n",
    "intros = ['我叫张三，来自山东，今年25岁。',\n",
    "          '我叫李四，来自河北，今年28岁。',\n",
    "          '我叫王五，来自河南，今年24岁。']\n",
    "\n",
    "for intro in intros:\n",
    "    info = re.findall(pattern, intro)\n",
    "    print(info)"
   ]
  },
  {
   "cell_type": "markdown",
   "id": "65cfca9f",
   "metadata": {},
   "source": [
    "### 四、案例 \n",
    "### 4.1 找出文本中出现的年份"
   ]
  },
  {
   "cell_type": "code",
   "execution_count": null,
   "id": "0f95f484",
   "metadata": {},
   "outputs": [],
   "source": [
    "import re\n",
    "\n",
    "\n",
    "pattern = '\\d{4}'\n",
    "string = \"\"\"Python是一门面向对象的编程语言，诞生于1991年。\\\n",
    "目前以广泛应用在网站开发、游戏软件开发、数据采集、机器学习等多个领域。\\\n",
    "一般情况下Python是Java的20%，所以说人生苦短，我用Python。\"\"\"\n",
    "\n",
    "re.findall(pattern, string)"
   ]
  },
  {
   "cell_type": "markdown",
   "id": "2960d11f",
   "metadata": {},
   "source": [
    "### 4.2 re.split(pattern, string)\n",
    "断句"
   ]
  },
  {
   "cell_type": "code",
   "execution_count": null,
   "id": "18756703",
   "metadata": {},
   "outputs": [],
   "source": [
    "pattern = '；|。'\n",
    "\n",
    "string = \"\"\"Python是一门面向对象的编程语言，诞生于1991年；\\\n",
    "目前以广泛应用在网站开发、游戏软件开发、数据采集、机器学习等多个领域。\\\n",
    "一般情况下Python是Java的20%，所以说人生苦短，我用Python。\"\"\"\n",
    "\n",
    "res = re.split(pattern, string)\n",
    "res = [r for r in res if r]\n",
    "res"
   ]
  },
  {
   "cell_type": "markdown",
   "id": "cb464dda",
   "metadata": {},
   "source": [
    "### 4.3 re.sub(pattern, repl, string)\n",
    "将数字替换为NUM"
   ]
  },
  {
   "cell_type": "code",
   "execution_count": null,
   "id": "042ca270",
   "metadata": {},
   "outputs": [],
   "source": [
    "pattern = '\\d+'\n",
    "\n",
    "repl = 'NUM'\n",
    "\n",
    "string = \"\"\"Python是一门面向对象的编程语言，诞生于1991年。\\\n",
    "一般情况下Python是Java的20%，所以说人生苦短，我用Python。\"\"\"\n",
    "\n",
    "re.sub(pattern, repl, string)"
   ]
  },
  {
   "cell_type": "markdown",
   "id": "ab526117",
   "metadata": {},
   "source": [
    "\n",
    "### 4.4 . 统一表达\n",
    "将指代同一个主体的不同表达词语统一为同一个词"
   ]
  },
  {
   "cell_type": "code",
   "execution_count": null,
   "id": "7c1377f8",
   "metadata": {},
   "outputs": [],
   "source": [
    "text = '中国铁路工程集团有限公司成立于1950年3月，总部位于北京。目前中国中铁已经发展成中国和亚洲最大的多功能综合型建设集团。'\n",
    "\n",
    "pattern = '中国铁路工程集团有限公司|中国中铁'\n",
    "\n",
    "repl = '中铁'\n",
    "\n",
    "re.sub(pattern, repl, text)"
   ]
  },
  {
   "cell_type": "code",
   "execution_count": null,
   "id": "50155708",
   "metadata": {},
   "outputs": [],
   "source": [
    "text = '中国铁路工程集团有限公司成立于1950年3月，总部位于北京。目前中国中铁已经发展成中国和亚洲最大的多功能综合型建设集团。'\n",
    "\n",
    "pattern = '[中国铁路工程集团有限公司|中国中铁]+'\n",
    "\n",
    "repl = '中铁'\n",
    "\n",
    "re.sub(pattern, repl, text)"
   ]
  },
  {
   "cell_type": "markdown",
   "id": "80de27e5",
   "metadata": {},
   "source": [
    "### 4.5 分割文本数据的章节\n",
    "\n",
    "一二三四五六七八九十零百"
   ]
  },
  {
   "cell_type": "code",
   "execution_count": null,
   "id": "f62baf18",
   "metadata": {},
   "outputs": [],
   "source": [
    "text = \"\"\" 第一篇 Python简介 第二篇 Python入门语法 第三篇 Python网络爬虫 第四篇 文本数据编码 第五篇 数据分析 第六篇 可视化\"\"\"\n",
    "\n",
    "pattern = '第[一二三四五六七八九十零百]+篇'\n",
    "\n",
    "res = re.split(pattern, text)\n",
    "res = [r.replace(' ', '') for r in res if ' '!=r]\n",
    "res"
   ]
  },
  {
   "cell_type": "markdown",
   "id": "fa5d0203",
   "metadata": {},
   "source": [
    "### 4.6 抽取出数字\n",
    "比如日期数据"
   ]
  },
  {
   "cell_type": "code",
   "execution_count": null,
   "id": "c8afa338",
   "metadata": {},
   "outputs": [],
   "source": [
    "text = '中国铁路工程集团有限公司成立于1950年3月，总部位于北京。目前中国中铁已经发展成中国和亚洲最大的多功能综合型建设集团。'\n",
    "\n",
    "pattern = '\\d+'\n",
    "\n",
    "'-'.join(re.findall(pattern, text))"
   ]
  },
  {
   "cell_type": "markdown",
   "id": "ddec907a",
   "metadata": {},
   "source": [
    "## 初学python常出错误汇总\n",
    "\n",
    "<h1>Table of Contents<span class=\"tocSkip\"></span></h1>\n",
    "<div class=\"toc\"><ul class=\"toc-item\"><li><span><a href=\"#1.-忘记写冒号\" data-toc-modified-id=\"1.-忘记写冒号-1\">1. 忘记写冒号</a></span></li><li><span><a href=\"#2.-误用-=\" data-toc-modified-id=\"2.-误用-=-2\">2. 误用 <code>=</code></a></span></li><li><span><a href=\"#3.-错误的缩进\" data-toc-modified-id=\"3.-错误的缩进-3\">3. 错误的缩进</a></span></li><li><span><a href=\"#4.-变量没有定义\" data-toc-modified-id=\"4.-变量没有定义-4\">4. 变量没有定义</a></span></li><li><span><a href=\"#5.-中英文输入法导致的错误\" data-toc-modified-id=\"5.-中英文输入法导致的错误-5\">5. 中英文输入法导致的错误</a></span></li><li><span><a href=\"#6.-不同数据类型的拼接\" data-toc-modified-id=\"6.-不同数据类型的拼接-6\">6. 不同数据类型的拼接</a></span></li><li><span><a href=\"#7.-索引位置问题\" data-toc-modified-id=\"7.-索引位置问题-7\">7. 索引位置问题</a></span></li><li><span><a href=\"#8.-使用字典中不存在的键\" data-toc-modified-id=\"8.-使用字典中不存在的键-8\">8. 使用字典中不存在的键</a></span></li><li><span><a href=\"#9.-忘了括号\" data-toc-modified-id=\"9.-忘了括号-9\">9. 忘了括号</a></span></li><li><span><a href=\"#10.-漏传参数\" data-toc-modified-id=\"10.-漏传参数-10\">10. 漏传参数</a></span></li><li><span><a href=\"#11.-缺失依赖库\" data-toc-modified-id=\"11.-缺失依赖库-11\">11. 缺失依赖库</a></span></li><li><span><a href=\"#12.-使用了python中的关键词\" data-toc-modified-id=\"12.-使用了python中的关键词-12\">12. 使用了python中的关键词</a></span></li><li><span><a href=\"#13.-文件编码问题\" data-toc-modified-id=\"13.-文件编码问题-13\">13. 文件编码问题</a></span></li></ul></div>"
   ]
  },
  {
   "cell_type": "markdown",
   "id": "516113f3",
   "metadata": {},
   "source": [
    "### 1. 忘记写冒号\n",
    "在 if、elif、else、for、while、def语句后面忘记添加 ``:``"
   ]
  },
  {
   "cell_type": "code",
   "execution_count": null,
   "id": "5b374e0c",
   "metadata": {},
   "outputs": [],
   "source": [
    "age = 42\n",
    "\n",
    "if age == 42\n",
    "    print('Hello!')"
   ]
  },
  {
   "cell_type": "code",
   "execution_count": null,
   "id": "bef2c47d",
   "metadata": {},
   "outputs": [],
   "source": [
    "age = 42\n",
    "\n",
    "if age == 42:\n",
    "    print('Hello!')"
   ]
  },
  {
   "cell_type": "markdown",
   "id": "f3c6d29b",
   "metadata": {},
   "source": [
    "### 2. 误用 ``=`` \n",
    "``=`` 是赋值操作，而判断两个值是否相等是 ``==``"
   ]
  },
  {
   "cell_type": "code",
   "execution_count": null,
   "id": "b295c7da",
   "metadata": {},
   "outputs": [],
   "source": [
    "gender = '男'\n",
    "\n",
    "if gender = '男':\n",
    "    print('Man')"
   ]
  },
  {
   "cell_type": "code",
   "execution_count": null,
   "id": "1ac3e35d",
   "metadata": {},
   "outputs": [],
   "source": [
    "gender = '男'\n",
    "\n",
    "if gender == '男':\n",
    "    print('Man')"
   ]
  },
  {
   "cell_type": "markdown",
   "id": "6ad64488",
   "metadata": {},
   "source": [
    "### 3. 错误的缩进\n",
    "\n",
    "Python用缩进区分代码块，常见的错误用法："
   ]
  },
  {
   "cell_type": "code",
   "execution_count": 190,
   "id": "eb11ef0e",
   "metadata": {},
   "outputs": [
    {
     "ename": "IndentationError",
     "evalue": "unexpected indent (Temp/ipykernel_10264/1063544861.py, line 2)",
     "output_type": "error",
     "traceback": [
      "\u001b[1;36m  File \u001b[1;32m\"C:\\Users\\K\\AppData\\Local\\Temp/ipykernel_10264/1063544861.py\"\u001b[1;36m, line \u001b[1;32m2\u001b[0m\n\u001b[1;33m    print('Howdy!')\u001b[0m\n\u001b[1;37m    ^\u001b[0m\n\u001b[1;31mIndentationError\u001b[0m\u001b[1;31m:\u001b[0m unexpected indent\n"
     ]
    }
   ],
   "source": [
    "print('Hello!')\n",
    " print('Howdy!')"
   ]
  },
  {
   "cell_type": "code",
   "execution_count": null,
   "id": "ab905039",
   "metadata": {},
   "outputs": [],
   "source": [
    "print('Hello!')\n",
    "print('Howdy!')"
   ]
  },
  {
   "cell_type": "code",
   "execution_count": 192,
   "id": "7dfc66fa",
   "metadata": {},
   "outputs": [
    {
     "ename": "IndentationError",
     "evalue": "expected an indented block (Temp/ipykernel_10264/496658320.py, line 3)",
     "output_type": "error",
     "traceback": [
      "\u001b[1;36m  File \u001b[1;32m\"C:\\Users\\K\\AppData\\Local\\Temp/ipykernel_10264/496658320.py\"\u001b[1;36m, line \u001b[1;32m3\u001b[0m\n\u001b[1;33m    print('Hello!')\u001b[0m\n\u001b[1;37m    ^\u001b[0m\n\u001b[1;31mIndentationError\u001b[0m\u001b[1;31m:\u001b[0m expected an indented block\n"
     ]
    }
   ],
   "source": [
    "num = 25\n",
    "if num == 25:\n",
    "print('Hello!')"
   ]
  },
  {
   "cell_type": "code",
   "execution_count": 191,
   "id": "1d495748",
   "metadata": {},
   "outputs": [
    {
     "name": "stdout",
     "output_type": "stream",
     "text": [
      "Hello!\n"
     ]
    }
   ],
   "source": [
    "num = 25\n",
    "if num == 25:\n",
    "    print('Hello!')"
   ]
  },
  {
   "cell_type": "markdown",
   "id": "350a2f5e",
   "metadata": {},
   "source": [
    "### 4. 变量没有定义"
   ]
  },
  {
   "cell_type": "code",
   "execution_count": 193,
   "id": "ee1ebe0b",
   "metadata": {},
   "outputs": [
    {
     "ename": "NameError",
     "evalue": "name 'ct' is not defined",
     "output_type": "error",
     "traceback": [
      "\u001b[1;31m---------------------------------------------------------------------------\u001b[0m",
      "\u001b[1;31mNameError\u001b[0m                                 Traceback (most recent call last)",
      "\u001b[1;32m~\\AppData\\Local\\Temp/ipykernel_10264/3754049698.py\u001b[0m in \u001b[0;36m<module>\u001b[1;34m\u001b[0m\n\u001b[1;32m----> 1\u001b[1;33m \u001b[1;32mif\u001b[0m \u001b[0mct\u001b[0m \u001b[1;32min\u001b[0m \u001b[1;33m[\u001b[0m\u001b[1;34m'New York'\u001b[0m\u001b[1;33m,\u001b[0m \u001b[1;34m'Bei Jing'\u001b[0m\u001b[1;33m,\u001b[0m \u001b[1;34m'Tokyo'\u001b[0m\u001b[1;33m]\u001b[0m\u001b[1;33m:\u001b[0m\u001b[1;33m\u001b[0m\u001b[1;33m\u001b[0m\u001b[0m\n\u001b[0m\u001b[0;32m      2\u001b[0m     \u001b[0mprint\u001b[0m\u001b[1;33m(\u001b[0m\u001b[1;34m'This is a mega city'\u001b[0m\u001b[1;33m)\u001b[0m\u001b[1;33m\u001b[0m\u001b[1;33m\u001b[0m\u001b[0m\n",
      "\u001b[1;31mNameError\u001b[0m: name 'ct' is not defined"
     ]
    }
   ],
   "source": [
    "if ct in ['New York', 'Bei Jing', 'Tokyo']:\n",
    "    print('This is a mega city')"
   ]
  },
  {
   "cell_type": "code",
   "execution_count": 194,
   "id": "ce27a45f",
   "metadata": {},
   "outputs": [
    {
     "name": "stdout",
     "output_type": "stream",
     "text": [
      "This is a mega city\n"
     ]
    }
   ],
   "source": [
    "city ='New York'\n",
    "if city in ['New York', 'Bei Jing', 'Tokyo']:\n",
    "    print('This is a mega city')"
   ]
  },
  {
   "cell_type": "markdown",
   "id": "1bdc2654",
   "metadata": {},
   "source": [
    "### 5. 中英文输入法导致的错误\n",
    "- 英文冒号\n",
    "- 英文括号\n",
    "- 英文逗号\n",
    "- 英文单双引号"
   ]
  },
  {
   "cell_type": "code",
   "execution_count": 195,
   "id": "332a9f20",
   "metadata": {},
   "outputs": [
    {
     "ename": "SyntaxError",
     "evalue": "invalid character '：' (U+FF1A) (Temp/ipykernel_10264/2342601262.py, line 1)",
     "output_type": "error",
     "traceback": [
      "\u001b[1;36m  File \u001b[1;32m\"C:\\Users\\K\\AppData\\Local\\Temp/ipykernel_10264/2342601262.py\"\u001b[1;36m, line \u001b[1;32m1\u001b[0m\n\u001b[1;33m    if 5>3：\u001b[0m\n\u001b[1;37m          ^\u001b[0m\n\u001b[1;31mSyntaxError\u001b[0m\u001b[1;31m:\u001b[0m invalid character '：' (U+FF1A)\n"
     ]
    }
   ],
   "source": [
    "if 5>3：\n",
    "    print('5比3大')"
   ]
  },
  {
   "cell_type": "code",
   "execution_count": null,
   "id": "552d600a",
   "metadata": {},
   "outputs": [],
   "source": [
    "if 5>3:\n",
    "    print('5比3大')"
   ]
  },
  {
   "cell_type": "code",
   "execution_count": null,
   "id": "7f000e27",
   "metadata": {},
   "outputs": [],
   "source": [
    "spam = [1, 2， 3]"
   ]
  },
  {
   "cell_type": "code",
   "execution_count": null,
   "id": "b06d9768",
   "metadata": {},
   "outputs": [],
   "source": [
    "if 5>3:\n",
    "    print('5比3大')"
   ]
  },
  {
   "cell_type": "markdown",
   "id": "e69cf04c",
   "metadata": {},
   "source": [
    "### 6. 不同数据类型的拼接\n",
    "\n",
    "同种数据类型  **字符串/列表/元组**   支持拼接\n",
    "\n",
    "**字典/集合**不支持拼接"
   ]
  },
  {
   "cell_type": "code",
   "execution_count": 196,
   "id": "6c7448e4",
   "metadata": {},
   "outputs": [
    {
     "ename": "TypeError",
     "evalue": "can only concatenate str (not \"int\") to str",
     "output_type": "error",
     "traceback": [
      "\u001b[1;31m---------------------------------------------------------------------------\u001b[0m",
      "\u001b[1;31mTypeError\u001b[0m                                 Traceback (most recent call last)",
      "\u001b[1;32m~\\AppData\\Local\\Temp/ipykernel_10264/4139271858.py\u001b[0m in \u001b[0;36m<module>\u001b[1;34m\u001b[0m\n\u001b[1;32m----> 1\u001b[1;33m \u001b[1;34m'I have '\u001b[0m \u001b[1;33m+\u001b[0m \u001b[1;36m12\u001b[0m \u001b[1;33m+\u001b[0m \u001b[1;34m' eggs.'\u001b[0m\u001b[1;33m\u001b[0m\u001b[1;33m\u001b[0m\u001b[0m\n\u001b[0m",
      "\u001b[1;31mTypeError\u001b[0m: can only concatenate str (not \"int\") to str"
     ]
    }
   ],
   "source": [
    "'I have ' + 12 + ' eggs.'"
   ]
  },
  {
   "cell_type": "code",
   "execution_count": 197,
   "id": "1947c510",
   "metadata": {},
   "outputs": [
    {
     "data": {
      "text/plain": [
       "'I have 12 eggs.'"
      ]
     },
     "execution_count": 197,
     "metadata": {},
     "output_type": "execute_result"
    }
   ],
   "source": [
    "'I have {} eggs.'.format(12)"
   ]
  },
  {
   "cell_type": "code",
   "execution_count": 198,
   "id": "9650c83b",
   "metadata": {},
   "outputs": [
    {
     "ename": "TypeError",
     "evalue": "can only concatenate list (not \"str\") to list",
     "output_type": "error",
     "traceback": [
      "\u001b[1;31m---------------------------------------------------------------------------\u001b[0m",
      "\u001b[1;31mTypeError\u001b[0m                                 Traceback (most recent call last)",
      "\u001b[1;32m~\\AppData\\Local\\Temp/ipykernel_10264/1228898207.py\u001b[0m in \u001b[0;36m<module>\u001b[1;34m\u001b[0m\n\u001b[1;32m----> 1\u001b[1;33m \u001b[1;33m[\u001b[0m\u001b[1;34m'a'\u001b[0m\u001b[1;33m,\u001b[0m \u001b[1;34m'b'\u001b[0m\u001b[1;33m,\u001b[0m \u001b[1;34m'c'\u001b[0m\u001b[1;33m]\u001b[0m\u001b[1;33m+\u001b[0m\u001b[1;34m'def'\u001b[0m\u001b[1;33m\u001b[0m\u001b[1;33m\u001b[0m\u001b[0m\n\u001b[0m",
      "\u001b[1;31mTypeError\u001b[0m: can only concatenate list (not \"str\") to list"
     ]
    }
   ],
   "source": [
    "['a', 'b', 'c']+'def'"
   ]
  },
  {
   "cell_type": "code",
   "execution_count": 199,
   "id": "f4f220f6",
   "metadata": {},
   "outputs": [
    {
     "ename": "TypeError",
     "evalue": "can only concatenate tuple (not \"list\") to tuple",
     "output_type": "error",
     "traceback": [
      "\u001b[1;31m---------------------------------------------------------------------------\u001b[0m",
      "\u001b[1;31mTypeError\u001b[0m                                 Traceback (most recent call last)",
      "\u001b[1;32m~\\AppData\\Local\\Temp/ipykernel_10264/3323286593.py\u001b[0m in \u001b[0;36m<module>\u001b[1;34m\u001b[0m\n\u001b[1;32m----> 1\u001b[1;33m \u001b[1;33m(\u001b[0m\u001b[1;34m'a'\u001b[0m\u001b[1;33m,\u001b[0m \u001b[1;34m'b'\u001b[0m\u001b[1;33m,\u001b[0m \u001b[1;34m'c'\u001b[0m\u001b[1;33m)\u001b[0m\u001b[1;33m+\u001b[0m\u001b[1;33m[\u001b[0m\u001b[1;34m'a'\u001b[0m\u001b[1;33m,\u001b[0m \u001b[1;34m'b'\u001b[0m\u001b[1;33m,\u001b[0m \u001b[1;34m'c'\u001b[0m\u001b[1;33m]\u001b[0m\u001b[1;33m\u001b[0m\u001b[1;33m\u001b[0m\u001b[0m\n\u001b[0m",
      "\u001b[1;31mTypeError\u001b[0m: can only concatenate tuple (not \"list\") to tuple"
     ]
    }
   ],
   "source": [
    "('a', 'b', 'c')+['a', 'b', 'c']"
   ]
  },
  {
   "cell_type": "code",
   "execution_count": 200,
   "id": "020ef6e0",
   "metadata": {},
   "outputs": [
    {
     "ename": "TypeError",
     "evalue": "unsupported operand type(s) for +: 'set' and 'set'",
     "output_type": "error",
     "traceback": [
      "\u001b[1;31m---------------------------------------------------------------------------\u001b[0m",
      "\u001b[1;31mTypeError\u001b[0m                                 Traceback (most recent call last)",
      "\u001b[1;32m~\\AppData\\Local\\Temp/ipykernel_10264/2208283358.py\u001b[0m in \u001b[0;36m<module>\u001b[1;34m\u001b[0m\n\u001b[1;32m----> 1\u001b[1;33m \u001b[0mset\u001b[0m\u001b[1;33m(\u001b[0m\u001b[1;33m[\u001b[0m\u001b[1;34m'a'\u001b[0m\u001b[1;33m,\u001b[0m \u001b[1;34m'b'\u001b[0m\u001b[1;33m,\u001b[0m \u001b[1;34m'c'\u001b[0m\u001b[1;33m]\u001b[0m\u001b[1;33m)\u001b[0m\u001b[1;33m+\u001b[0m\u001b[0mset\u001b[0m\u001b[1;33m(\u001b[0m\u001b[1;33m[\u001b[0m\u001b[1;34m'd'\u001b[0m\u001b[1;33m,\u001b[0m \u001b[1;34m'e'\u001b[0m\u001b[1;33m]\u001b[0m\u001b[1;33m)\u001b[0m\u001b[1;33m\u001b[0m\u001b[1;33m\u001b[0m\u001b[0m\n\u001b[0m",
      "\u001b[1;31mTypeError\u001b[0m: unsupported operand type(s) for +: 'set' and 'set'"
     ]
    }
   ],
   "source": [
    "set(['a', 'b', 'c'])+set(['d', 'e'])"
   ]
  },
  {
   "cell_type": "code",
   "execution_count": 201,
   "id": "0233bd5f",
   "metadata": {},
   "outputs": [
    {
     "ename": "TypeError",
     "evalue": "unsupported operand type(s) for +: 'dict' and 'dict'",
     "output_type": "error",
     "traceback": [
      "\u001b[1;31m---------------------------------------------------------------------------\u001b[0m",
      "\u001b[1;31mTypeError\u001b[0m                                 Traceback (most recent call last)",
      "\u001b[1;32m~\\AppData\\Local\\Temp/ipykernel_10264/2891193890.py\u001b[0m in \u001b[0;36m<module>\u001b[1;34m\u001b[0m\n\u001b[0;32m      2\u001b[0m \u001b[0mgrades2\u001b[0m \u001b[1;33m=\u001b[0m \u001b[1;33m{\u001b[0m\u001b[1;34m'David'\u001b[0m\u001b[1;33m:\u001b[0m\u001b[1;36m88\u001b[0m\u001b[1;33m,\u001b[0m \u001b[1;34m'Unique'\u001b[0m\u001b[1;33m:\u001b[0m\u001b[1;36m89\u001b[0m\u001b[1;33m}\u001b[0m\u001b[1;33m\u001b[0m\u001b[1;33m\u001b[0m\u001b[0m\n\u001b[0;32m      3\u001b[0m \u001b[1;33m\u001b[0m\u001b[0m\n\u001b[1;32m----> 4\u001b[1;33m \u001b[0mgrades1\u001b[0m\u001b[1;33m+\u001b[0m\u001b[0mgrades2\u001b[0m\u001b[1;33m\u001b[0m\u001b[1;33m\u001b[0m\u001b[0m\n\u001b[0m",
      "\u001b[1;31mTypeError\u001b[0m: unsupported operand type(s) for +: 'dict' and 'dict'"
     ]
    }
   ],
   "source": [
    "grades1 = {'Mary':99, 'Henry':77}\n",
    "grades2 = {'David':88, 'Unique':89}\n",
    "\n",
    "grades1+grades2"
   ]
  },
  {
   "cell_type": "markdown",
   "id": "49888bed",
   "metadata": {},
   "source": [
    "### 7. 索引位置问题"
   ]
  },
  {
   "cell_type": "code",
   "execution_count": 203,
   "id": "1a5898b0",
   "metadata": {},
   "outputs": [
    {
     "ename": "IndexError",
     "evalue": "list index out of range",
     "output_type": "error",
     "traceback": [
      "\u001b[1;31m---------------------------------------------------------------------------\u001b[0m",
      "\u001b[1;31mIndexError\u001b[0m                                Traceback (most recent call last)",
      "\u001b[1;32m~\\AppData\\Local\\Temp/ipykernel_10264/1565169658.py\u001b[0m in \u001b[0;36m<module>\u001b[1;34m\u001b[0m\n\u001b[0;32m      1\u001b[0m \u001b[0mspam\u001b[0m \u001b[1;33m=\u001b[0m \u001b[1;33m[\u001b[0m\u001b[1;34m'cat'\u001b[0m\u001b[1;33m,\u001b[0m \u001b[1;34m'dog'\u001b[0m\u001b[1;33m,\u001b[0m \u001b[1;34m'mouse'\u001b[0m\u001b[1;33m]\u001b[0m\u001b[1;33m\u001b[0m\u001b[1;33m\u001b[0m\u001b[0m\n\u001b[1;32m----> 2\u001b[1;33m \u001b[0mprint\u001b[0m\u001b[1;33m(\u001b[0m\u001b[0mspam\u001b[0m\u001b[1;33m[\u001b[0m\u001b[1;36m5\u001b[0m\u001b[1;33m]\u001b[0m\u001b[1;33m)\u001b[0m\u001b[1;33m\u001b[0m\u001b[1;33m\u001b[0m\u001b[0m\n\u001b[0m",
      "\u001b[1;31mIndexError\u001b[0m: list index out of range"
     ]
    }
   ],
   "source": [
    "spam = ['cat', 'dog', 'mouse']\n",
    "print(spam[5])"
   ]
  },
  {
   "cell_type": "markdown",
   "id": "423a9ed4",
   "metadata": {},
   "source": [
    "### 8. 使用字典中不存在的键\n",
    "在字典对象中访问 key 可以使用 ``[]``，\n",
    "\n",
    "但是如果该 key 不存在，就会导致：KeyError: 'zebra'"
   ]
  },
  {
   "cell_type": "code",
   "execution_count": 204,
   "id": "aea5e408",
   "metadata": {},
   "outputs": [
    {
     "ename": "KeyError",
     "evalue": "'zebra'",
     "output_type": "error",
     "traceback": [
      "\u001b[1;31m---------------------------------------------------------------------------\u001b[0m",
      "\u001b[1;31mKeyError\u001b[0m                                  Traceback (most recent call last)",
      "\u001b[1;32m~\\AppData\\Local\\Temp/ipykernel_10264/538569725.py\u001b[0m in \u001b[0;36m<module>\u001b[1;34m\u001b[0m\n\u001b[0;32m      3\u001b[0m         'mouse': 'Whiskers'}\n\u001b[0;32m      4\u001b[0m \u001b[1;33m\u001b[0m\u001b[0m\n\u001b[1;32m----> 5\u001b[1;33m \u001b[0mprint\u001b[0m\u001b[1;33m(\u001b[0m\u001b[0mspam\u001b[0m\u001b[1;33m[\u001b[0m\u001b[1;34m'zebra'\u001b[0m\u001b[1;33m]\u001b[0m\u001b[1;33m)\u001b[0m\u001b[1;33m\u001b[0m\u001b[1;33m\u001b[0m\u001b[0m\n\u001b[0m",
      "\u001b[1;31mKeyError\u001b[0m: 'zebra'"
     ]
    }
   ],
   "source": [
    "spam = {'cat': 'Zophie', \n",
    "        'dog': 'Basil', \n",
    "        'mouse': 'Whiskers'}\n",
    "\n",
    "print(spam['zebra'])"
   ]
  },
  {
   "cell_type": "code",
   "execution_count": 205,
   "id": "0ca8e267",
   "metadata": {},
   "outputs": [
    {
     "name": "stdout",
     "output_type": "stream",
     "text": [
      "None\n"
     ]
    }
   ],
   "source": [
    "spam = {'cat': 'Zophie', \n",
    "        'dog': 'Basil', \n",
    "        'mouse': 'Whiskers'}\n",
    "# 为了避免这种情况，可以使用 get 方法，key 不存在时，get 默认返回 None\n",
    "print(spam.get('zebra'))"
   ]
  },
  {
   "cell_type": "markdown",
   "id": "aabd536c",
   "metadata": {},
   "source": [
    "### 9. 忘了括号\n",
    "当函数中传入的是函数或者方法时，容易漏写括号"
   ]
  },
  {
   "cell_type": "code",
   "execution_count": 206,
   "id": "bc3cc074",
   "metadata": {},
   "outputs": [
    {
     "ename": "SyntaxError",
     "evalue": "unexpected EOF while parsing (Temp/ipykernel_10264/2572607692.py, line 5)",
     "output_type": "error",
     "traceback": [
      "\u001b[1;36m  File \u001b[1;32m\"C:\\Users\\K\\AppData\\Local\\Temp/ipykernel_10264/2572607692.py\"\u001b[1;36m, line \u001b[1;32m5\u001b[0m\n\u001b[1;33m    print(spam.get('zebra')  #end of funtion\u001b[0m\n\u001b[1;37m                                            ^\u001b[0m\n\u001b[1;31mSyntaxError\u001b[0m\u001b[1;31m:\u001b[0m unexpected EOF while parsing\n"
     ]
    }
   ],
   "source": [
    "spam = {'cat': 'Zophie', \n",
    "        'dog': 'Basil', \n",
    "        'mouse': 'Whiskers'}\n",
    "\n",
    "print(spam.get('zebra')  #end of funtion"
   ]
  },
  {
   "cell_type": "code",
   "execution_count": 207,
   "id": "ceb1c1ad",
   "metadata": {},
   "outputs": [
    {
     "name": "stdout",
     "output_type": "stream",
     "text": [
      "None\n"
     ]
    }
   ],
   "source": [
    "spam = {'cat': 'Zophie', \n",
    "        'dog': 'Basil', \n",
    "        'mouse': 'Whiskers'}\n",
    "\n",
    "print(spam.get('zebra')) "
   ]
  },
  {
   "cell_type": "markdown",
   "id": "60127b37",
   "metadata": {},
   "source": [
    "### 10. 漏传参数"
   ]
  },
  {
   "cell_type": "code",
   "execution_count": null,
   "id": "789df04c",
   "metadata": {},
   "outputs": [],
   "source": [
    "def diyadd(x, y, z):\n",
    "    return x+y+z\n",
    "\n",
    "diyadd(1, 2)"
   ]
  },
  {
   "cell_type": "code",
   "execution_count": null,
   "id": "76cec702",
   "metadata": {},
   "outputs": [],
   "source": [
    "diyadd(1, 2, 4)"
   ]
  },
  {
   "cell_type": "markdown",
   "id": "68d81851",
   "metadata": {},
   "source": [
    "### 11. 缺失依赖库\n",
    "电脑中没有相关的库"
   ]
  },
  {
   "cell_type": "code",
   "execution_count": null,
   "id": "f88e0313",
   "metadata": {},
   "outputs": [],
   "source": [
    "!pip install packagename"
   ]
  },
  {
   "cell_type": "markdown",
   "id": "f2ea812a",
   "metadata": {},
   "source": [
    "### 12. 使用了python中的关键词\n",
    "\n",
    "如try、except、def、class、object、None、True、False等"
   ]
  },
  {
   "cell_type": "code",
   "execution_count": 208,
   "id": "6bc4d6f6",
   "metadata": {},
   "outputs": [
    {
     "ename": "SyntaxError",
     "evalue": "invalid syntax (Temp/ipykernel_10264/3569836141.py, line 1)",
     "output_type": "error",
     "traceback": [
      "\u001b[1;36m  File \u001b[1;32m\"C:\\Users\\K\\AppData\\Local\\Temp/ipykernel_10264/3569836141.py\"\u001b[1;36m, line \u001b[1;32m1\u001b[0m\n\u001b[1;33m    try = 5\u001b[0m\n\u001b[1;37m        ^\u001b[0m\n\u001b[1;31mSyntaxError\u001b[0m\u001b[1;31m:\u001b[0m invalid syntax\n"
     ]
    }
   ],
   "source": [
    "try = 5\n",
    "print(try)"
   ]
  },
  {
   "cell_type": "code",
   "execution_count": 209,
   "id": "bd69f26e",
   "metadata": {},
   "outputs": [
    {
     "name": "stdout",
     "output_type": "stream",
     "text": [
      "5\n"
     ]
    }
   ],
   "source": [
    "a = 5\n",
    "print(a)"
   ]
  },
  {
   "cell_type": "code",
   "execution_count": 210,
   "id": "acccd147",
   "metadata": {},
   "outputs": [
    {
     "ename": "SyntaxError",
     "evalue": "invalid syntax (Temp/ipykernel_10264/723079031.py, line 1)",
     "output_type": "error",
     "traceback": [
      "\u001b[1;36m  File \u001b[1;32m\"C:\\Users\\K\\AppData\\Local\\Temp/ipykernel_10264/723079031.py\"\u001b[1;36m, line \u001b[1;32m1\u001b[0m\n\u001b[1;33m    def = 6\u001b[0m\n\u001b[1;37m        ^\u001b[0m\n\u001b[1;31mSyntaxError\u001b[0m\u001b[1;31m:\u001b[0m invalid syntax\n"
     ]
    }
   ],
   "source": [
    "def = 6\n",
    "print(def)"
   ]
  },
  {
   "cell_type": "code",
   "execution_count": 211,
   "id": "bf50c890",
   "metadata": {},
   "outputs": [
    {
     "name": "stdout",
     "output_type": "stream",
     "text": [
      "6\n"
     ]
    }
   ],
   "source": [
    "d = 6\n",
    "print(d)"
   ]
  },
  {
   "cell_type": "markdown",
   "id": "4fd86827",
   "metadata": {},
   "source": [
    "### 13. 文件编码问题"
   ]
  },
  {
   "cell_type": "code",
   "execution_count": 212,
   "id": "f2623e38",
   "metadata": {},
   "outputs": [
    {
     "ename": "UnicodeDecodeError",
     "evalue": "'utf-8' codec can't decode bytes in position 31589-31590: invalid continuation byte",
     "output_type": "error",
     "traceback": [
      "\u001b[1;31m---------------------------------------------------------------------------\u001b[0m",
      "\u001b[1;31mUnicodeDecodeError\u001b[0m                        Traceback (most recent call last)",
      "\u001b[1;32m~\\AppData\\Local\\Temp/ipykernel_10264/2402417499.py\u001b[0m in \u001b[0;36m<module>\u001b[1;34m\u001b[0m\n\u001b[0;32m      1\u001b[0m \u001b[1;32mimport\u001b[0m \u001b[0mpandas\u001b[0m \u001b[1;32mas\u001b[0m \u001b[0mpd\u001b[0m\u001b[1;33m\u001b[0m\u001b[1;33m\u001b[0m\u001b[0m\n\u001b[0;32m      2\u001b[0m \u001b[1;33m\u001b[0m\u001b[0m\n\u001b[1;32m----> 3\u001b[1;33m \u001b[0mdf\u001b[0m \u001b[1;33m=\u001b[0m \u001b[0mpd\u001b[0m\u001b[1;33m.\u001b[0m\u001b[0mread_csv\u001b[0m\u001b[1;33m(\u001b[0m\u001b[1;34m'data/twitter_sentiment.csv'\u001b[0m\u001b[1;33m)\u001b[0m\u001b[1;33m\u001b[0m\u001b[1;33m\u001b[0m\u001b[0m\n\u001b[0m\u001b[0;32m      4\u001b[0m \u001b[0mdf\u001b[0m\u001b[1;33m.\u001b[0m\u001b[0mhead\u001b[0m\u001b[1;33m(\u001b[0m\u001b[1;33m)\u001b[0m\u001b[1;33m\u001b[0m\u001b[1;33m\u001b[0m\u001b[0m\n",
      "\u001b[1;32m~\\anaconda3\\lib\\site-packages\\pandas\\util\\_decorators.py\u001b[0m in \u001b[0;36mwrapper\u001b[1;34m(*args, **kwargs)\u001b[0m\n\u001b[0;32m    309\u001b[0m                     \u001b[0mstacklevel\u001b[0m\u001b[1;33m=\u001b[0m\u001b[0mstacklevel\u001b[0m\u001b[1;33m,\u001b[0m\u001b[1;33m\u001b[0m\u001b[1;33m\u001b[0m\u001b[0m\n\u001b[0;32m    310\u001b[0m                 )\n\u001b[1;32m--> 311\u001b[1;33m             \u001b[1;32mreturn\u001b[0m \u001b[0mfunc\u001b[0m\u001b[1;33m(\u001b[0m\u001b[1;33m*\u001b[0m\u001b[0margs\u001b[0m\u001b[1;33m,\u001b[0m \u001b[1;33m**\u001b[0m\u001b[0mkwargs\u001b[0m\u001b[1;33m)\u001b[0m\u001b[1;33m\u001b[0m\u001b[1;33m\u001b[0m\u001b[0m\n\u001b[0m\u001b[0;32m    312\u001b[0m \u001b[1;33m\u001b[0m\u001b[0m\n\u001b[0;32m    313\u001b[0m         \u001b[1;32mreturn\u001b[0m \u001b[0mwrapper\u001b[0m\u001b[1;33m\u001b[0m\u001b[1;33m\u001b[0m\u001b[0m\n",
      "\u001b[1;32m~\\anaconda3\\lib\\site-packages\\pandas\\io\\parsers\\readers.py\u001b[0m in \u001b[0;36mread_csv\u001b[1;34m(filepath_or_buffer, sep, delimiter, header, names, index_col, usecols, squeeze, prefix, mangle_dupe_cols, dtype, engine, converters, true_values, false_values, skipinitialspace, skiprows, skipfooter, nrows, na_values, keep_default_na, na_filter, verbose, skip_blank_lines, parse_dates, infer_datetime_format, keep_date_col, date_parser, dayfirst, cache_dates, iterator, chunksize, compression, thousands, decimal, lineterminator, quotechar, quoting, doublequote, escapechar, comment, encoding, encoding_errors, dialect, error_bad_lines, warn_bad_lines, on_bad_lines, delim_whitespace, low_memory, memory_map, float_precision, storage_options)\u001b[0m\n\u001b[0;32m    584\u001b[0m     \u001b[0mkwds\u001b[0m\u001b[1;33m.\u001b[0m\u001b[0mupdate\u001b[0m\u001b[1;33m(\u001b[0m\u001b[0mkwds_defaults\u001b[0m\u001b[1;33m)\u001b[0m\u001b[1;33m\u001b[0m\u001b[1;33m\u001b[0m\u001b[0m\n\u001b[0;32m    585\u001b[0m \u001b[1;33m\u001b[0m\u001b[0m\n\u001b[1;32m--> 586\u001b[1;33m     \u001b[1;32mreturn\u001b[0m \u001b[0m_read\u001b[0m\u001b[1;33m(\u001b[0m\u001b[0mfilepath_or_buffer\u001b[0m\u001b[1;33m,\u001b[0m \u001b[0mkwds\u001b[0m\u001b[1;33m)\u001b[0m\u001b[1;33m\u001b[0m\u001b[1;33m\u001b[0m\u001b[0m\n\u001b[0m\u001b[0;32m    587\u001b[0m \u001b[1;33m\u001b[0m\u001b[0m\n\u001b[0;32m    588\u001b[0m \u001b[1;33m\u001b[0m\u001b[0m\n",
      "\u001b[1;32m~\\anaconda3\\lib\\site-packages\\pandas\\io\\parsers\\readers.py\u001b[0m in \u001b[0;36m_read\u001b[1;34m(filepath_or_buffer, kwds)\u001b[0m\n\u001b[0;32m    480\u001b[0m \u001b[1;33m\u001b[0m\u001b[0m\n\u001b[0;32m    481\u001b[0m     \u001b[1;31m# Create the parser.\u001b[0m\u001b[1;33m\u001b[0m\u001b[1;33m\u001b[0m\u001b[0m\n\u001b[1;32m--> 482\u001b[1;33m     \u001b[0mparser\u001b[0m \u001b[1;33m=\u001b[0m \u001b[0mTextFileReader\u001b[0m\u001b[1;33m(\u001b[0m\u001b[0mfilepath_or_buffer\u001b[0m\u001b[1;33m,\u001b[0m \u001b[1;33m**\u001b[0m\u001b[0mkwds\u001b[0m\u001b[1;33m)\u001b[0m\u001b[1;33m\u001b[0m\u001b[1;33m\u001b[0m\u001b[0m\n\u001b[0m\u001b[0;32m    483\u001b[0m \u001b[1;33m\u001b[0m\u001b[0m\n\u001b[0;32m    484\u001b[0m     \u001b[1;32mif\u001b[0m \u001b[0mchunksize\u001b[0m \u001b[1;32mor\u001b[0m \u001b[0miterator\u001b[0m\u001b[1;33m:\u001b[0m\u001b[1;33m\u001b[0m\u001b[1;33m\u001b[0m\u001b[0m\n",
      "\u001b[1;32m~\\anaconda3\\lib\\site-packages\\pandas\\io\\parsers\\readers.py\u001b[0m in \u001b[0;36m__init__\u001b[1;34m(self, f, engine, **kwds)\u001b[0m\n\u001b[0;32m    809\u001b[0m             \u001b[0mself\u001b[0m\u001b[1;33m.\u001b[0m\u001b[0moptions\u001b[0m\u001b[1;33m[\u001b[0m\u001b[1;34m\"has_index_names\"\u001b[0m\u001b[1;33m]\u001b[0m \u001b[1;33m=\u001b[0m \u001b[0mkwds\u001b[0m\u001b[1;33m[\u001b[0m\u001b[1;34m\"has_index_names\"\u001b[0m\u001b[1;33m]\u001b[0m\u001b[1;33m\u001b[0m\u001b[1;33m\u001b[0m\u001b[0m\n\u001b[0;32m    810\u001b[0m \u001b[1;33m\u001b[0m\u001b[0m\n\u001b[1;32m--> 811\u001b[1;33m         \u001b[0mself\u001b[0m\u001b[1;33m.\u001b[0m\u001b[0m_engine\u001b[0m \u001b[1;33m=\u001b[0m \u001b[0mself\u001b[0m\u001b[1;33m.\u001b[0m\u001b[0m_make_engine\u001b[0m\u001b[1;33m(\u001b[0m\u001b[0mself\u001b[0m\u001b[1;33m.\u001b[0m\u001b[0mengine\u001b[0m\u001b[1;33m)\u001b[0m\u001b[1;33m\u001b[0m\u001b[1;33m\u001b[0m\u001b[0m\n\u001b[0m\u001b[0;32m    812\u001b[0m \u001b[1;33m\u001b[0m\u001b[0m\n\u001b[0;32m    813\u001b[0m     \u001b[1;32mdef\u001b[0m \u001b[0mclose\u001b[0m\u001b[1;33m(\u001b[0m\u001b[0mself\u001b[0m\u001b[1;33m)\u001b[0m\u001b[1;33m:\u001b[0m\u001b[1;33m\u001b[0m\u001b[1;33m\u001b[0m\u001b[0m\n",
      "\u001b[1;32m~\\anaconda3\\lib\\site-packages\\pandas\\io\\parsers\\readers.py\u001b[0m in \u001b[0;36m_make_engine\u001b[1;34m(self, engine)\u001b[0m\n\u001b[0;32m   1038\u001b[0m             )\n\u001b[0;32m   1039\u001b[0m         \u001b[1;31m# error: Too many arguments for \"ParserBase\"\u001b[0m\u001b[1;33m\u001b[0m\u001b[1;33m\u001b[0m\u001b[0m\n\u001b[1;32m-> 1040\u001b[1;33m         \u001b[1;32mreturn\u001b[0m \u001b[0mmapping\u001b[0m\u001b[1;33m[\u001b[0m\u001b[0mengine\u001b[0m\u001b[1;33m]\u001b[0m\u001b[1;33m(\u001b[0m\u001b[0mself\u001b[0m\u001b[1;33m.\u001b[0m\u001b[0mf\u001b[0m\u001b[1;33m,\u001b[0m \u001b[1;33m**\u001b[0m\u001b[0mself\u001b[0m\u001b[1;33m.\u001b[0m\u001b[0moptions\u001b[0m\u001b[1;33m)\u001b[0m  \u001b[1;31m# type: ignore[call-arg]\u001b[0m\u001b[1;33m\u001b[0m\u001b[1;33m\u001b[0m\u001b[0m\n\u001b[0m\u001b[0;32m   1041\u001b[0m \u001b[1;33m\u001b[0m\u001b[0m\n\u001b[0;32m   1042\u001b[0m     \u001b[1;32mdef\u001b[0m \u001b[0m_failover_to_python\u001b[0m\u001b[1;33m(\u001b[0m\u001b[0mself\u001b[0m\u001b[1;33m)\u001b[0m\u001b[1;33m:\u001b[0m\u001b[1;33m\u001b[0m\u001b[1;33m\u001b[0m\u001b[0m\n",
      "\u001b[1;32m~\\anaconda3\\lib\\site-packages\\pandas\\io\\parsers\\c_parser_wrapper.py\u001b[0m in \u001b[0;36m__init__\u001b[1;34m(self, src, **kwds)\u001b[0m\n\u001b[0;32m     67\u001b[0m         \u001b[0mkwds\u001b[0m\u001b[1;33m[\u001b[0m\u001b[1;34m\"dtype\"\u001b[0m\u001b[1;33m]\u001b[0m \u001b[1;33m=\u001b[0m \u001b[0mensure_dtype_objs\u001b[0m\u001b[1;33m(\u001b[0m\u001b[0mkwds\u001b[0m\u001b[1;33m.\u001b[0m\u001b[0mget\u001b[0m\u001b[1;33m(\u001b[0m\u001b[1;34m\"dtype\"\u001b[0m\u001b[1;33m,\u001b[0m \u001b[1;32mNone\u001b[0m\u001b[1;33m)\u001b[0m\u001b[1;33m)\u001b[0m\u001b[1;33m\u001b[0m\u001b[1;33m\u001b[0m\u001b[0m\n\u001b[0;32m     68\u001b[0m         \u001b[1;32mtry\u001b[0m\u001b[1;33m:\u001b[0m\u001b[1;33m\u001b[0m\u001b[1;33m\u001b[0m\u001b[0m\n\u001b[1;32m---> 69\u001b[1;33m             \u001b[0mself\u001b[0m\u001b[1;33m.\u001b[0m\u001b[0m_reader\u001b[0m \u001b[1;33m=\u001b[0m \u001b[0mparsers\u001b[0m\u001b[1;33m.\u001b[0m\u001b[0mTextReader\u001b[0m\u001b[1;33m(\u001b[0m\u001b[0mself\u001b[0m\u001b[1;33m.\u001b[0m\u001b[0mhandles\u001b[0m\u001b[1;33m.\u001b[0m\u001b[0mhandle\u001b[0m\u001b[1;33m,\u001b[0m \u001b[1;33m**\u001b[0m\u001b[0mkwds\u001b[0m\u001b[1;33m)\u001b[0m\u001b[1;33m\u001b[0m\u001b[1;33m\u001b[0m\u001b[0m\n\u001b[0m\u001b[0;32m     70\u001b[0m         \u001b[1;32mexcept\u001b[0m \u001b[0mException\u001b[0m\u001b[1;33m:\u001b[0m\u001b[1;33m\u001b[0m\u001b[1;33m\u001b[0m\u001b[0m\n\u001b[0;32m     71\u001b[0m             \u001b[0mself\u001b[0m\u001b[1;33m.\u001b[0m\u001b[0mhandles\u001b[0m\u001b[1;33m.\u001b[0m\u001b[0mclose\u001b[0m\u001b[1;33m(\u001b[0m\u001b[1;33m)\u001b[0m\u001b[1;33m\u001b[0m\u001b[1;33m\u001b[0m\u001b[0m\n",
      "\u001b[1;32m~\\anaconda3\\lib\\site-packages\\pandas\\_libs\\parsers.pyx\u001b[0m in \u001b[0;36mpandas._libs.parsers.TextReader.__cinit__\u001b[1;34m()\u001b[0m\n",
      "\u001b[1;32m~\\anaconda3\\lib\\site-packages\\pandas\\_libs\\parsers.pyx\u001b[0m in \u001b[0;36mpandas._libs.parsers.TextReader._get_header\u001b[1;34m()\u001b[0m\n",
      "\u001b[1;32m~\\anaconda3\\lib\\site-packages\\pandas\\_libs\\parsers.pyx\u001b[0m in \u001b[0;36mpandas._libs.parsers.TextReader._tokenize_rows\u001b[1;34m()\u001b[0m\n",
      "\u001b[1;32m~\\anaconda3\\lib\\site-packages\\pandas\\_libs\\parsers.pyx\u001b[0m in \u001b[0;36mpandas._libs.parsers.raise_parser_error\u001b[1;34m()\u001b[0m\n",
      "\u001b[1;31mUnicodeDecodeError\u001b[0m: 'utf-8' codec can't decode bytes in position 31589-31590: invalid continuation byte"
     ]
    }
   ],
   "source": [
    "import pandas as pd\n",
    "\n",
    "df = pd.read_csv('data/twitter_sentiment.csv')\n",
    "df.head()"
   ]
  },
  {
   "cell_type": "code",
   "execution_count": 213,
   "id": "826fd225",
   "metadata": {},
   "outputs": [
    {
     "ename": "UnicodeDecodeError",
     "evalue": "'gbk' codec can't decode byte 0xbd in position 10864: illegal multibyte sequence",
     "output_type": "error",
     "traceback": [
      "\u001b[1;31m---------------------------------------------------------------------------\u001b[0m",
      "\u001b[1;31mUnicodeDecodeError\u001b[0m                        Traceback (most recent call last)",
      "\u001b[1;32m~\\AppData\\Local\\Temp/ipykernel_10264/1498823136.py\u001b[0m in \u001b[0;36m<module>\u001b[1;34m\u001b[0m\n\u001b[0;32m      2\u001b[0m \u001b[1;33m\u001b[0m\u001b[0m\n\u001b[0;32m      3\u001b[0m \u001b[1;31m#gbk/utf-8只能解决大部分编码问题，但不能解决全部问题\u001b[0m\u001b[1;33m\u001b[0m\u001b[1;33m\u001b[0m\u001b[0m\n\u001b[1;32m----> 4\u001b[1;33m \u001b[0mdf\u001b[0m \u001b[1;33m=\u001b[0m \u001b[0mpd\u001b[0m\u001b[1;33m.\u001b[0m\u001b[0mread_csv\u001b[0m\u001b[1;33m(\u001b[0m\u001b[1;34m'data/twitter_sentiment.csv'\u001b[0m\u001b[1;33m,\u001b[0m \u001b[0mencoding\u001b[0m\u001b[1;33m=\u001b[0m\u001b[1;34m'gbk'\u001b[0m\u001b[1;33m)\u001b[0m\u001b[1;33m\u001b[0m\u001b[1;33m\u001b[0m\u001b[0m\n\u001b[0m\u001b[0;32m      5\u001b[0m \u001b[0mdf\u001b[0m\u001b[1;33m.\u001b[0m\u001b[0mhead\u001b[0m\u001b[1;33m(\u001b[0m\u001b[1;33m)\u001b[0m\u001b[1;33m\u001b[0m\u001b[1;33m\u001b[0m\u001b[0m\n",
      "\u001b[1;32m~\\anaconda3\\lib\\site-packages\\pandas\\util\\_decorators.py\u001b[0m in \u001b[0;36mwrapper\u001b[1;34m(*args, **kwargs)\u001b[0m\n\u001b[0;32m    309\u001b[0m                     \u001b[0mstacklevel\u001b[0m\u001b[1;33m=\u001b[0m\u001b[0mstacklevel\u001b[0m\u001b[1;33m,\u001b[0m\u001b[1;33m\u001b[0m\u001b[1;33m\u001b[0m\u001b[0m\n\u001b[0;32m    310\u001b[0m                 )\n\u001b[1;32m--> 311\u001b[1;33m             \u001b[1;32mreturn\u001b[0m \u001b[0mfunc\u001b[0m\u001b[1;33m(\u001b[0m\u001b[1;33m*\u001b[0m\u001b[0margs\u001b[0m\u001b[1;33m,\u001b[0m \u001b[1;33m**\u001b[0m\u001b[0mkwargs\u001b[0m\u001b[1;33m)\u001b[0m\u001b[1;33m\u001b[0m\u001b[1;33m\u001b[0m\u001b[0m\n\u001b[0m\u001b[0;32m    312\u001b[0m \u001b[1;33m\u001b[0m\u001b[0m\n\u001b[0;32m    313\u001b[0m         \u001b[1;32mreturn\u001b[0m \u001b[0mwrapper\u001b[0m\u001b[1;33m\u001b[0m\u001b[1;33m\u001b[0m\u001b[0m\n",
      "\u001b[1;32m~\\anaconda3\\lib\\site-packages\\pandas\\io\\parsers\\readers.py\u001b[0m in \u001b[0;36mread_csv\u001b[1;34m(filepath_or_buffer, sep, delimiter, header, names, index_col, usecols, squeeze, prefix, mangle_dupe_cols, dtype, engine, converters, true_values, false_values, skipinitialspace, skiprows, skipfooter, nrows, na_values, keep_default_na, na_filter, verbose, skip_blank_lines, parse_dates, infer_datetime_format, keep_date_col, date_parser, dayfirst, cache_dates, iterator, chunksize, compression, thousands, decimal, lineterminator, quotechar, quoting, doublequote, escapechar, comment, encoding, encoding_errors, dialect, error_bad_lines, warn_bad_lines, on_bad_lines, delim_whitespace, low_memory, memory_map, float_precision, storage_options)\u001b[0m\n\u001b[0;32m    584\u001b[0m     \u001b[0mkwds\u001b[0m\u001b[1;33m.\u001b[0m\u001b[0mupdate\u001b[0m\u001b[1;33m(\u001b[0m\u001b[0mkwds_defaults\u001b[0m\u001b[1;33m)\u001b[0m\u001b[1;33m\u001b[0m\u001b[1;33m\u001b[0m\u001b[0m\n\u001b[0;32m    585\u001b[0m \u001b[1;33m\u001b[0m\u001b[0m\n\u001b[1;32m--> 586\u001b[1;33m     \u001b[1;32mreturn\u001b[0m \u001b[0m_read\u001b[0m\u001b[1;33m(\u001b[0m\u001b[0mfilepath_or_buffer\u001b[0m\u001b[1;33m,\u001b[0m \u001b[0mkwds\u001b[0m\u001b[1;33m)\u001b[0m\u001b[1;33m\u001b[0m\u001b[1;33m\u001b[0m\u001b[0m\n\u001b[0m\u001b[0;32m    587\u001b[0m \u001b[1;33m\u001b[0m\u001b[0m\n\u001b[0;32m    588\u001b[0m \u001b[1;33m\u001b[0m\u001b[0m\n",
      "\u001b[1;32m~\\anaconda3\\lib\\site-packages\\pandas\\io\\parsers\\readers.py\u001b[0m in \u001b[0;36m_read\u001b[1;34m(filepath_or_buffer, kwds)\u001b[0m\n\u001b[0;32m    480\u001b[0m \u001b[1;33m\u001b[0m\u001b[0m\n\u001b[0;32m    481\u001b[0m     \u001b[1;31m# Create the parser.\u001b[0m\u001b[1;33m\u001b[0m\u001b[1;33m\u001b[0m\u001b[0m\n\u001b[1;32m--> 482\u001b[1;33m     \u001b[0mparser\u001b[0m \u001b[1;33m=\u001b[0m \u001b[0mTextFileReader\u001b[0m\u001b[1;33m(\u001b[0m\u001b[0mfilepath_or_buffer\u001b[0m\u001b[1;33m,\u001b[0m \u001b[1;33m**\u001b[0m\u001b[0mkwds\u001b[0m\u001b[1;33m)\u001b[0m\u001b[1;33m\u001b[0m\u001b[1;33m\u001b[0m\u001b[0m\n\u001b[0m\u001b[0;32m    483\u001b[0m \u001b[1;33m\u001b[0m\u001b[0m\n\u001b[0;32m    484\u001b[0m     \u001b[1;32mif\u001b[0m \u001b[0mchunksize\u001b[0m \u001b[1;32mor\u001b[0m \u001b[0miterator\u001b[0m\u001b[1;33m:\u001b[0m\u001b[1;33m\u001b[0m\u001b[1;33m\u001b[0m\u001b[0m\n",
      "\u001b[1;32m~\\anaconda3\\lib\\site-packages\\pandas\\io\\parsers\\readers.py\u001b[0m in \u001b[0;36m__init__\u001b[1;34m(self, f, engine, **kwds)\u001b[0m\n\u001b[0;32m    809\u001b[0m             \u001b[0mself\u001b[0m\u001b[1;33m.\u001b[0m\u001b[0moptions\u001b[0m\u001b[1;33m[\u001b[0m\u001b[1;34m\"has_index_names\"\u001b[0m\u001b[1;33m]\u001b[0m \u001b[1;33m=\u001b[0m \u001b[0mkwds\u001b[0m\u001b[1;33m[\u001b[0m\u001b[1;34m\"has_index_names\"\u001b[0m\u001b[1;33m]\u001b[0m\u001b[1;33m\u001b[0m\u001b[1;33m\u001b[0m\u001b[0m\n\u001b[0;32m    810\u001b[0m \u001b[1;33m\u001b[0m\u001b[0m\n\u001b[1;32m--> 811\u001b[1;33m         \u001b[0mself\u001b[0m\u001b[1;33m.\u001b[0m\u001b[0m_engine\u001b[0m \u001b[1;33m=\u001b[0m \u001b[0mself\u001b[0m\u001b[1;33m.\u001b[0m\u001b[0m_make_engine\u001b[0m\u001b[1;33m(\u001b[0m\u001b[0mself\u001b[0m\u001b[1;33m.\u001b[0m\u001b[0mengine\u001b[0m\u001b[1;33m)\u001b[0m\u001b[1;33m\u001b[0m\u001b[1;33m\u001b[0m\u001b[0m\n\u001b[0m\u001b[0;32m    812\u001b[0m \u001b[1;33m\u001b[0m\u001b[0m\n\u001b[0;32m    813\u001b[0m     \u001b[1;32mdef\u001b[0m \u001b[0mclose\u001b[0m\u001b[1;33m(\u001b[0m\u001b[0mself\u001b[0m\u001b[1;33m)\u001b[0m\u001b[1;33m:\u001b[0m\u001b[1;33m\u001b[0m\u001b[1;33m\u001b[0m\u001b[0m\n",
      "\u001b[1;32m~\\anaconda3\\lib\\site-packages\\pandas\\io\\parsers\\readers.py\u001b[0m in \u001b[0;36m_make_engine\u001b[1;34m(self, engine)\u001b[0m\n\u001b[0;32m   1038\u001b[0m             )\n\u001b[0;32m   1039\u001b[0m         \u001b[1;31m# error: Too many arguments for \"ParserBase\"\u001b[0m\u001b[1;33m\u001b[0m\u001b[1;33m\u001b[0m\u001b[0m\n\u001b[1;32m-> 1040\u001b[1;33m         \u001b[1;32mreturn\u001b[0m \u001b[0mmapping\u001b[0m\u001b[1;33m[\u001b[0m\u001b[0mengine\u001b[0m\u001b[1;33m]\u001b[0m\u001b[1;33m(\u001b[0m\u001b[0mself\u001b[0m\u001b[1;33m.\u001b[0m\u001b[0mf\u001b[0m\u001b[1;33m,\u001b[0m \u001b[1;33m**\u001b[0m\u001b[0mself\u001b[0m\u001b[1;33m.\u001b[0m\u001b[0moptions\u001b[0m\u001b[1;33m)\u001b[0m  \u001b[1;31m# type: ignore[call-arg]\u001b[0m\u001b[1;33m\u001b[0m\u001b[1;33m\u001b[0m\u001b[0m\n\u001b[0m\u001b[0;32m   1041\u001b[0m \u001b[1;33m\u001b[0m\u001b[0m\n\u001b[0;32m   1042\u001b[0m     \u001b[1;32mdef\u001b[0m \u001b[0m_failover_to_python\u001b[0m\u001b[1;33m(\u001b[0m\u001b[0mself\u001b[0m\u001b[1;33m)\u001b[0m\u001b[1;33m:\u001b[0m\u001b[1;33m\u001b[0m\u001b[1;33m\u001b[0m\u001b[0m\n",
      "\u001b[1;32m~\\anaconda3\\lib\\site-packages\\pandas\\io\\parsers\\c_parser_wrapper.py\u001b[0m in \u001b[0;36m__init__\u001b[1;34m(self, src, **kwds)\u001b[0m\n\u001b[0;32m     67\u001b[0m         \u001b[0mkwds\u001b[0m\u001b[1;33m[\u001b[0m\u001b[1;34m\"dtype\"\u001b[0m\u001b[1;33m]\u001b[0m \u001b[1;33m=\u001b[0m \u001b[0mensure_dtype_objs\u001b[0m\u001b[1;33m(\u001b[0m\u001b[0mkwds\u001b[0m\u001b[1;33m.\u001b[0m\u001b[0mget\u001b[0m\u001b[1;33m(\u001b[0m\u001b[1;34m\"dtype\"\u001b[0m\u001b[1;33m,\u001b[0m \u001b[1;32mNone\u001b[0m\u001b[1;33m)\u001b[0m\u001b[1;33m)\u001b[0m\u001b[1;33m\u001b[0m\u001b[1;33m\u001b[0m\u001b[0m\n\u001b[0;32m     68\u001b[0m         \u001b[1;32mtry\u001b[0m\u001b[1;33m:\u001b[0m\u001b[1;33m\u001b[0m\u001b[1;33m\u001b[0m\u001b[0m\n\u001b[1;32m---> 69\u001b[1;33m             \u001b[0mself\u001b[0m\u001b[1;33m.\u001b[0m\u001b[0m_reader\u001b[0m \u001b[1;33m=\u001b[0m \u001b[0mparsers\u001b[0m\u001b[1;33m.\u001b[0m\u001b[0mTextReader\u001b[0m\u001b[1;33m(\u001b[0m\u001b[0mself\u001b[0m\u001b[1;33m.\u001b[0m\u001b[0mhandles\u001b[0m\u001b[1;33m.\u001b[0m\u001b[0mhandle\u001b[0m\u001b[1;33m,\u001b[0m \u001b[1;33m**\u001b[0m\u001b[0mkwds\u001b[0m\u001b[1;33m)\u001b[0m\u001b[1;33m\u001b[0m\u001b[1;33m\u001b[0m\u001b[0m\n\u001b[0m\u001b[0;32m     70\u001b[0m         \u001b[1;32mexcept\u001b[0m \u001b[0mException\u001b[0m\u001b[1;33m:\u001b[0m\u001b[1;33m\u001b[0m\u001b[1;33m\u001b[0m\u001b[0m\n\u001b[0;32m     71\u001b[0m             \u001b[0mself\u001b[0m\u001b[1;33m.\u001b[0m\u001b[0mhandles\u001b[0m\u001b[1;33m.\u001b[0m\u001b[0mclose\u001b[0m\u001b[1;33m(\u001b[0m\u001b[1;33m)\u001b[0m\u001b[1;33m\u001b[0m\u001b[1;33m\u001b[0m\u001b[0m\n",
      "\u001b[1;32m~\\anaconda3\\lib\\site-packages\\pandas\\_libs\\parsers.pyx\u001b[0m in \u001b[0;36mpandas._libs.parsers.TextReader.__cinit__\u001b[1;34m()\u001b[0m\n",
      "\u001b[1;32m~\\anaconda3\\lib\\site-packages\\pandas\\_libs\\parsers.pyx\u001b[0m in \u001b[0;36mpandas._libs.parsers.TextReader._get_header\u001b[1;34m()\u001b[0m\n",
      "\u001b[1;32m~\\anaconda3\\lib\\site-packages\\pandas\\_libs\\parsers.pyx\u001b[0m in \u001b[0;36mpandas._libs.parsers.TextReader._tokenize_rows\u001b[1;34m()\u001b[0m\n",
      "\u001b[1;32m~\\anaconda3\\lib\\site-packages\\pandas\\_libs\\parsers.pyx\u001b[0m in \u001b[0;36mpandas._libs.parsers.raise_parser_error\u001b[1;34m()\u001b[0m\n",
      "\u001b[1;31mUnicodeDecodeError\u001b[0m: 'gbk' codec can't decode byte 0xbd in position 10864: illegal multibyte sequence"
     ]
    }
   ],
   "source": [
    "import pandas as pd\n",
    "\n",
    "#gbk/utf-8只能解决大部分编码问题，但不能解决全部问题\n",
    "df = pd.read_csv('data/twitter_sentiment.csv', encoding='gbk')\n",
    "df.head()"
   ]
  },
  {
   "cell_type": "markdown",
   "id": "c4328597",
   "metadata": {},
   "source": [
    "### 那怎么找到正确的编码参数呢？\n",
    "\n",
    "上面的程序会提示编码错误， 尝试encoding编码参数传入utf-8、gbk，也没有解决问题。"
   ]
  },
  {
   "cell_type": "code",
   "execution_count": 214,
   "id": "19604637",
   "metadata": {},
   "outputs": [
    {
     "data": {
      "text/plain": [
       "{'encoding': 'Windows-1252', 'confidence': 0.7291192008535122, 'language': ''}"
      ]
     },
     "execution_count": 214,
     "metadata": {},
     "output_type": "execute_result"
    }
   ],
   "source": [
    "import chardet\n",
    "\n",
    "#读取为二进制数据\n",
    "binary_data = open('data/twitter_sentiment.csv', 'rb').read()\n",
    "\n",
    "#传给chardet.detect，稍等片刻\n",
    "chardet.detect(binary_data)"
   ]
  },
  {
   "cell_type": "code",
   "execution_count": 215,
   "id": "914e2073",
   "metadata": {},
   "outputs": [
    {
     "data": {
      "text/html": [
       "<div>\n",
       "<style scoped>\n",
       "    .dataframe tbody tr th:only-of-type {\n",
       "        vertical-align: middle;\n",
       "    }\n",
       "\n",
       "    .dataframe tbody tr th {\n",
       "        vertical-align: top;\n",
       "    }\n",
       "\n",
       "    .dataframe thead th {\n",
       "        text-align: right;\n",
       "    }\n",
       "</style>\n",
       "<table border=\"1\" class=\"dataframe\">\n",
       "  <thead>\n",
       "    <tr style=\"text-align: right;\">\n",
       "      <th></th>\n",
       "      <th>ItemID</th>\n",
       "      <th>Sentiment</th>\n",
       "      <th>SentimentText</th>\n",
       "    </tr>\n",
       "  </thead>\n",
       "  <tbody>\n",
       "    <tr>\n",
       "      <th>0</th>\n",
       "      <td>1</td>\n",
       "      <td>0</td>\n",
       "      <td>is so sad for my APL frie...</td>\n",
       "    </tr>\n",
       "    <tr>\n",
       "      <th>1</th>\n",
       "      <td>2</td>\n",
       "      <td>0</td>\n",
       "      <td>I missed the New Moon trail...</td>\n",
       "    </tr>\n",
       "    <tr>\n",
       "      <th>2</th>\n",
       "      <td>3</td>\n",
       "      <td>1</td>\n",
       "      <td>omg its already 7:30 :O</td>\n",
       "    </tr>\n",
       "    <tr>\n",
       "      <th>3</th>\n",
       "      <td>4</td>\n",
       "      <td>0</td>\n",
       "      <td>.. Omgaga. Im sooo  im gunna CRy. I'...</td>\n",
       "    </tr>\n",
       "    <tr>\n",
       "      <th>4</th>\n",
       "      <td>5</td>\n",
       "      <td>0</td>\n",
       "      <td>i think mi bf is cheating on me!!!   ...</td>\n",
       "    </tr>\n",
       "  </tbody>\n",
       "</table>\n",
       "</div>"
      ],
      "text/plain": [
       "   ItemID  Sentiment                                      SentimentText\n",
       "0       1          0                       is so sad for my APL frie...\n",
       "1       2          0                     I missed the New Moon trail...\n",
       "2       3          1                            omg its already 7:30 :O\n",
       "3       4          0            .. Omgaga. Im sooo  im gunna CRy. I'...\n",
       "4       5          0           i think mi bf is cheating on me!!!   ..."
      ]
     },
     "execution_count": 215,
     "metadata": {},
     "output_type": "execute_result"
    }
   ],
   "source": [
    "import pandas as pd\n",
    "\n",
    "\n",
    "df = pd.read_csv('data/twitter_sentiment.csv', encoding='Windows-1252')\n",
    "df.head()"
   ]
  },
  {
   "cell_type": "markdown",
   "id": "7805ea1b",
   "metadata": {},
   "source": [
    "### 14. 路径字符串写法\n",
    "\n",
    "- Mac&Win 推荐使用 ``/`` 写法\n",
    "- 如果使用``\\`` 写法，安全起见，请换成``\\\\``  （Mac不支持``\\\\`` ）\n",
    "\n",
    "\n",
    "```\n",
    "\\n\n",
    "\\t\n",
    "\\d\n",
    "```"
   ]
  },
  {
   "cell_type": "code",
   "execution_count": 216,
   "id": "b9e0b007",
   "metadata": {},
   "outputs": [
    {
     "data": {
      "text/plain": [
       "'章节设计\\n\\n第一部分  环境配置\\n第二部分  快速入门python\\n第三部分  网络爬虫\\n第四部分  简单的文本分析\\n第五部分  进阶文本分析'"
      ]
     },
     "execution_count": 216,
     "metadata": {},
     "output_type": "execute_result"
    }
   ],
   "source": [
    "open('data/test.txt', encoding='utf-8').read()"
   ]
  },
  {
   "cell_type": "code",
   "execution_count": 217,
   "id": "7af08f29",
   "metadata": {},
   "outputs": [
    {
     "ename": "OSError",
     "evalue": "[Errno 22] Invalid argument: 'data\\test.txt'",
     "output_type": "error",
     "traceback": [
      "\u001b[1;31m---------------------------------------------------------------------------\u001b[0m",
      "\u001b[1;31mOSError\u001b[0m                                   Traceback (most recent call last)",
      "\u001b[1;32m~\\AppData\\Local\\Temp/ipykernel_10264/2396048479.py\u001b[0m in \u001b[0;36m<module>\u001b[1;34m\u001b[0m\n\u001b[1;32m----> 1\u001b[1;33m \u001b[0mopen\u001b[0m\u001b[1;33m(\u001b[0m\u001b[1;34m'data\\test.txt'\u001b[0m\u001b[1;33m,\u001b[0m \u001b[0mencoding\u001b[0m\u001b[1;33m=\u001b[0m\u001b[1;34m'utf-8'\u001b[0m\u001b[1;33m)\u001b[0m\u001b[1;33m.\u001b[0m\u001b[0mread\u001b[0m\u001b[1;33m(\u001b[0m\u001b[1;33m)\u001b[0m\u001b[1;33m\u001b[0m\u001b[1;33m\u001b[0m\u001b[0m\n\u001b[0m",
      "\u001b[1;31mOSError\u001b[0m: [Errno 22] Invalid argument: 'data\\test.txt'"
     ]
    }
   ],
   "source": [
    "open('data\\test.txt', encoding='utf-8').read()"
   ]
  },
  {
   "cell_type": "code",
   "execution_count": 218,
   "id": "d9af457d",
   "metadata": {},
   "outputs": [
    {
     "data": {
      "text/plain": [
       "'章节设计\\n\\n第一部分  环境配置\\n第二部分  快速入门python\\n第三部分  网络爬虫\\n第四部分  简单的文本分析\\n第五部分  进阶文本分析'"
      ]
     },
     "execution_count": 218,
     "metadata": {},
     "output_type": "execute_result"
    }
   ],
   "source": [
    "open('data\\\\test.txt', encoding='utf-8').read()"
   ]
  },
  {
   "cell_type": "code",
   "execution_count": 219,
   "id": "6a661866",
   "metadata": {},
   "outputs": [
    {
     "data": {
      "text/plain": [
       "'章节设计\\n\\n第一部分  环境配置\\n第二部分  快速入门python\\n第三部分  网络爬虫\\n第四部分  简单的文本分析\\n第五部分  进阶文本分析'"
      ]
     },
     "execution_count": 219,
     "metadata": {},
     "output_type": "execute_result"
    }
   ],
   "source": [
    "open('data\\Test.txt', encoding='utf-8').read()"
   ]
  }
 ],
 "metadata": {
  "kernelspec": {
   "display_name": "Python 3 (ipykernel)",
   "language": "python",
   "name": "python3"
  },
  "language_info": {
   "codemirror_mode": {
    "name": "ipython",
    "version": 3
   },
   "file_extension": ".py",
   "mimetype": "text/x-python",
   "name": "python",
   "nbconvert_exporter": "python",
   "pygments_lexer": "ipython3",
   "version": "3.9.7"
  }
 },
 "nbformat": 4,
 "nbformat_minor": 5
}
